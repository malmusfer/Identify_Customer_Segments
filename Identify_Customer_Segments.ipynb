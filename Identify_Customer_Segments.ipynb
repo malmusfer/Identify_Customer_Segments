{
  "nbformat": 4,
  "nbformat_minor": 0,
  "metadata": {
    "accelerator": "GPU",
    "colab": {
      "name": "Identify_Customer_Segments.ipynb",
      "provenance": [],
      "include_colab_link": true
    },
    "kernelspec": {
      "display_name": "Python 3",
      "language": "python",
      "name": "python3"
    },
    "language_info": {
      "codemirror_mode": {
        "name": "ipython",
        "version": 3
      },
      "file_extension": ".py",
      "mimetype": "text/x-python",
      "name": "python",
      "nbconvert_exporter": "python",
      "pygments_lexer": "ipython3",
      "version": "3.7.4"
    }
  },
  "cells": [
    {
      "cell_type": "markdown",
      "metadata": {
        "id": "view-in-github",
        "colab_type": "text"
      },
      "source": [
        "<a href=\"https://colab.research.google.com/github/malmusfer/Identify_Customer_Segments/blob/main/Identify_Customer_Segments.ipynb\" target=\"_parent\"><img src=\"https://colab.research.google.com/assets/colab-badge.svg\" alt=\"Open In Colab\"/></a>"
      ]
    },
    {
      "cell_type": "markdown",
      "metadata": {
        "id": "7_EWwAx_INH5"
      },
      "source": [
        "![alt text](data:image/png;base64,iVBORw0KGgoAAAANSUhEUgAAAJcAAABPCAMAAADRLKcJAAAAeFBMVEX///8AsuTx+f0Ar+Pp9vz7/v8hteUxueYArOHPz9HK6fdUwOj2+/7k9PsAquGgoKTt7u/AwcN3f4WAzu2Z1vBkxerT7fj19faAgobc3t9CvOd5yuyN0u6s3fK54vTa8Pl1d3yrq61NVF4+SFNscHiLj5OWmJ20trlqCGW8AAAC0UlEQVRoge2Z23KjMAyGLQzYnBoI5AQNKdsmef83XMlAwil7tSi7M/5n6mKJjr+xZCdShbCysrJaX94fXH/wra2wjC4vXPuyDFlZnkp2EkDmSy63QpfecROR4k8pAVdX83h5BRiXdPixzmbh3F/gqn3arAKHmJtqX5o4ubGacV0i40qEZudyTWIpzGtnul8OJZb0KeXZuT5xRSnPBmPCVVDOtS5urlpSnPKWZsLlALqqjoaVKy5xOR25PciEywfY9xNWLhc3y39emHMu9bgbeLkwUoOp5bJclstyWS7LZbn+H67YB/8V1wcAXwk54RIl6MGmDLlcPX6Tl2sHclC+DrlqCYz145QLV6+WuZD4/D4ud1S9DrgcDdIVbJpy0bY8N2zAtQPOMFLFo0eGiwQdDryqPQa1Bv2qpbKKAD7GhhwrxqR7xqokMg97+aKhsprwYthPLY/iLNRt8EI0KVYs8SllMba4WDTKwlyhuam1Y2qZAHMvJ5Sz69JVGDW/uAgPCZOk8HGqGM9iK9ycemLydtSxAIUR9RX1n3TF38TEIPkzY0jtgV5avaWDudy73FeqpZKc1/xQeOimqW9ksh10zt4k7FXJJTDqioGOkoU/4FKEYLtxZsfUvZTwrtZ4JwLrriwjrzAtxKXo8qptZVbni+M5l3OlabOqN3TFZzINaZBaf2htnl7+44NbdQlSdjcDRG9OrJGSOo9KVUZ5zf6hY2VlZWVl9S/qcJhZ0qHXm7+wnrIMhxut/9Vstllr+9X6tptme6J5gN8Sm+a72eC3xh+E+1ofMCCUDXEd8edKGOK6Mb+O/W4RF2GaMd2K1s3JdWrM4N3I9dO/M+IS2XWzPtYS1+3efB9ecz3ta+pEW/MlxDOOh22QBvduIg5zriMHl2hu2dWk+zG7XwnnHjxI79k1eBeXSIM2v9PTyRyz9DGIU2As3f3QH4NUWFlZWf19/QbV0iIDxsjqHwAAAABJRU5ErkJggg== \"Udacity\") ![alt text](https://www.miskacademy.edu.sa/app/themes/misk-academy/images/logos.png \"Misk\") \n",
        "\n",
        "\n",
        "\n",
        "\n",
        "# Data Scientist Nanodegree\n",
        "## Supervised Learning\n",
        "## Project: Identify Customer Segments\n",
        "## by: Almutairi, Muhanned\n",
        "![alt text](data:image/png;base64,iVBORw0KGgoAAAANSUhEUgAAACAAAAAgCAYAAABzenr0AAACtklEQVR4AeyVA5AkQRREZ862bTMcZ9u2wzrbtm3bWNvmaW3b3rzKRa+NOWVEDoqvqv//LZPtUpoubC2cLIxKMveyku1UmkYAG2EoyFYESFEgQIos346dX7K7YiFyN8iFB17Sxx4NRxzVdcbYO6aotke5cgB42sFXDGDjF4FM+UbGY+5TK9FXKQBKOKTtjNz68CMAdQ+oVjyAXPicoRtyS8M5GA0PqRGwgm9gxxdMf2SBkNhEZCoxORXbVH9CXllBWHOvCla9sQNPbegRit3qDmhyWL1SYkCKA7kIxvoH1MBrr5KZllJ/IWnK3zskZ/SXEIDB1vm0trAO6K5ndNCYN5DRz9tgWxdhfnc8pQ2madXdSmDb7CeWWPfOHite22LoDWMegiDFj4GJ983hFBLD9IOPcEB0AjZ8+S6daIeaAwJFG/v8ouJh4ROB3uf1sFHpB34GRSMmMRlJKalISE5hLEHJIRCjbptAXlyAmY8tEZ2QjOzaK4qSbHs6AItTdhHwvpU3N0ZB+hYQhcGXDTi//AFSUtNPW5SY3lX3KJc7gKSwuESYeIXByDMM4XFJyC1bv0i0PKbJoCx/ALewWMwSwccApZe9skFwTAKyiXEjPYZyBziq48zUlVK09j4VvLL3Q3ZFxCdh/D0z7lG+AHFJKVj03DrHwhxHqOzimjMeWZQ/QKQ42ZQH5jkW5u896o7IJmYJa0T5A/BqJ+S6Wv7eqebwH+A/QOUBTMwHYFdpAaY9tACrVqyYECPMOr9d1UF6Gx7QcgLb2McxfCOOu2uaB2CLyk/EJ6WPo4PEmtOLqgOsZK2Pa4IDSUvPeWKFXud1pRre94Ie5jy1kvqnC+AWxzTYn2Odnud0MSdjDM0i1ObXOvDVBQjNEFciMJrhKHJwH5FmDgIPfNds4DuniO75P3r6HNY9BwATNI1Cu+uNpgAAAABJRU5ErkJggg== \"LinkedIn profile\")[LinkedIn profile](https://www.linkedin.com/in/muhanned-almutairi-5bb1a5a0/)"
      ]
    },
    {
      "cell_type": "markdown",
      "metadata": {
        "id": "Qm54iYACM7Ii"
      },
      "source": [
        "## Introduction\n",
        "\n",
        "In this project, you will apply unsupervised learning techniques to identify segments of the population that form the core customer base for a mail-order sales company in Germany. These segments can then be used to direct marketing campaigns towards audiences that will have the highest expected rate of returns. The data that you will use has been provided by our partners at Bertelsmann Arvato Analytics, and represents a real-life data science task.\n",
        "\n",
        "This notebook will help you complete this task by providing a framework within which you will perform your analysis steps. In each step of the project, you will see some text describing the subtask that you will perform, followed by one or more code cells for you to complete your work. **Feel free to add additional code and markdown cells as you go along so that you can explore everything in precise chunks.** The code cells provided in the base template will outline only the major tasks, and will usually not be enough to cover all of the minor tasks that comprise it.\n",
        "\n",
        "It should be noted that while there will be precise guidelines on how you should handle certain tasks in the project, there will also be places where an exact specification is not provided. **There will be times in the project where you will need to make and justify your own decisions on how to treat the data.** These are places where there may not be only one way to handle the data. In real-life tasks, there may be many valid ways to approach an analysis task. One of the most important things you can do is clearly document your approach so that other scientists can understand the decisions you've made.\n",
        "\n",
        "At the end of most sections, there will be a Markdown cell labeled **Discussion**. In these cells, you will report your findings for the completed section, as well as document the decisions that you made in your approach to each subtask. **Your project will be evaluated not just on the code used to complete the tasks outlined, but also your communication about your observations and conclusions at each stage.**"
      ]
    },
    {
      "cell_type": "code",
      "metadata": {
        "colab": {
          "base_uri": "https://localhost:8080/",
          "height": 52
        },
        "id": "dfcXMWqkM7Ik",
        "outputId": "4ef15eea-3de8-4440-afc2-0b5284e966d8"
      },
      "source": [
        "# import libraries here; add more as necessary\n",
        "import numpy as np\n",
        "import pandas as pd\n",
        "import matplotlib.pyplot as plt\n",
        "import seaborn as sns\n",
        "from sklearn.impute import SimpleImputer\n",
        "from sklearn.preprocessing import StandardScaler\n",
        "from sklearn.decomposition import PCA\n",
        "from sklearn.cluster import KMeans\n",
        "\n",
        "# magic word for producing visualizations in notebook\n",
        "%matplotlib inline\n",
        "\n",
        "'''\n",
        "Import note: The classroom currently uses sklearn version 0.19.\n",
        "If you need to use an imputer, it is available in sklearn.preprocessing.Imputer,\n",
        "instead of sklearn.impute as in newer versions of sklearn.\n",
        "'''"
      ],
      "execution_count": null,
      "outputs": [
        {
          "output_type": "execute_result",
          "data": {
            "text/plain": [
              "'\\nImport note: The classroom currently uses sklearn version 0.19.\\nIf you need to use an imputer, it is available in sklearn.preprocessing.Imputer,\\ninstead of sklearn.impute as in newer versions of sklearn.\\n'"
            ]
          },
          "metadata": {
            "tags": []
          },
          "execution_count": 1
        }
      ]
    },
    {
      "cell_type": "markdown",
      "metadata": {
        "id": "TtvOHCCwM7Iq"
      },
      "source": [
        "### Step 0: Load the Data\n",
        "\n",
        "There are four files associated with this project (not including this one):\n",
        "\n",
        "- `Udacity_AZDIAS_Subset.csv`: Demographics data for the general population of Germany; 891211 persons (rows) x 85 features (columns).\n",
        "- `Udacity_CUSTOMERS_Subset.csv`: Demographics data for customers of a mail-order company; 191652 persons (rows) x 85 features (columns).\n",
        "- `Data_Dictionary.md`: Detailed information file about the features in the provided datasets.\n",
        "- `AZDIAS_Feature_Summary.csv`: Summary of feature attributes for demographics data; 85 features (rows) x 4 columns\n",
        "\n",
        "Each row of the demographics files represents a single person, but also includes information outside of individuals, including information about their household, building, and neighborhood. You will use this information to cluster the general population into groups with similar demographic properties. Then, you will see how the people in the customers dataset fit into those created clusters. The hope here is that certain clusters are over-represented in the customers data, as compared to the general population; those over-represented clusters will be assumed to be part of the core userbase. This information can then be used for further applications, such as targeting for a marketing campaign.\n",
        "\n",
        "To start off with, load in the demographics data for the general population into a pandas DataFrame, and do the same for the feature attributes summary. Note for all of the `.csv` data files in this project: they're semicolon (`;`) delimited, so you'll need an additional argument in your [`read_csv()`](https://pandas.pydata.org/pandas-docs/stable/generated/pandas.read_csv.html) call to read in the data properly. Also, considering the size of the main dataset, it may take some time for it to load completely.\n",
        "\n",
        "Once the dataset is loaded, it's recommended that you take a little bit of time just browsing the general structure of the dataset and feature summary file. You'll be getting deep into the innards of the cleaning in the first major step of the project, so gaining some general familiarity can help you get your bearings."
      ]
    },
    {
      "cell_type": "code",
      "metadata": {
        "id": "ojN6dCLmM7Ir"
      },
      "source": [
        "# Load in the general demographics data.\n",
        "azdias = pd.read_csv('Udacity_AZDIAS_Subset.csv', sep=';')\n",
        "\n",
        "# Load in the feature summary file.\n",
        "feat_info = pd.read_csv('AZDIAS_Feature_Summary.csv', sep=';')"
      ],
      "execution_count": null,
      "outputs": []
    },
    {
      "cell_type": "code",
      "metadata": {
        "colab": {
          "base_uri": "https://localhost:8080/"
        },
        "id": "RlSCuQimM7Ix",
        "outputId": "f6ca0a8b-3dc9-4073-c0e4-3a69a7af8ecf"
      },
      "source": [
        "# Check the structure of the data after it's loaded (e.g. print the number of\n",
        "# rows and columns, print the first few rows).\n",
        "azdias.shape"
      ],
      "execution_count": null,
      "outputs": [
        {
          "output_type": "execute_result",
          "data": {
            "text/plain": [
              "(297305, 85)"
            ]
          },
          "metadata": {
            "tags": []
          },
          "execution_count": 3
        }
      ]
    },
    {
      "cell_type": "code",
      "metadata": {
        "colab": {
          "base_uri": "https://localhost:8080/",
          "height": 1000
        },
        "id": "qNbSsXbJNYbB",
        "outputId": "643abf30-d1ea-4d01-a32d-032b2c121f2f"
      },
      "source": [
        "azdias.info()\n",
        "azdias.head(5)"
      ],
      "execution_count": null,
      "outputs": [
        {
          "output_type": "stream",
          "text": [
            "<class 'pandas.core.frame.DataFrame'>\n",
            "RangeIndex: 297305 entries, 0 to 297304\n",
            "Data columns (total 85 columns):\n",
            "AGER_TYP                 297305 non-null int64\n",
            "ALTERSKATEGORIE_GROB     297305 non-null int64\n",
            "ANREDE_KZ                297305 non-null int64\n",
            "CJT_GESAMTTYP            295668 non-null float64\n",
            "FINANZ_MINIMALIST        297305 non-null int64\n",
            "FINANZ_SPARER            297305 non-null int64\n",
            "FINANZ_VORSORGER         297305 non-null int64\n",
            "FINANZ_ANLEGER           297305 non-null int64\n",
            "FINANZ_UNAUFFAELLIGER    297305 non-null int64\n",
            "FINANZ_HAUSBAUER         297305 non-null int64\n",
            "FINANZTYP                297305 non-null int64\n",
            "GEBURTSJAHR              297305 non-null int64\n",
            "GFK_URLAUBERTYP          295668 non-null float64\n",
            "GREEN_AVANTGARDE         297305 non-null int64\n",
            "HEALTH_TYP               297305 non-null int64\n",
            "LP_LEBENSPHASE_FEIN      295668 non-null float64\n",
            "LP_LEBENSPHASE_GROB      295668 non-null float64\n",
            "LP_FAMILIE_FEIN          295668 non-null float64\n",
            "LP_FAMILIE_GROB          295668 non-null float64\n",
            "LP_STATUS_FEIN           295668 non-null float64\n",
            "LP_STATUS_GROB           295668 non-null float64\n",
            "NATIONALITAET_KZ         297305 non-null int64\n",
            "PRAEGENDE_JUGENDJAHRE    297305 non-null int64\n",
            "RETOURTYP_BK_S           295668 non-null float64\n",
            "SEMIO_SOZ                297305 non-null int64\n",
            "SEMIO_FAM                297305 non-null int64\n",
            "SEMIO_REL                297305 non-null int64\n",
            "SEMIO_MAT                297305 non-null int64\n",
            "SEMIO_VERT               297305 non-null int64\n",
            "SEMIO_LUST               297305 non-null int64\n",
            "SEMIO_ERL                297305 non-null int64\n",
            "SEMIO_KULT               297305 non-null int64\n",
            "SEMIO_RAT                297305 non-null int64\n",
            "SEMIO_KRIT               297305 non-null int64\n",
            "SEMIO_DOM                297305 non-null int64\n",
            "SEMIO_KAEM               297305 non-null int64\n",
            "SEMIO_PFLICHT            297305 non-null int64\n",
            "SEMIO_TRADV              297305 non-null int64\n",
            "SHOPPER_TYP              297305 non-null int64\n",
            "SOHO_KZ                  272615 non-null float64\n",
            "TITEL_KZ                 272615 non-null float64\n",
            "VERS_TYP                 297305 non-null int64\n",
            "ZABEOTYP                 297305 non-null int64\n",
            "ALTER_HH                 272615 non-null float64\n",
            "ANZ_PERSONEN             272615 non-null float64\n",
            "ANZ_TITEL                272615 non-null float64\n",
            "HH_EINKOMMEN_SCORE       291278 non-null float64\n",
            "KK_KUNDENTYP             102475 non-null float64\n",
            "W_KEIT_KIND_HH           261276 non-null float64\n",
            "WOHNDAUER_2008           272615 non-null float64\n",
            "ANZ_HAUSHALTE_AKTIV      266172 non-null float64\n",
            "ANZ_HH_TITEL             264879 non-null float64\n",
            "GEBAEUDETYP              266172 non-null float64\n",
            "KONSUMNAEHE              272447 non-null float64\n",
            "MIN_GEBAEUDEJAHR         266172 non-null float64\n",
            "OST_WEST_KZ              266172 non-null object\n",
            "WOHNLAGE                 266172 non-null float64\n",
            "CAMEO_DEUG_2015          264429 non-null object\n",
            "CAMEO_DEU_2015           264429 non-null object\n",
            "CAMEO_INTL_2015          264429 non-null object\n",
            "KBA05_ANTG1              253221 non-null float64\n",
            "KBA05_ANTG2              253221 non-null float64\n",
            "KBA05_ANTG3              253221 non-null float64\n",
            "KBA05_ANTG4              253221 non-null float64\n",
            "KBA05_BAUMAX             253221 non-null float64\n",
            "KBA05_GBZ                253221 non-null float64\n",
            "BALLRAUM                 266003 non-null float64\n",
            "EWDICHTE                 266003 non-null float64\n",
            "INNENSTADT               266003 non-null float64\n",
            "GEBAEUDETYP_RASTER       266166 non-null float64\n",
            "KKK                      257095 non-null float64\n",
            "MOBI_REGIO               253221 non-null float64\n",
            "ONLINE_AFFINITAET        295668 non-null float64\n",
            "REGIOTYP                 257095 non-null float64\n",
            "KBA13_ANZAHL_PKW         262211 non-null float64\n",
            "PLZ8_ANTG1               258821 non-null float64\n",
            "PLZ8_ANTG2               258821 non-null float64\n",
            "PLZ8_ANTG3               258820 non-null float64\n",
            "PLZ8_ANTG4               258820 non-null float64\n",
            "PLZ8_BAUMAX              258820 non-null float64\n",
            "PLZ8_HHZ                 258820 non-null float64\n",
            "PLZ8_GBZ                 258820 non-null float64\n",
            "ARBEIT                   264774 non-null float64\n",
            "ORTSGR_KLS9              264774 non-null float64\n",
            "RELAT_AB                 264774 non-null float64\n",
            "dtypes: float64(49), int64(32), object(4)\n",
            "memory usage: 192.8+ MB\n"
          ],
          "name": "stdout"
        },
        {
          "output_type": "execute_result",
          "data": {
            "text/html": [
              "<div>\n",
              "<style scoped>\n",
              "    .dataframe tbody tr th:only-of-type {\n",
              "        vertical-align: middle;\n",
              "    }\n",
              "\n",
              "    .dataframe tbody tr th {\n",
              "        vertical-align: top;\n",
              "    }\n",
              "\n",
              "    .dataframe thead th {\n",
              "        text-align: right;\n",
              "    }\n",
              "</style>\n",
              "<table border=\"1\" class=\"dataframe\">\n",
              "  <thead>\n",
              "    <tr style=\"text-align: right;\">\n",
              "      <th></th>\n",
              "      <th>AGER_TYP</th>\n",
              "      <th>ALTERSKATEGORIE_GROB</th>\n",
              "      <th>ANREDE_KZ</th>\n",
              "      <th>CJT_GESAMTTYP</th>\n",
              "      <th>FINANZ_MINIMALIST</th>\n",
              "      <th>FINANZ_SPARER</th>\n",
              "      <th>FINANZ_VORSORGER</th>\n",
              "      <th>FINANZ_ANLEGER</th>\n",
              "      <th>FINANZ_UNAUFFAELLIGER</th>\n",
              "      <th>FINANZ_HAUSBAUER</th>\n",
              "      <th>...</th>\n",
              "      <th>PLZ8_ANTG1</th>\n",
              "      <th>PLZ8_ANTG2</th>\n",
              "      <th>PLZ8_ANTG3</th>\n",
              "      <th>PLZ8_ANTG4</th>\n",
              "      <th>PLZ8_BAUMAX</th>\n",
              "      <th>PLZ8_HHZ</th>\n",
              "      <th>PLZ8_GBZ</th>\n",
              "      <th>ARBEIT</th>\n",
              "      <th>ORTSGR_KLS9</th>\n",
              "      <th>RELAT_AB</th>\n",
              "    </tr>\n",
              "  </thead>\n",
              "  <tbody>\n",
              "    <tr>\n",
              "      <th>0</th>\n",
              "      <td>-1</td>\n",
              "      <td>2</td>\n",
              "      <td>1</td>\n",
              "      <td>2.0</td>\n",
              "      <td>3</td>\n",
              "      <td>4</td>\n",
              "      <td>3</td>\n",
              "      <td>5</td>\n",
              "      <td>5</td>\n",
              "      <td>3</td>\n",
              "      <td>...</td>\n",
              "      <td>NaN</td>\n",
              "      <td>NaN</td>\n",
              "      <td>NaN</td>\n",
              "      <td>NaN</td>\n",
              "      <td>NaN</td>\n",
              "      <td>NaN</td>\n",
              "      <td>NaN</td>\n",
              "      <td>NaN</td>\n",
              "      <td>NaN</td>\n",
              "      <td>NaN</td>\n",
              "    </tr>\n",
              "    <tr>\n",
              "      <th>1</th>\n",
              "      <td>-1</td>\n",
              "      <td>1</td>\n",
              "      <td>2</td>\n",
              "      <td>5.0</td>\n",
              "      <td>1</td>\n",
              "      <td>5</td>\n",
              "      <td>2</td>\n",
              "      <td>5</td>\n",
              "      <td>4</td>\n",
              "      <td>5</td>\n",
              "      <td>...</td>\n",
              "      <td>2.0</td>\n",
              "      <td>3.0</td>\n",
              "      <td>2.0</td>\n",
              "      <td>1.0</td>\n",
              "      <td>1.0</td>\n",
              "      <td>5.0</td>\n",
              "      <td>4.0</td>\n",
              "      <td>3.0</td>\n",
              "      <td>5.0</td>\n",
              "      <td>4.0</td>\n",
              "    </tr>\n",
              "    <tr>\n",
              "      <th>2</th>\n",
              "      <td>-1</td>\n",
              "      <td>3</td>\n",
              "      <td>2</td>\n",
              "      <td>3.0</td>\n",
              "      <td>1</td>\n",
              "      <td>4</td>\n",
              "      <td>1</td>\n",
              "      <td>2</td>\n",
              "      <td>3</td>\n",
              "      <td>5</td>\n",
              "      <td>...</td>\n",
              "      <td>3.0</td>\n",
              "      <td>3.0</td>\n",
              "      <td>1.0</td>\n",
              "      <td>0.0</td>\n",
              "      <td>1.0</td>\n",
              "      <td>4.0</td>\n",
              "      <td>4.0</td>\n",
              "      <td>3.0</td>\n",
              "      <td>5.0</td>\n",
              "      <td>2.0</td>\n",
              "    </tr>\n",
              "    <tr>\n",
              "      <th>3</th>\n",
              "      <td>2</td>\n",
              "      <td>4</td>\n",
              "      <td>2</td>\n",
              "      <td>2.0</td>\n",
              "      <td>4</td>\n",
              "      <td>2</td>\n",
              "      <td>5</td>\n",
              "      <td>2</td>\n",
              "      <td>1</td>\n",
              "      <td>2</td>\n",
              "      <td>...</td>\n",
              "      <td>2.0</td>\n",
              "      <td>2.0</td>\n",
              "      <td>2.0</td>\n",
              "      <td>0.0</td>\n",
              "      <td>1.0</td>\n",
              "      <td>3.0</td>\n",
              "      <td>4.0</td>\n",
              "      <td>2.0</td>\n",
              "      <td>3.0</td>\n",
              "      <td>3.0</td>\n",
              "    </tr>\n",
              "    <tr>\n",
              "      <th>4</th>\n",
              "      <td>-1</td>\n",
              "      <td>3</td>\n",
              "      <td>1</td>\n",
              "      <td>5.0</td>\n",
              "      <td>4</td>\n",
              "      <td>3</td>\n",
              "      <td>4</td>\n",
              "      <td>1</td>\n",
              "      <td>3</td>\n",
              "      <td>2</td>\n",
              "      <td>...</td>\n",
              "      <td>2.0</td>\n",
              "      <td>4.0</td>\n",
              "      <td>2.0</td>\n",
              "      <td>1.0</td>\n",
              "      <td>2.0</td>\n",
              "      <td>3.0</td>\n",
              "      <td>3.0</td>\n",
              "      <td>4.0</td>\n",
              "      <td>6.0</td>\n",
              "      <td>5.0</td>\n",
              "    </tr>\n",
              "  </tbody>\n",
              "</table>\n",
              "<p>5 rows × 85 columns</p>\n",
              "</div>"
            ],
            "text/plain": [
              "   AGER_TYP  ALTERSKATEGORIE_GROB  ANREDE_KZ  CJT_GESAMTTYP  \\\n",
              "0        -1                     2          1            2.0   \n",
              "1        -1                     1          2            5.0   \n",
              "2        -1                     3          2            3.0   \n",
              "3         2                     4          2            2.0   \n",
              "4        -1                     3          1            5.0   \n",
              "\n",
              "   FINANZ_MINIMALIST  FINANZ_SPARER  FINANZ_VORSORGER  FINANZ_ANLEGER  \\\n",
              "0                  3              4                 3               5   \n",
              "1                  1              5                 2               5   \n",
              "2                  1              4                 1               2   \n",
              "3                  4              2                 5               2   \n",
              "4                  4              3                 4               1   \n",
              "\n",
              "   FINANZ_UNAUFFAELLIGER  FINANZ_HAUSBAUER  ...  PLZ8_ANTG1  PLZ8_ANTG2  \\\n",
              "0                      5                 3  ...         NaN         NaN   \n",
              "1                      4                 5  ...         2.0         3.0   \n",
              "2                      3                 5  ...         3.0         3.0   \n",
              "3                      1                 2  ...         2.0         2.0   \n",
              "4                      3                 2  ...         2.0         4.0   \n",
              "\n",
              "   PLZ8_ANTG3  PLZ8_ANTG4  PLZ8_BAUMAX  PLZ8_HHZ  PLZ8_GBZ  ARBEIT  \\\n",
              "0         NaN         NaN          NaN       NaN       NaN     NaN   \n",
              "1         2.0         1.0          1.0       5.0       4.0     3.0   \n",
              "2         1.0         0.0          1.0       4.0       4.0     3.0   \n",
              "3         2.0         0.0          1.0       3.0       4.0     2.0   \n",
              "4         2.0         1.0          2.0       3.0       3.0     4.0   \n",
              "\n",
              "   ORTSGR_KLS9  RELAT_AB  \n",
              "0          NaN       NaN  \n",
              "1          5.0       4.0  \n",
              "2          5.0       2.0  \n",
              "3          3.0       3.0  \n",
              "4          6.0       5.0  \n",
              "\n",
              "[5 rows x 85 columns]"
            ]
          },
          "metadata": {
            "tags": []
          },
          "execution_count": 4
        }
      ]
    },
    {
      "cell_type": "code",
      "metadata": {
        "colab": {
          "base_uri": "https://localhost:8080/"
        },
        "id": "7dCGQbJmMCKI",
        "outputId": "d9e4f9a5-3a33-416a-edc4-a055ccdcb01b"
      },
      "source": [
        "# Again for the feature summary\n",
        "feat_info.shape"
      ],
      "execution_count": null,
      "outputs": [
        {
          "output_type": "execute_result",
          "data": {
            "text/plain": [
              "(85, 4)"
            ]
          },
          "metadata": {
            "tags": []
          },
          "execution_count": 5
        }
      ]
    },
    {
      "cell_type": "code",
      "metadata": {
        "colab": {
          "base_uri": "https://localhost:8080/",
          "height": 391
        },
        "id": "0xuBEd2RNVQU",
        "outputId": "d8bb1bb2-3c18-43a6-9433-81a8c00b21e5"
      },
      "source": [
        "feat_info.info()\n",
        "feat_info.head()"
      ],
      "execution_count": null,
      "outputs": [
        {
          "output_type": "stream",
          "text": [
            "<class 'pandas.core.frame.DataFrame'>\n",
            "RangeIndex: 85 entries, 0 to 84\n",
            "Data columns (total 4 columns):\n",
            "attribute             85 non-null object\n",
            "information_level     85 non-null object\n",
            "type                  85 non-null object\n",
            "missing_or_unknown    85 non-null object\n",
            "dtypes: object(4)\n",
            "memory usage: 2.8+ KB\n"
          ],
          "name": "stdout"
        },
        {
          "output_type": "execute_result",
          "data": {
            "text/html": [
              "<div>\n",
              "<style scoped>\n",
              "    .dataframe tbody tr th:only-of-type {\n",
              "        vertical-align: middle;\n",
              "    }\n",
              "\n",
              "    .dataframe tbody tr th {\n",
              "        vertical-align: top;\n",
              "    }\n",
              "\n",
              "    .dataframe thead th {\n",
              "        text-align: right;\n",
              "    }\n",
              "</style>\n",
              "<table border=\"1\" class=\"dataframe\">\n",
              "  <thead>\n",
              "    <tr style=\"text-align: right;\">\n",
              "      <th></th>\n",
              "      <th>attribute</th>\n",
              "      <th>information_level</th>\n",
              "      <th>type</th>\n",
              "      <th>missing_or_unknown</th>\n",
              "    </tr>\n",
              "  </thead>\n",
              "  <tbody>\n",
              "    <tr>\n",
              "      <th>0</th>\n",
              "      <td>AGER_TYP</td>\n",
              "      <td>person</td>\n",
              "      <td>categorical</td>\n",
              "      <td>[-1,0]</td>\n",
              "    </tr>\n",
              "    <tr>\n",
              "      <th>1</th>\n",
              "      <td>ALTERSKATEGORIE_GROB</td>\n",
              "      <td>person</td>\n",
              "      <td>ordinal</td>\n",
              "      <td>[-1,0,9]</td>\n",
              "    </tr>\n",
              "    <tr>\n",
              "      <th>2</th>\n",
              "      <td>ANREDE_KZ</td>\n",
              "      <td>person</td>\n",
              "      <td>categorical</td>\n",
              "      <td>[-1,0]</td>\n",
              "    </tr>\n",
              "    <tr>\n",
              "      <th>3</th>\n",
              "      <td>CJT_GESAMTTYP</td>\n",
              "      <td>person</td>\n",
              "      <td>categorical</td>\n",
              "      <td>[0]</td>\n",
              "    </tr>\n",
              "    <tr>\n",
              "      <th>4</th>\n",
              "      <td>FINANZ_MINIMALIST</td>\n",
              "      <td>person</td>\n",
              "      <td>ordinal</td>\n",
              "      <td>[-1]</td>\n",
              "    </tr>\n",
              "  </tbody>\n",
              "</table>\n",
              "</div>"
            ],
            "text/plain": [
              "              attribute information_level         type missing_or_unknown\n",
              "0              AGER_TYP            person  categorical             [-1,0]\n",
              "1  ALTERSKATEGORIE_GROB            person      ordinal           [-1,0,9]\n",
              "2             ANREDE_KZ            person  categorical             [-1,0]\n",
              "3         CJT_GESAMTTYP            person  categorical                [0]\n",
              "4     FINANZ_MINIMALIST            person      ordinal               [-1]"
            ]
          },
          "metadata": {
            "tags": []
          },
          "execution_count": 6
        }
      ]
    },
    {
      "cell_type": "markdown",
      "metadata": {
        "id": "j72aYfrSM7I8"
      },
      "source": [
        "> **Tip**: Add additional cells to keep everything in reasonably-sized chunks! Keyboard shortcut `esc --> a` (press escape to enter command mode, then press the 'A' key) adds a new cell before the active cell, and `esc --> b` adds a new cell after the active cell. If you need to convert an active cell to a markdown cell, use `esc --> m` and to convert to a code cell, use `esc --> y`. \n",
        "\n",
        "## Step 1: Preprocessing\n",
        "\n",
        "### Step 1.1: Assess Missing Data\n",
        "\n",
        "The feature summary file contains a summary of properties for each demographics data column. You will use this file to help you make cleaning decisions during this stage of the project. First of all, you should assess the demographics data in terms of missing data. Pay attention to the following points as you perform your analysis, and take notes on what you observe. Make sure that you fill in the **Discussion** cell with your findings and decisions at the end of each step that has one!\n",
        "\n",
        "#### Step 1.1.1: Convert Missing Value Codes to NaNs\n",
        "The fourth column of the feature attributes summary (loaded in above as `feat_info`) documents the codes from the data dictionary that indicate missing or unknown data. While the file encodes this as a list (e.g. `[-1,0]`), this will get read in as a string object. You'll need to do a little bit of parsing to make use of it to identify and clean the data. Convert data that matches a 'missing' or 'unknown' value code into a numpy NaN value. You might want to see how much data takes on a 'missing' or 'unknown' code, and how much data is naturally missing, as a point of interest.\n",
        "\n",
        "**As one more reminder, you are encouraged to add additional cells to break up your analysis into manageable chunks.**"
      ]
    },
    {
      "cell_type": "code",
      "metadata": {
        "id": "_inutrWmM7I9"
      },
      "source": [
        "# Identify missing or unknown data values and convert them to NaNs."
      ],
      "execution_count": null,
      "outputs": []
    },
    {
      "cell_type": "code",
      "metadata": {
        "id": "QzeGhMgsoFQW"
      },
      "source": [
        "feat_info['missing_or_unknown'] = feat_info['missing_or_unknown'].apply(lambda x: x[1:-1].split(','))"
      ],
      "execution_count": null,
      "outputs": []
    },
    {
      "cell_type": "code",
      "metadata": {
        "colab": {
          "base_uri": "https://localhost:8080/",
          "height": 204
        },
        "id": "ZihIiFGjq06-",
        "outputId": "681ae00a-f7c0-4292-c034-a5d3a0058622"
      },
      "source": [
        "feat_info.head()"
      ],
      "execution_count": null,
      "outputs": [
        {
          "output_type": "execute_result",
          "data": {
            "text/html": [
              "<div>\n",
              "<style scoped>\n",
              "    .dataframe tbody tr th:only-of-type {\n",
              "        vertical-align: middle;\n",
              "    }\n",
              "\n",
              "    .dataframe tbody tr th {\n",
              "        vertical-align: top;\n",
              "    }\n",
              "\n",
              "    .dataframe thead th {\n",
              "        text-align: right;\n",
              "    }\n",
              "</style>\n",
              "<table border=\"1\" class=\"dataframe\">\n",
              "  <thead>\n",
              "    <tr style=\"text-align: right;\">\n",
              "      <th></th>\n",
              "      <th>attribute</th>\n",
              "      <th>information_level</th>\n",
              "      <th>type</th>\n",
              "      <th>missing_or_unknown</th>\n",
              "    </tr>\n",
              "  </thead>\n",
              "  <tbody>\n",
              "    <tr>\n",
              "      <th>0</th>\n",
              "      <td>AGER_TYP</td>\n",
              "      <td>person</td>\n",
              "      <td>categorical</td>\n",
              "      <td>[-1, 0]</td>\n",
              "    </tr>\n",
              "    <tr>\n",
              "      <th>1</th>\n",
              "      <td>ALTERSKATEGORIE_GROB</td>\n",
              "      <td>person</td>\n",
              "      <td>ordinal</td>\n",
              "      <td>[-1, 0, 9]</td>\n",
              "    </tr>\n",
              "    <tr>\n",
              "      <th>2</th>\n",
              "      <td>ANREDE_KZ</td>\n",
              "      <td>person</td>\n",
              "      <td>categorical</td>\n",
              "      <td>[-1, 0]</td>\n",
              "    </tr>\n",
              "    <tr>\n",
              "      <th>3</th>\n",
              "      <td>CJT_GESAMTTYP</td>\n",
              "      <td>person</td>\n",
              "      <td>categorical</td>\n",
              "      <td>[0]</td>\n",
              "    </tr>\n",
              "    <tr>\n",
              "      <th>4</th>\n",
              "      <td>FINANZ_MINIMALIST</td>\n",
              "      <td>person</td>\n",
              "      <td>ordinal</td>\n",
              "      <td>[-1]</td>\n",
              "    </tr>\n",
              "  </tbody>\n",
              "</table>\n",
              "</div>"
            ],
            "text/plain": [
              "              attribute information_level         type missing_or_unknown\n",
              "0              AGER_TYP            person  categorical            [-1, 0]\n",
              "1  ALTERSKATEGORIE_GROB            person      ordinal         [-1, 0, 9]\n",
              "2             ANREDE_KZ            person  categorical            [-1, 0]\n",
              "3         CJT_GESAMTTYP            person  categorical                [0]\n",
              "4     FINANZ_MINIMALIST            person      ordinal               [-1]"
            ]
          },
          "metadata": {
            "tags": []
          },
          "execution_count": 9
        }
      ]
    },
    {
      "cell_type": "code",
      "metadata": {
        "id": "-ZLGXPtiqisp"
      },
      "source": [
        "for att, miss_vals in zip(feat_info['attribute'], feat_info['missing_or_unknown']):\n",
        "    if miss_vals[0] != '':\n",
        "        for v in miss_vals:\n",
        "            if v.isnumeric() or v.lstrip('-').isnumeric():\n",
        "                v = int(v)\n",
        "            azdias.loc[azdias[att] == v, att] = np.nan"
      ],
      "execution_count": null,
      "outputs": []
    },
    {
      "cell_type": "code",
      "metadata": {
        "colab": {
          "base_uri": "https://localhost:8080/",
          "height": 253
        },
        "id": "9YxOXRoOrkjz",
        "outputId": "386af58c-08a4-42c4-f49e-86817defed75"
      },
      "source": [
        "azdias.head()"
      ],
      "execution_count": null,
      "outputs": [
        {
          "output_type": "execute_result",
          "data": {
            "text/html": [
              "<div>\n",
              "<style scoped>\n",
              "    .dataframe tbody tr th:only-of-type {\n",
              "        vertical-align: middle;\n",
              "    }\n",
              "\n",
              "    .dataframe tbody tr th {\n",
              "        vertical-align: top;\n",
              "    }\n",
              "\n",
              "    .dataframe thead th {\n",
              "        text-align: right;\n",
              "    }\n",
              "</style>\n",
              "<table border=\"1\" class=\"dataframe\">\n",
              "  <thead>\n",
              "    <tr style=\"text-align: right;\">\n",
              "      <th></th>\n",
              "      <th>AGER_TYP</th>\n",
              "      <th>ALTERSKATEGORIE_GROB</th>\n",
              "      <th>ANREDE_KZ</th>\n",
              "      <th>CJT_GESAMTTYP</th>\n",
              "      <th>FINANZ_MINIMALIST</th>\n",
              "      <th>FINANZ_SPARER</th>\n",
              "      <th>FINANZ_VORSORGER</th>\n",
              "      <th>FINANZ_ANLEGER</th>\n",
              "      <th>FINANZ_UNAUFFAELLIGER</th>\n",
              "      <th>FINANZ_HAUSBAUER</th>\n",
              "      <th>...</th>\n",
              "      <th>PLZ8_ANTG1</th>\n",
              "      <th>PLZ8_ANTG2</th>\n",
              "      <th>PLZ8_ANTG3</th>\n",
              "      <th>PLZ8_ANTG4</th>\n",
              "      <th>PLZ8_BAUMAX</th>\n",
              "      <th>PLZ8_HHZ</th>\n",
              "      <th>PLZ8_GBZ</th>\n",
              "      <th>ARBEIT</th>\n",
              "      <th>ORTSGR_KLS9</th>\n",
              "      <th>RELAT_AB</th>\n",
              "    </tr>\n",
              "  </thead>\n",
              "  <tbody>\n",
              "    <tr>\n",
              "      <th>0</th>\n",
              "      <td>NaN</td>\n",
              "      <td>2.0</td>\n",
              "      <td>1.0</td>\n",
              "      <td>2.0</td>\n",
              "      <td>3.0</td>\n",
              "      <td>4.0</td>\n",
              "      <td>3.0</td>\n",
              "      <td>5.0</td>\n",
              "      <td>5.0</td>\n",
              "      <td>3.0</td>\n",
              "      <td>...</td>\n",
              "      <td>NaN</td>\n",
              "      <td>NaN</td>\n",
              "      <td>NaN</td>\n",
              "      <td>NaN</td>\n",
              "      <td>NaN</td>\n",
              "      <td>NaN</td>\n",
              "      <td>NaN</td>\n",
              "      <td>NaN</td>\n",
              "      <td>NaN</td>\n",
              "      <td>NaN</td>\n",
              "    </tr>\n",
              "    <tr>\n",
              "      <th>1</th>\n",
              "      <td>NaN</td>\n",
              "      <td>1.0</td>\n",
              "      <td>2.0</td>\n",
              "      <td>5.0</td>\n",
              "      <td>1.0</td>\n",
              "      <td>5.0</td>\n",
              "      <td>2.0</td>\n",
              "      <td>5.0</td>\n",
              "      <td>4.0</td>\n",
              "      <td>5.0</td>\n",
              "      <td>...</td>\n",
              "      <td>2.0</td>\n",
              "      <td>3.0</td>\n",
              "      <td>2.0</td>\n",
              "      <td>1.0</td>\n",
              "      <td>1.0</td>\n",
              "      <td>5.0</td>\n",
              "      <td>4.0</td>\n",
              "      <td>3.0</td>\n",
              "      <td>5.0</td>\n",
              "      <td>4.0</td>\n",
              "    </tr>\n",
              "    <tr>\n",
              "      <th>2</th>\n",
              "      <td>NaN</td>\n",
              "      <td>3.0</td>\n",
              "      <td>2.0</td>\n",
              "      <td>3.0</td>\n",
              "      <td>1.0</td>\n",
              "      <td>4.0</td>\n",
              "      <td>1.0</td>\n",
              "      <td>2.0</td>\n",
              "      <td>3.0</td>\n",
              "      <td>5.0</td>\n",
              "      <td>...</td>\n",
              "      <td>3.0</td>\n",
              "      <td>3.0</td>\n",
              "      <td>1.0</td>\n",
              "      <td>0.0</td>\n",
              "      <td>1.0</td>\n",
              "      <td>4.0</td>\n",
              "      <td>4.0</td>\n",
              "      <td>3.0</td>\n",
              "      <td>5.0</td>\n",
              "      <td>2.0</td>\n",
              "    </tr>\n",
              "    <tr>\n",
              "      <th>3</th>\n",
              "      <td>2.0</td>\n",
              "      <td>4.0</td>\n",
              "      <td>2.0</td>\n",
              "      <td>2.0</td>\n",
              "      <td>4.0</td>\n",
              "      <td>2.0</td>\n",
              "      <td>5.0</td>\n",
              "      <td>2.0</td>\n",
              "      <td>1.0</td>\n",
              "      <td>2.0</td>\n",
              "      <td>...</td>\n",
              "      <td>2.0</td>\n",
              "      <td>2.0</td>\n",
              "      <td>2.0</td>\n",
              "      <td>0.0</td>\n",
              "      <td>1.0</td>\n",
              "      <td>3.0</td>\n",
              "      <td>4.0</td>\n",
              "      <td>2.0</td>\n",
              "      <td>3.0</td>\n",
              "      <td>3.0</td>\n",
              "    </tr>\n",
              "    <tr>\n",
              "      <th>4</th>\n",
              "      <td>NaN</td>\n",
              "      <td>3.0</td>\n",
              "      <td>1.0</td>\n",
              "      <td>5.0</td>\n",
              "      <td>4.0</td>\n",
              "      <td>3.0</td>\n",
              "      <td>4.0</td>\n",
              "      <td>1.0</td>\n",
              "      <td>3.0</td>\n",
              "      <td>2.0</td>\n",
              "      <td>...</td>\n",
              "      <td>2.0</td>\n",
              "      <td>4.0</td>\n",
              "      <td>2.0</td>\n",
              "      <td>1.0</td>\n",
              "      <td>2.0</td>\n",
              "      <td>3.0</td>\n",
              "      <td>3.0</td>\n",
              "      <td>4.0</td>\n",
              "      <td>6.0</td>\n",
              "      <td>5.0</td>\n",
              "    </tr>\n",
              "  </tbody>\n",
              "</table>\n",
              "<p>5 rows × 85 columns</p>\n",
              "</div>"
            ],
            "text/plain": [
              "   AGER_TYP  ALTERSKATEGORIE_GROB  ANREDE_KZ  CJT_GESAMTTYP  \\\n",
              "0       NaN                   2.0        1.0            2.0   \n",
              "1       NaN                   1.0        2.0            5.0   \n",
              "2       NaN                   3.0        2.0            3.0   \n",
              "3       2.0                   4.0        2.0            2.0   \n",
              "4       NaN                   3.0        1.0            5.0   \n",
              "\n",
              "   FINANZ_MINIMALIST  FINANZ_SPARER  FINANZ_VORSORGER  FINANZ_ANLEGER  \\\n",
              "0                3.0            4.0               3.0             5.0   \n",
              "1                1.0            5.0               2.0             5.0   \n",
              "2                1.0            4.0               1.0             2.0   \n",
              "3                4.0            2.0               5.0             2.0   \n",
              "4                4.0            3.0               4.0             1.0   \n",
              "\n",
              "   FINANZ_UNAUFFAELLIGER  FINANZ_HAUSBAUER  ...  PLZ8_ANTG1  PLZ8_ANTG2  \\\n",
              "0                    5.0               3.0  ...         NaN         NaN   \n",
              "1                    4.0               5.0  ...         2.0         3.0   \n",
              "2                    3.0               5.0  ...         3.0         3.0   \n",
              "3                    1.0               2.0  ...         2.0         2.0   \n",
              "4                    3.0               2.0  ...         2.0         4.0   \n",
              "\n",
              "   PLZ8_ANTG3  PLZ8_ANTG4  PLZ8_BAUMAX  PLZ8_HHZ  PLZ8_GBZ  ARBEIT  \\\n",
              "0         NaN         NaN          NaN       NaN       NaN     NaN   \n",
              "1         2.0         1.0          1.0       5.0       4.0     3.0   \n",
              "2         1.0         0.0          1.0       4.0       4.0     3.0   \n",
              "3         2.0         0.0          1.0       3.0       4.0     2.0   \n",
              "4         2.0         1.0          2.0       3.0       3.0     4.0   \n",
              "\n",
              "   ORTSGR_KLS9  RELAT_AB  \n",
              "0          NaN       NaN  \n",
              "1          5.0       4.0  \n",
              "2          5.0       2.0  \n",
              "3          3.0       3.0  \n",
              "4          6.0       5.0  \n",
              "\n",
              "[5 rows x 85 columns]"
            ]
          },
          "metadata": {
            "tags": []
          },
          "execution_count": 11
        }
      ]
    },
    {
      "cell_type": "code",
      "metadata": {
        "id": "zmYYXslTM7JD"
      },
      "source": [
        "# Perform an assessment of how much missing data there is in each column of the\n",
        "# dataset.\n",
        "null=azdias.isnull().sum()[azdias.isnull().sum() != 0]"
      ],
      "execution_count": null,
      "outputs": []
    },
    {
      "cell_type": "code",
      "metadata": {
        "id": "1pjEHYbqbBUE"
      },
      "source": [
        "# Create dataset for the null\n",
        "null_data_dict = {'No.': null.values, '%':np.round((null.values/azdias.shape[0])*100,2)}\n",
        "null_dict = pd.DataFrame(data=null_data_dict, index=null.index)\n",
        "null_dict.sort_values(by='No.', ascending=False, inplace=True)"
      ],
      "execution_count": null,
      "outputs": []
    },
    {
      "cell_type": "markdown",
      "metadata": {
        "id": "lnstg0rVbP1J"
      },
      "source": [
        "#### how many?"
      ]
    },
    {
      "cell_type": "code",
      "metadata": {
        "colab": {
          "base_uri": "https://localhost:8080/"
        },
        "id": "kkK4pyArbdwN",
        "outputId": "aecabfbf-5c97-441d-9ce6-183df823a492"
      },
      "source": [
        "null_dict.shape[0]"
      ],
      "execution_count": null,
      "outputs": [
        {
          "output_type": "execute_result",
          "data": {
            "text/plain": [
              "61"
            ]
          },
          "metadata": {
            "tags": []
          },
          "execution_count": 14
        }
      ]
    },
    {
      "cell_type": "markdown",
      "metadata": {
        "id": "oPrvXNWwb7vJ"
      },
      "source": [
        "#### What's the maximum percentage and what is the column?"
      ]
    },
    {
      "cell_type": "code",
      "metadata": {
        "colab": {
          "base_uri": "https://localhost:8080/"
        },
        "id": "9Ustjm4RbmUO",
        "outputId": "47cd1a64-de01-401e-e9a7-ac0edc63d994"
      },
      "source": [
        "null_dict.head(1)"
      ],
      "execution_count": null,
      "outputs": [
        {
          "output_type": "execute_result",
          "data": {
            "text/html": [
              "<div>\n",
              "<style scoped>\n",
              "    .dataframe tbody tr th:only-of-type {\n",
              "        vertical-align: middle;\n",
              "    }\n",
              "\n",
              "    .dataframe tbody tr th {\n",
              "        vertical-align: top;\n",
              "    }\n",
              "\n",
              "    .dataframe thead th {\n",
              "        text-align: right;\n",
              "    }\n",
              "</style>\n",
              "<table border=\"1\" class=\"dataframe\">\n",
              "  <thead>\n",
              "    <tr style=\"text-align: right;\">\n",
              "      <th></th>\n",
              "      <th>No.</th>\n",
              "      <th>%</th>\n",
              "    </tr>\n",
              "  </thead>\n",
              "  <tbody>\n",
              "    <tr>\n",
              "      <th>TITEL_KZ</th>\n",
              "      <td>296596</td>\n",
              "      <td>99.76</td>\n",
              "    </tr>\n",
              "  </tbody>\n",
              "</table>\n",
              "</div>"
            ],
            "text/plain": [
              "             No.      %\n",
              "TITEL_KZ  296596  99.76"
            ]
          },
          "metadata": {
            "tags": []
          },
          "execution_count": 15
        }
      ]
    },
    {
      "cell_type": "code",
      "metadata": {
        "colab": {
          "base_uri": "https://localhost:8080/"
        },
        "id": "Atc_rg7pM7JI",
        "outputId": "179c01f6-09ec-45d5-ab8c-4bb8c4b6362f"
      },
      "source": [
        "# Investigate patterns in the amount of missing data in each column.\n",
        "null_dict['No.'].plot.hist(figsize=(20, 10))\n",
        "plt.title('The distribution of missing value counts');"
      ],
      "execution_count": null,
      "outputs": [
        {
          "output_type": "display_data",
          "data": {
            "image/png": "[encoded data removed]",
            "text/plain": [
              "<Figure size 1440x720 with 1 Axes>"
            ]
          },
          "metadata": {
            "tags": [],
            "needs_background": "light"
          }
        }
      ]
    },
    {
      "cell_type": "code",
      "metadata": {
        "colab": {
          "base_uri": "https://localhost:8080/"
        },
        "id": "AgpzYuDggVsE",
        "outputId": "51bc8ee8-6c8f-4cd7-8cf2-bcb203e479a0"
      },
      "source": [
        "null_dict['No.'].plot.bar(figsize=(18, 8));\n",
        "plt.title('Visualization of the number of non-value columns')"
      ],
      "execution_count": null,
      "outputs": [
        {
          "output_type": "execute_result",
          "data": {
            "text/plain": [
              "Text(0.5, 1.0, 'Visualization of the number of non-value columns')"
            ]
          },
          "metadata": {
            "tags": []
          },
          "execution_count": 17
        },
        {
          "output_type": "display_data",
          "data": {
            "image/png": "[encoded data removed]",
            "text/plain": [
              "<Figure size 1296x576 with 1 Axes>"
            ]
          },
          "metadata": {
            "tags": [],
            "needs_background": "light"
          }
        }
      ]
    },
    {
      "cell_type": "code",
      "metadata": {
        "colab": {
          "base_uri": "https://localhost:8080/"
        },
        "id": "Dhx38ENzi7f5",
        "outputId": "430c93dd-a65b-4e34-b091-0d002d5b1ba2"
      },
      "source": [
        "# NaN statistics for all columns \n",
        "null_dict.describe()"
      ],
      "execution_count": null,
      "outputs": [
        {
          "output_type": "execute_result",
          "data": {
            "text/html": [
              "<div>\n",
              "<style scoped>\n",
              "    .dataframe tbody tr th:only-of-type {\n",
              "        vertical-align: middle;\n",
              "    }\n",
              "\n",
              "    .dataframe tbody tr th {\n",
              "        vertical-align: top;\n",
              "    }\n",
              "\n",
              "    .dataframe thead th {\n",
              "        text-align: right;\n",
              "    }\n",
              "</style>\n",
              "<table border=\"1\" class=\"dataframe\">\n",
              "  <thead>\n",
              "    <tr style=\"text-align: right;\">\n",
              "      <th></th>\n",
              "      <th>No.</th>\n",
              "      <th>%</th>\n",
              "    </tr>\n",
              "  </thead>\n",
              "  <tbody>\n",
              "    <tr>\n",
              "      <th>count</th>\n",
              "      <td>61.000000</td>\n",
              "      <td>61.000000</td>\n",
              "    </tr>\n",
              "    <tr>\n",
              "      <th>mean</th>\n",
              "      <td>45762.885246</td>\n",
              "      <td>15.391967</td>\n",
              "    </tr>\n",
              "    <tr>\n",
              "      <th>std</th>\n",
              "      <td>52407.597254</td>\n",
              "      <td>17.627426</td>\n",
              "    </tr>\n",
              "    <tr>\n",
              "      <th>min</th>\n",
              "      <td>1028.000000</td>\n",
              "      <td>0.350000</td>\n",
              "    </tr>\n",
              "    <tr>\n",
              "      <th>25%</th>\n",
              "      <td>31133.000000</td>\n",
              "      <td>10.470000</td>\n",
              "    </tr>\n",
              "    <tr>\n",
              "      <th>50%</th>\n",
              "      <td>32994.000000</td>\n",
              "      <td>11.100000</td>\n",
              "    </tr>\n",
              "    <tr>\n",
              "      <th>75%</th>\n",
              "      <td>38485.000000</td>\n",
              "      <td>12.940000</td>\n",
              "    </tr>\n",
              "    <tr>\n",
              "      <th>max</th>\n",
              "      <td>296596.000000</td>\n",
              "      <td>99.760000</td>\n",
              "    </tr>\n",
              "  </tbody>\n",
              "</table>\n",
              "</div>"
            ],
            "text/plain": [
              "                 No.          %\n",
              "count      61.000000  61.000000\n",
              "mean    45762.885246  15.391967\n",
              "std     52407.597254  17.627426\n",
              "min      1028.000000   0.350000\n",
              "25%     31133.000000  10.470000\n",
              "50%     32994.000000  11.100000\n",
              "75%     38485.000000  12.940000\n",
              "max    296596.000000  99.760000"
            ]
          },
          "metadata": {
            "tags": []
          },
          "execution_count": 18
        }
      ]
    },
    {
      "cell_type": "code",
      "metadata": {
        "colab": {
          "base_uri": "https://localhost:8080/"
        },
        "id": "LvTVl8XjM7JO",
        "outputId": "7c02c556-473b-493f-9674-554680a866f8"
      },
      "source": [
        "# Remove the outlier columns from the dataset. (You'll perform other data\n",
        "# engineering tasks such as re-encoding and imputation later.)\n",
        "\n",
        "# Set the outliers who has more than 30% of missing values\n",
        "outliers = null_dict[null_dict['%'] > 30].index.values.tolist()\n",
        "outliers"
      ],
      "execution_count": null,
      "outputs": [
        {
          "output_type": "execute_result",
          "data": {
            "text/plain": [
              "['TITEL_KZ',\n",
              " 'AGER_TYP',\n",
              " 'KK_KUNDENTYP',\n",
              " 'KBA05_BAUMAX',\n",
              " 'GEBURTSJAHR',\n",
              " 'ALTER_HH']"
            ]
          },
          "metadata": {
            "tags": []
          },
          "execution_count": 19
        }
      ]
    },
    {
      "cell_type": "code",
      "metadata": {
        "id": "JqrMXzKeurbX"
      },
      "source": [
        "# Then drop the outlier columns from the dataset.\n",
        "azdias = azdias.drop(outliers, axis=1)"
      ],
      "execution_count": null,
      "outputs": []
    },
    {
      "cell_type": "markdown",
      "metadata": {
        "id": "zXKYkOU9M7JS"
      },
      "source": [
        "#### Discussion 1.1.2: Assess Missing Data in Each Column\n",
        "\n",
        "The distribution of missing value counts graph indicates that some columns have a large missing amount of the data. In the bar plot, it shows these columns vs its missing counts. The majority of columns contain a percentage of missing data that varies between 10 and 20 percent, except for the outliers attributes that have a percentage of missing data that exceeds 30 percent. Thus, I decided to remove them."
      ]
    },
    {
      "cell_type": "markdown",
      "metadata": {
        "id": "S3JCljRiM7JT"
      },
      "source": [
        "#### Step 1.1.3: Assess Missing Data in Each Row\n",
        "\n",
        "Now, you'll perform a similar assessment for the rows of the dataset. How much data is missing in each row? As with the columns, you should see some groups of points that have a very different numbers of missing values. Divide the data into two subsets: one for data points that are above some threshold for missing values, and a second subset for points below that threshold.\n",
        "\n",
        "In order to know what to do with the outlier rows, we should see if the distribution of data values on columns that are not missing data (or are missing very little data) are similar or different between the two groups. Select at least five of these columns and compare the distribution of values.\n",
        "- You can use seaborn's [`countplot()`](https://seaborn.pydata.org/generated/seaborn.countplot.html) function to create a bar chart of code frequencies and matplotlib's [`subplot()`](https://matplotlib.org/api/_as_gen/matplotlib.pyplot.subplot.html) function to put bar charts for the two subplots side by side.\n",
        "- To reduce repeated code, you might want to write a function that can perform this comparison, taking as one of its arguments a column to be compared.\n",
        "\n",
        "Depending on what you observe in your comparison, this will have implications on how you approach your conclusions later in the analysis. If the distributions of non-missing features look similar between the data with many missing values and the data with few or no missing values, then we could argue that simply dropping those points from the analysis won't present a major issue. On the other hand, if the data with many missing values looks very different from the data with few or no missing values, then we should make a note on those data as special. We'll revisit these data later on. **Either way, you should continue your analysis for now using just the subset of the data with few or no missing values.**"
      ]
    },
    {
      "cell_type": "code",
      "metadata": {
        "id": "6g2lmag4M7JU"
      },
      "source": [
        "# How much data is missing in each row of the dataset?\n",
        "azdias['NaN_per_row'] = azdias.isnull().sum(axis=1)"
      ],
      "execution_count": null,
      "outputs": []
    },
    {
      "cell_type": "code",
      "metadata": {
        "colab": {
          "base_uri": "https://localhost:8080/"
        },
        "id": "vBQpUcFCM7JX",
        "outputId": "4b502e2c-deff-43fa-98c3-caf2b31506a5"
      },
      "source": [
        "# Write code to divide the data into two subsets based on the number of missing\n",
        "# values in each row.\n",
        "azdias['NaN_per_row'].describe()"
      ],
      "execution_count": null,
      "outputs": [
        {
          "output_type": "execute_result",
          "data": {
            "text/plain": [
              "count    297305.000000\n",
              "mean          5.642606\n",
              "std          13.256818\n",
              "min           0.000000\n",
              "25%           0.000000\n",
              "50%           0.000000\n",
              "75%           3.000000\n",
              "max          47.000000\n",
              "Name: NaN_per_row, dtype: float64"
            ]
          },
          "metadata": {
            "tags": []
          },
          "execution_count": 22
        }
      ]
    },
    {
      "cell_type": "code",
      "metadata": {
        "colab": {
          "base_uri": "https://localhost:8080/",
          "height": 522
        },
        "id": "ymqSbQYPNZw_",
        "outputId": "ecdb711c-4820-47b2-b77b-c7e8431ac3cf"
      },
      "source": [
        "azdias['NaN_per_row'].plot.hist(figsize=(20, 10))\n",
        "plt.title('The distribution of missing value counts');"
      ],
      "execution_count": null,
      "outputs": [
        {
          "output_type": "display_data",
          "data": {
            "image/png": "[encoded data removed]",
            "text/plain": [
              "<Figure size 1440x720 with 1 Axes>"
            ]
          },
          "metadata": {
            "tags": [],
            "needs_background": "light"
          }
        }
      ]
    },
    {
      "cell_type": "markdown",
      "metadata": {
        "id": "Ox6vPQQzPiev"
      },
      "source": [
        "According to the statistics numbers and above graph, it shows that 5% of rows are missing values in more than 14 columns. Thus I choose 14 as the threshold."
      ]
    },
    {
      "cell_type": "code",
      "metadata": {
        "id": "WlKs7W4XPgOO"
      },
      "source": [
        "# Divide the data into two subsets based on the number of missing values in each row.\n",
        "below_14 = azdias[azdias['NaN_per_row'] < 14]\n",
        "above_14 = azdias[azdias['NaN_per_row'] >= 14]"
      ],
      "execution_count": null,
      "outputs": []
    },
    {
      "cell_type": "code",
      "metadata": {
        "id": "bTNak8iQM7Jb"
      },
      "source": [
        "# Compare the distribution of values for at least five columns where there are\n",
        "# no or few missing values, between the two subsets."
      ],
      "execution_count": null,
      "outputs": []
    },
    {
      "cell_type": "code",
      "metadata": {
        "id": "fZCeHJtpRCci"
      },
      "source": [
        "# First lets make a function for plot\n",
        "def Compare(below, above, clm = ''):\n",
        "    plt.figure(figsize=(15, 8))\n",
        "    plt.subplot(1, 2, 1)\n",
        "    sns.countplot(x=clm, data=below)\n",
        "    plt.title('Few missing values per row')\n",
        "    plt.subplot(1, 2, 2)\n",
        "    sns.countplot(x=clm, data=above)\n",
        "    plt.title('many missing values per row')\n",
        "    plt.show()"
      ],
      "execution_count": null,
      "outputs": []
    },
    {
      "cell_type": "code",
      "metadata": {
        "colab": {
          "base_uri": "https://localhost:8080/"
        },
        "id": "g8zkXJ9yRnLq",
        "outputId": "593ffeac-7fd0-4c05-a686-6c8c2e7f9e63"
      },
      "source": [
        "# let choose the column has less missing value\n",
        "columns= null_dict[null_dict['%'] < 30].index.values.tolist()\n",
        "len(columns)"
      ],
      "execution_count": null,
      "outputs": [
        {
          "output_type": "execute_result",
          "data": {
            "text/plain": [
              "55"
            ]
          },
          "metadata": {
            "tags": []
          },
          "execution_count": 27
        }
      ]
    },
    {
      "cell_type": "code",
      "metadata": {
        "colab": {
          "base_uri": "https://localhost:8080/",
          "height": 513
        },
        "id": "dRrOVJb1TQxi",
        "outputId": "f8938f21-a312-46ae-d0de-2ccf07d886bc"
      },
      "source": [
        "# lets compare\n",
        "Compare(below_14, above_14, clm=columns[0])"
      ],
      "execution_count": null,
      "outputs": [
        {
          "output_type": "display_data",
          "data": {
            "image/png": "[encoded data removed]",
            "text/plain": [
              "<Figure size 1080x576 with 2 Axes>"
            ]
          },
          "metadata": {
            "tags": [],
            "needs_background": "light"
          }
        }
      ]
    },
    {
      "cell_type": "code",
      "metadata": {
        "colab": {
          "base_uri": "https://localhost:8080/",
          "height": 514
        },
        "id": "ibWAqn8aUVIz",
        "outputId": "00bb524d-63a8-4b69-e85b-d6e40b3d9dc5"
      },
      "source": [
        "Compare(below_14, above_14, clm=columns[10])"
      ],
      "execution_count": null,
      "outputs": [
        {
          "output_type": "display_data",
          "data": {
            "image/png": "[encoded data removed]",
            "text/plain": [
              "<Figure size 1080x576 with 2 Axes>"
            ]
          },
          "metadata": {
            "tags": [],
            "needs_background": "light"
          }
        }
      ]
    },
    {
      "cell_type": "code",
      "metadata": {
        "colab": {
          "base_uri": "https://localhost:8080/",
          "height": 514
        },
        "id": "2ttt3x0sUvUF",
        "outputId": "75f7bf96-42c4-4bcb-ddf2-baaf66fdbac6"
      },
      "source": [
        "Compare(below_14, above_14, clm=columns[20])"
      ],
      "execution_count": null,
      "outputs": [
        {
          "output_type": "display_data",
          "data": {
            "image/png": "[encoded data removed]",
            "text/plain": [
              "<Figure size 1080x576 with 2 Axes>"
            ]
          },
          "metadata": {
            "tags": [],
            "needs_background": "light"
          }
        }
      ]
    },
    {
      "cell_type": "code",
      "metadata": {
        "colab": {
          "base_uri": "https://localhost:8080/",
          "height": 514
        },
        "id": "XOuMTLsIUzRB",
        "outputId": "8a9f91e8-6fe6-4bec-9291-112278b77f9b"
      },
      "source": [
        "Compare(below_14, above_14, clm=columns[30])"
      ],
      "execution_count": null,
      "outputs": [
        {
          "output_type": "display_data",
          "data": {
            "image/png": "[encoded data removed]",
            "text/plain": [
              "<Figure size 1080x576 with 2 Axes>"
            ]
          },
          "metadata": {
            "tags": [],
            "needs_background": "light"
          }
        }
      ]
    },
    {
      "cell_type": "code",
      "metadata": {
        "colab": {
          "base_uri": "https://localhost:8080/",
          "height": 514
        },
        "id": "P-axyLcRU6lN",
        "outputId": "70d35fc0-cc68-46f9-d520-6fda430965d7"
      },
      "source": [
        "Compare(below_14, above_14, clm=columns[54])"
      ],
      "execution_count": null,
      "outputs": [
        {
          "output_type": "display_data",
          "data": {
            "image/png": "[encoded data removed]",
            "text/plain": [
              "<Figure size 1080x576 with 2 Axes>"
            ]
          },
          "metadata": {
            "tags": [],
            "needs_background": "light"
          }
        }
      ]
    },
    {
      "cell_type": "code",
      "metadata": {
        "id": "jbOIZbowWnWa"
      },
      "source": [
        "# remove rows that contain more than 14 nan values\n",
        "azdias = azdias[azdias['NaN_per_row'] < 14]"
      ],
      "execution_count": null,
      "outputs": []
    },
    {
      "cell_type": "code",
      "metadata": {
        "colab": {
          "base_uri": "https://localhost:8080/"
        },
        "id": "rEkYQuuoX1rP",
        "outputId": "86f30db1-758a-4023-c92d-81e8b85291d0"
      },
      "source": [
        "# let calculate the reductions percentage\n",
        "\n",
        "(azdias.shape[0]/(len(above_14)+len(below_14)) * 100) -100"
      ],
      "execution_count": null,
      "outputs": [
        {
          "output_type": "execute_result",
          "data": {
            "text/plain": [
              "-11.771749550125293"
            ]
          },
          "metadata": {
            "tags": []
          },
          "execution_count": 34
        }
      ]
    },
    {
      "cell_type": "markdown",
      "metadata": {
        "id": "mH3YZZgBM7Jf"
      },
      "source": [
        "#### Discussion 1.1.3: Assess Missing Data in Each Row\n",
        "According to the statistics numbers and above graph, it shows that 5% of rows are missing values in more than 14 columns. Thus I choose 14 as the threshold.and later we dropped any row that has more than 14 missing values. the reduction was 12% due to the missing values."
      ]
    },
    {
      "cell_type": "markdown",
      "metadata": {
        "id": "D5crygZKM7Jg"
      },
      "source": [
        "### Step 1.2: Select and Re-Encode Features\n",
        "\n",
        "Checking for missing data isn't the only way in which you can prepare a dataset for analysis. Since the unsupervised learning techniques to be used will only work on data that is encoded numerically, you need to make a few encoding changes or additional assumptions to be able to make progress. In addition, while almost all of the values in the dataset are encoded using numbers, not all of them represent numeric values. Check the third column of the feature summary (`feat_info`) for a summary of types of measurement.\n",
        "- For numeric and interval data, these features can be kept without changes.\n",
        "- Most of the variables in the dataset are ordinal in nature. While ordinal values may technically be non-linear in spacing, make the simplifying assumption that the ordinal variables can be treated as being interval in nature (that is, kept without any changes).\n",
        "- Special handling may be necessary for the remaining two variable types: categorical, and 'mixed'.\n",
        "\n",
        "In the first two parts of this sub-step, you will perform an investigation of the categorical and mixed-type features and make a decision on each of them, whether you will keep, drop, or re-encode each. Then, in the last part, you will create a new data frame with only the selected and engineered columns.\n",
        "\n",
        "Data wrangling is often the trickiest part of the data analysis process, and there's a lot of it to be done here. But stick with it: once you're done with this step, you'll be ready to get to the machine learning parts of the project!"
      ]
    },
    {
      "cell_type": "code",
      "metadata": {
        "colab": {
          "base_uri": "https://localhost:8080/"
        },
        "id": "QjlSYP9gM7Jg",
        "outputId": "7d46aa29-872d-483d-9f70-df7899a5ad2f"
      },
      "source": [
        "# How many features are there of each data type?\n",
        "feat_info.type.value_counts()"
      ],
      "execution_count": null,
      "outputs": [
        {
          "output_type": "execute_result",
          "data": {
            "text/plain": [
              "ordinal        49\n",
              "categorical    21\n",
              "mixed           7\n",
              "numeric         7\n",
              "interval        1\n",
              "Name: type, dtype: int64"
            ]
          },
          "metadata": {
            "tags": []
          },
          "execution_count": 35
        }
      ]
    },
    {
      "cell_type": "markdown",
      "metadata": {
        "id": "xsoOiOHNM7Jl"
      },
      "source": [
        "#### Step 1.2.1: Re-Encode Categorical Features\n",
        "\n",
        "For categorical data, you would ordinarily need to encode the levels as dummy variables. Depending on the number of categories, perform one of the following:\n",
        "- For binary (two-level) categoricals that take numeric values, you can keep them without needing to do anything.\n",
        "- There is one binary variable that takes on non-numeric values. For this one, you need to re-encode the values as numbers or create a dummy variable.\n",
        "- For multi-level categoricals (three or more values), you can choose to encode the values using multiple dummy variables (e.g. via [OneHotEncoder](http://scikit-learn.org/stable/modules/generated/sklearn.preprocessing.OneHotEncoder.html)), or (to keep things straightforward) just drop them from the analysis. As always, document your choices in the Discussion section."
      ]
    },
    {
      "cell_type": "code",
      "metadata": {
        "colab": {
          "base_uri": "https://localhost:8080/"
        },
        "id": "x64sjPTjM7Jm",
        "outputId": "3137dda3-24eb-439d-aab8-1a82d337298a"
      },
      "source": [
        "# Assess categorical variables: which are binary, which are multi-level, and\n",
        "# which one needs to be re-encoded?\n",
        "\n",
        "# first remove dropped columns from feature info\n",
        "feat_info = feat_info[~feat_info['attribute'].isin(outliers)]\n",
        "\n",
        "# then gather the types of catergorical variables\n",
        "cat_cols = feat_info.loc[feat_info['type'] == 'categorical', 'attribute'].values\n",
        "cat_cols"
      ],
      "execution_count": null,
      "outputs": [
        {
          "output_type": "execute_result",
          "data": {
            "text/plain": [
              "array(['ANREDE_KZ', 'CJT_GESAMTTYP', 'FINANZTYP', 'GFK_URLAUBERTYP',\n",
              "       'GREEN_AVANTGARDE', 'LP_FAMILIE_FEIN', 'LP_FAMILIE_GROB',\n",
              "       'LP_STATUS_FEIN', 'LP_STATUS_GROB', 'NATIONALITAET_KZ',\n",
              "       'SHOPPER_TYP', 'SOHO_KZ', 'VERS_TYP', 'ZABEOTYP', 'GEBAEUDETYP',\n",
              "       'OST_WEST_KZ', 'CAMEO_DEUG_2015', 'CAMEO_DEU_2015'], dtype=object)"
            ]
          },
          "metadata": {
            "tags": []
          },
          "execution_count": 36
        }
      ]
    },
    {
      "cell_type": "code",
      "metadata": {
        "id": "kqZBqS-h0cRN"
      },
      "source": [
        "#loop to divide into the binary group and multi group\n",
        "\n",
        "col_bin = []\n",
        "col_multi = []\n",
        "\n",
        "for col in cat_cols:\n",
        "  if azdias[col].nunique() > 2:\n",
        "    col_multi.append(col)\n",
        "  else:\n",
        "      col_bin.append(col)"
      ],
      "execution_count": null,
      "outputs": []
    },
    {
      "cell_type": "code",
      "metadata": {
        "colab": {
          "base_uri": "https://localhost:8080/"
        },
        "id": "HCYdUgCMwr5X",
        "outputId": "ed80be7b-42f7-46bd-e8eb-d55973604b46"
      },
      "source": [
        "# print the result for the binary group\n",
        "for x in col_bin:\n",
        "  print(azdias[x].value_counts())"
      ],
      "execution_count": null,
      "outputs": [
        {
          "output_type": "stream",
          "text": [
            "2.0    136973\n",
            "1.0    125334\n",
            "Name: ANREDE_KZ, dtype: int64\n",
            "0    203793\n",
            "1     58514\n",
            "Name: GREEN_AVANTGARDE, dtype: int64\n",
            "0.0    260066\n",
            "1.0      2241\n",
            "Name: SOHO_KZ, dtype: int64\n",
            "2.0    130977\n",
            "1.0    119438\n",
            "Name: VERS_TYP, dtype: int64\n",
            "W    213402\n",
            "O     48905\n",
            "Name: OST_WEST_KZ, dtype: int64\n"
          ],
          "name": "stdout"
        }
      ]
    },
    {
      "cell_type": "markdown",
      "metadata": {
        "id": "qIg5-6Xh3QS9"
      },
      "source": [
        "`GREEN_AVANTGARDE` seems okay and other need to be encoded."
      ]
    },
    {
      "cell_type": "code",
      "metadata": {
        "colab": {
          "base_uri": "https://localhost:8080/"
        },
        "id": "8KETEP5J2hFC",
        "outputId": "20882341-c7b5-4993-cb9b-0425eb84632c"
      },
      "source": [
        "# print the result for the multi group\n",
        "for mx in col_multi:\n",
        "  print(azdias[mx].value_counts())"
      ],
      "execution_count": null,
      "outputs": [
        {
          "output_type": "stream",
          "text": [
            "4.0    64830\n",
            "3.0    48477\n",
            "2.0    46721\n",
            "5.0    36850\n",
            "6.0    33440\n",
            "1.0    30582\n",
            "Name: CJT_GESAMTTYP, dtype: int64\n",
            "6.0    94143\n",
            "1.0    65377\n",
            "5.0    35658\n",
            "2.0    35060\n",
            "4.0    18397\n",
            "3.0    13672\n",
            "Name: FINANZTYP, dtype: int64\n",
            "12.0    41883\n",
            "10.0    34526\n",
            "8.0     27796\n",
            "11.0    24611\n",
            "5.0     23180\n",
            "4.0     19990\n",
            "9.0     18503\n",
            "3.0     18000\n",
            "1.0     17149\n",
            "2.0     13451\n",
            "7.0     13441\n",
            "6.0      8370\n",
            "Name: GFK_URLAUBERTYP, dtype: int64\n",
            "1.0     132203\n",
            "10.0     42718\n",
            "2.0      32190\n",
            "11.0     16298\n",
            "8.0       7256\n",
            "7.0       6350\n",
            "4.0       3812\n",
            "5.0       3665\n",
            "9.0       3485\n",
            "6.0       2713\n",
            "3.0       1540\n",
            "Name: LP_FAMILIE_FEIN, dtype: int64\n",
            "1.0    132203\n",
            "5.0     62501\n",
            "2.0     32190\n",
            "4.0     16319\n",
            "3.0      9017\n",
            "Name: LP_FAMILIE_GROB, dtype: int64\n",
            "1.0     68719\n",
            "9.0     44183\n",
            "10.0    37410\n",
            "2.0     36047\n",
            "4.0     24309\n",
            "3.0     23182\n",
            "6.0      9445\n",
            "5.0      9018\n",
            "8.0      5591\n",
            "7.0      2996\n",
            "Name: LP_STATUS_FEIN, dtype: int64\n",
            "1.0    104766\n",
            "2.0     56509\n",
            "4.0     49774\n",
            "5.0     37410\n",
            "3.0     12441\n",
            "Name: LP_STATUS_GROB, dtype: int64\n",
            "1.0    219571\n",
            "2.0     21234\n",
            "3.0     10578\n",
            "Name: NATIONALITAET_KZ, dtype: int64\n",
            "1.0    80774\n",
            "2.0    68516\n",
            "3.0    58578\n",
            "0.0    42547\n",
            "Name: SHOPPER_TYP, dtype: int64\n",
            "3.0    93009\n",
            "4.0    68322\n",
            "1.0    40809\n",
            "5.0    26407\n",
            "6.0    23323\n",
            "2.0    10437\n",
            "Name: ZABEOTYP, dtype: int64\n",
            "1.0    150640\n",
            "3.0     58937\n",
            "8.0     50728\n",
            "2.0      1555\n",
            "4.0       269\n",
            "6.0       178\n",
            "Name: GEBAEUDETYP, dtype: int64\n",
            "8    44189\n",
            "9    35466\n",
            "6    35005\n",
            "4    34432\n",
            "3    28242\n",
            "2    27468\n",
            "7    25919\n",
            "5    18221\n",
            "1    12052\n",
            "Name: CAMEO_DEUG_2015, dtype: int64\n",
            "6B    18961\n",
            "8A    17400\n",
            "4C    15753\n",
            "3C    11747\n",
            "2D    11694\n",
            "7A    11431\n",
            "4A    11110\n",
            "3D    11097\n",
            "8B    11040\n",
            "8C    10097\n",
            "9D     9500\n",
            "9B     8861\n",
            "9C     8255\n",
            "7B     8101\n",
            "9A     6802\n",
            "2C     6305\n",
            "8D     5652\n",
            "6E     5160\n",
            "2B     5034\n",
            "5D     4945\n",
            "6C     4899\n",
            "2A     4435\n",
            "1D     4027\n",
            "5A     3814\n",
            "1A     3595\n",
            "5B     3570\n",
            "5C     3293\n",
            "7C     3071\n",
            "4B     3024\n",
            "3A     3019\n",
            "4D     2777\n",
            "3B     2379\n",
            "6A     2211\n",
            "9E     2048\n",
            "6D     1970\n",
            "7D     1865\n",
            "6F     1804\n",
            "4E     1768\n",
            "1E     1625\n",
            "7E     1451\n",
            "1C     1428\n",
            "5F     1404\n",
            "1B     1377\n",
            "5E     1195\n",
            "Name: CAMEO_DEU_2015, dtype: int64\n"
          ],
          "name": "stdout"
        }
      ]
    },
    {
      "cell_type": "code",
      "metadata": {
        "id": "-n-MrmLIM7Jq"
      },
      "source": [
        "# Re-encode categorical variable(s) to be kept in the analysis."
      ],
      "execution_count": null,
      "outputs": []
    },
    {
      "cell_type": "code",
      "metadata": {
        "id": "2JRfyuCY281-"
      },
      "source": [
        "# Encode binary columns\n",
        "azdias['ANREDE_KZ'].replace([2,1], [1,0], inplace=True)\n",
        "azdias['VERS_TYP'].replace([2.0,1.0], [1,0], inplace=True)\n",
        "azdias['OST_WEST_KZ'].replace(['W','O'], [1,0], inplace=True)"
      ],
      "execution_count": null,
      "outputs": []
    },
    {
      "cell_type": "code",
      "metadata": {
        "id": "neQToApF3vCf"
      },
      "source": [
        "azdias = pd.get_dummies(azdias, columns=col_multi)"
      ],
      "execution_count": null,
      "outputs": []
    },
    {
      "cell_type": "markdown",
      "metadata": {
        "id": "1rHPVV3QM7Ju"
      },
      "source": [
        "#### Discussion 1.2.1: Re-Encode Categorical Features\n",
        "\n",
        "For the binary categorical group, `GREEN_AVANTGARDE` seems okay, and others need to be encoded with values of 0 and 1. for the multi categorical group, we used `get_dummies` a simple and straightforward to encode these group. in these steps, no drop was performed."
      ]
    },
    {
      "cell_type": "markdown",
      "metadata": {
        "id": "7JAdPhoFM7Jv"
      },
      "source": [
        "#### Step 1.2.2: Engineer Mixed-Type Features\n",
        "\n",
        "There are a handful of features that are marked as \"mixed\" in the feature summary that require special treatment in order to be included in the analysis. There are two in particular that deserve attention; the handling of the rest are up to your own choices:\n",
        "- \"PRAEGENDE_JUGENDJAHRE\" combines information on three dimensions: generation by decade, movement (mainstream vs. avantgarde), and nation (east vs. west). While there aren't enough levels to disentangle east from west, you should create two new variables to capture the other two dimensions: an interval-type variable for decade, and a binary variable for movement.\n",
        "- \"CAMEO_INTL_2015\" combines information on two axes: wealth and life stage. Break up the two-digit codes by their 'tens'-place and 'ones'-place digits into two new ordinal variables (which, for the purposes of this project, is equivalent to just treating them as their raw numeric values).\n",
        "- If you decide to keep or engineer new features around the other mixed-type features, make sure you note your steps in the Discussion section.\n",
        "\n",
        "Be sure to check `Data_Dictionary.md` for the details needed to finish these tasks."
      ]
    },
    {
      "cell_type": "code",
      "metadata": {
        "colab": {
          "base_uri": "https://localhost:8080/"
        },
        "id": "z9o-7eRVM7Jw",
        "outputId": "1949e7a1-705c-4f32-b451-dfc0e1027861"
      },
      "source": [
        "# Investigate \"PRAEGENDE_JUGENDJAHRE\" and engineer two new variables.\n",
        "azdias.PRAEGENDE_JUGENDJAHRE.value_counts()"
      ],
      "execution_count": null,
      "outputs": [
        {
          "output_type": "execute_result",
          "data": {
            "text/plain": [
              "14.0    59353\n",
              "8.0     46912\n",
              "10.0    29110\n",
              "5.0     28026\n",
              "3.0     17482\n",
              "15.0    14191\n",
              "11.0    12055\n",
              "9.0     11344\n",
              "6.0      8793\n",
              "12.0     7161\n",
              "4.0      6833\n",
              "1.0      6745\n",
              "2.0      2464\n",
              "13.0     1682\n",
              "7.0      1152\n",
              "Name: PRAEGENDE_JUGENDJAHRE, dtype: int64"
            ]
          },
          "metadata": {
            "tags": []
          },
          "execution_count": 43
        }
      ]
    },
    {
      "cell_type": "markdown",
      "metadata": {
        "id": "Jqz7UOFEBBAR"
      },
      "source": [
        "`PRAEGENDE_JUGENDJAHRE` : we choose to create two new variables to capture the other two dimensions: an interval-type variable for decade, and a binary variable for movement."
      ]
    },
    {
      "cell_type": "code",
      "metadata": {
        "id": "fzW-T74h_SkK"
      },
      "source": [
        "# Map generation \n",
        "generation = {0: [1, 2],\n",
        "            1: [3, 4],\n",
        "            2: [5, 6, 7],\n",
        "            3: [8, 9],\n",
        "            4: [10, 11, 12, 13],\n",
        "            5:[14, 15]}\n",
        "\n",
        "def map_generation(x):\n",
        "    try:\n",
        "        for key, array in generation.items():\n",
        "            if x in array:\n",
        "                return key\n",
        "    except ValueError:\n",
        "        return np.nan"
      ],
      "execution_count": null,
      "outputs": []
    },
    {
      "cell_type": "code",
      "metadata": {
        "id": "vM8kz9WfBxzK"
      },
      "source": [
        "# Map movement \n",
        "\n",
        "mainstream = [1, 3, 5, 8, 10, 12, 14]\n",
        "\n",
        "def map_movement(x):\n",
        "    try:\n",
        "        if x in mainstream:\n",
        "            return 0\n",
        "        else:\n",
        "            return 1\n",
        "    except ValueError:\n",
        "        return np.nan"
      ],
      "execution_count": null,
      "outputs": []
    },
    {
      "cell_type": "code",
      "metadata": {
        "id": "uuARDmD5BzQC"
      },
      "source": [
        "# apply the two function to create a new columns\n",
        "\n",
        "azdias['generation'] = azdias['PRAEGENDE_JUGENDJAHRE'].apply(map_generation)\n",
        "azdias['movement'] = azdias['PRAEGENDE_JUGENDJAHRE'].apply(map_movement)"
      ],
      "execution_count": null,
      "outputs": []
    },
    {
      "cell_type": "code",
      "metadata": {
        "colab": {
          "base_uri": "https://localhost:8080/"
        },
        "id": "iZL1u7FsM7Jz",
        "outputId": "0be18c4a-ff42-42c3-c96a-5129b1b2a215"
      },
      "source": [
        "# Investigate \"CAMEO_INTL_2015\" and engineer two new variables.\n",
        "azdias.CAMEO_INTL_2015.value_counts()"
      ],
      "execution_count": null,
      "outputs": [
        {
          "output_type": "execute_result",
          "data": {
            "text/plain": [
              "51    44016\n",
              "41    30572\n",
              "24    30277\n",
              "14    20804\n",
              "43    18961\n",
              "54    15033\n",
              "25    12865\n",
              "22    11110\n",
              "13     8629\n",
              "23     8422\n",
              "45     8415\n",
              "55     7700\n",
              "52     6802\n",
              "34     6140\n",
              "31     6025\n",
              "15     5652\n",
              "44     4899\n",
              "12     4435\n",
              "32     3570\n",
              "35     3374\n",
              "33     3293\n",
              "Name: CAMEO_INTL_2015, dtype: int64"
            ]
          },
          "metadata": {
            "tags": []
          },
          "execution_count": 47
        }
      ]
    },
    {
      "cell_type": "code",
      "metadata": {
        "id": "Z5igwMn4ExFd"
      },
      "source": [
        "# Map Wealth \n",
        "wealth = {0: ['11', '12', '13', '14', '15'],\n",
        "            1: ['21', '22', '23', '24', '25'],\n",
        "            2: ['31', '32', '33', '34', '35'],\n",
        "            3: ['41', '42', '43', '44', '45'],\n",
        "            4: ['51', '52', '53', '54', '55']}\n",
        "\n",
        "def map_wealth(x):\n",
        "    try:\n",
        "        for key, array in wealth.items():\n",
        "            if x in array:\n",
        "                return key\n",
        "    except ValueError:\n",
        "        return np.nan"
      ],
      "execution_count": null,
      "outputs": []
    },
    {
      "cell_type": "code",
      "metadata": {
        "id": "FO8rZn2rLlsu"
      },
      "source": [
        "# Map Life Stage Typology \n",
        "life = {0: ['11', '21', '31', '41', '51'],\n",
        "            1: ['12', '22', '32', '42', '52'],\n",
        "            2: ['13', '23', '33', '43', '53'],\n",
        "            3: ['14', '24', '34', '44', '54'],\n",
        "            4: ['15', '25', '35', '45', '55']}\n",
        "\n",
        "def map_life(x):\n",
        "    try:\n",
        "        for key, array in life.items():\n",
        "            if x in array:\n",
        "                return key\n",
        "    except ValueError:\n",
        "        return np.nan"
      ],
      "execution_count": null,
      "outputs": []
    },
    {
      "cell_type": "code",
      "metadata": {
        "id": "zYcTivyiMYh8"
      },
      "source": [
        "# apply the two function to create a new columns\n",
        "azdias['wealth'] = azdias['CAMEO_INTL_2015'].apply(map_wealth)\n",
        "azdias['life_stage_typology,'] = azdias['CAMEO_INTL_2015'].apply(map_life)"
      ],
      "execution_count": null,
      "outputs": []
    },
    {
      "cell_type": "code",
      "metadata": {
        "id": "X-MQbE6INgwl"
      },
      "source": [
        "# Drop two original columns \n",
        "azdias = azdias.drop(['PRAEGENDE_JUGENDJAHRE', 'CAMEO_INTL_2015'], axis=1)"
      ],
      "execution_count": null,
      "outputs": []
    },
    {
      "cell_type": "markdown",
      "metadata": {
        "id": "yzTwHt6HM7J2"
      },
      "source": [
        "#### Discussion 1.2.2: Engineer Mixed-Type Features\n",
        "\n",
        "For both columns `PRAEGENDE_JUGENDJAHRE`, `CAMEO_INTL_2015` , the new features were created by mapping the values as per the data dictionary. The two original columns were then dropped."
      ]
    },
    {
      "cell_type": "markdown",
      "metadata": {
        "id": "zmJeyNvUM7J3"
      },
      "source": [
        "#### Step 1.2.3: Complete Feature Selection\n",
        "\n",
        "In order to finish this step up, you need to make sure that your data frame now only has the columns that you want to keep. To summarize, the dataframe should consist of the following:\n",
        "- All numeric, interval, and ordinal type columns from the original dataset.\n",
        "- Binary categorical features (all numerically-encoded).\n",
        "- Engineered features from other multi-level categorical features and mixed features.\n",
        "\n",
        "Make sure that for any new columns that you have engineered, that you've excluded the original columns from the final dataset. Otherwise, their values will interfere with the analysis later on the project. For example, you should not keep \"PRAEGENDE_JUGENDJAHRE\", since its values won't be useful for the algorithm: only the values derived from it in the engineered features you created should be retained. As a reminder, your data should only be from **the subset with few or no missing values**."
      ]
    },
    {
      "cell_type": "code",
      "metadata": {
        "id": "p2_hbk9BM7J4"
      },
      "source": [
        "# If there are other re-engineering tasks you need to perform, make sure you\n",
        "# take care of them here. (Dealing with missing data will come in step 2.1.)\n"
      ],
      "execution_count": null,
      "outputs": []
    },
    {
      "cell_type": "code",
      "metadata": {
        "id": "nN_6s_wkM7J9"
      },
      "source": [
        "# Do whatever you need to in order to ensure that the dataframe only contains\n",
        "# the columns that should be passed to the algorithm functions.\n"
      ],
      "execution_count": null,
      "outputs": []
    },
    {
      "cell_type": "code",
      "metadata": {
        "colab": {
          "base_uri": "https://localhost:8080/"
        },
        "id": "Lb_vjN-IO6bB",
        "outputId": "f29e2365-7faa-4a1b-d022-3ce7d141d151"
      },
      "source": [
        "azdias.describe()"
      ],
      "execution_count": null,
      "outputs": [
        {
          "output_type": "execute_result",
          "data": {
            "text/html": [
              "<div>\n",
              "<style scoped>\n",
              "    .dataframe tbody tr th:only-of-type {\n",
              "        vertical-align: middle;\n",
              "    }\n",
              "\n",
              "    .dataframe tbody tr th {\n",
              "        vertical-align: top;\n",
              "    }\n",
              "\n",
              "    .dataframe thead th {\n",
              "        text-align: right;\n",
              "    }\n",
              "</style>\n",
              "<table border=\"1\" class=\"dataframe\">\n",
              "  <thead>\n",
              "    <tr style=\"text-align: right;\">\n",
              "      <th></th>\n",
              "      <th>ALTERSKATEGORIE_GROB</th>\n",
              "      <th>ANREDE_KZ</th>\n",
              "      <th>FINANZ_MINIMALIST</th>\n",
              "      <th>FINANZ_SPARER</th>\n",
              "      <th>FINANZ_VORSORGER</th>\n",
              "      <th>FINANZ_ANLEGER</th>\n",
              "      <th>FINANZ_UNAUFFAELLIGER</th>\n",
              "      <th>FINANZ_HAUSBAUER</th>\n",
              "      <th>GREEN_AVANTGARDE</th>\n",
              "      <th>HEALTH_TYP</th>\n",
              "      <th>...</th>\n",
              "      <th>CAMEO_DEU_2015_8D</th>\n",
              "      <th>CAMEO_DEU_2015_9A</th>\n",
              "      <th>CAMEO_DEU_2015_9B</th>\n",
              "      <th>CAMEO_DEU_2015_9C</th>\n",
              "      <th>CAMEO_DEU_2015_9D</th>\n",
              "      <th>CAMEO_DEU_2015_9E</th>\n",
              "      <th>generation</th>\n",
              "      <th>movement</th>\n",
              "      <th>wealth</th>\n",
              "      <th>life_stage_typology,</th>\n",
              "    </tr>\n",
              "  </thead>\n",
              "  <tbody>\n",
              "    <tr>\n",
              "      <th>count</th>\n",
              "      <td>261339.000000</td>\n",
              "      <td>262307.000000</td>\n",
              "      <td>262307.000000</td>\n",
              "      <td>262307.000000</td>\n",
              "      <td>262307.000000</td>\n",
              "      <td>262307.000000</td>\n",
              "      <td>262307.000000</td>\n",
              "      <td>262307.000000</td>\n",
              "      <td>262307.000000</td>\n",
              "      <td>250415.000000</td>\n",
              "      <td>...</td>\n",
              "      <td>262307.000000</td>\n",
              "      <td>262307.000000</td>\n",
              "      <td>262307.000000</td>\n",
              "      <td>262307.000000</td>\n",
              "      <td>262307.000000</td>\n",
              "      <td>262307.000000</td>\n",
              "      <td>253303.00000</td>\n",
              "      <td>262307.000000</td>\n",
              "      <td>260994.000000</td>\n",
              "      <td>260994.000000</td>\n",
              "    </tr>\n",
              "    <tr>\n",
              "      <th>mean</th>\n",
              "      <td>2.795595</td>\n",
              "      <td>0.522186</td>\n",
              "      <td>3.057368</td>\n",
              "      <td>2.712341</td>\n",
              "      <td>3.454845</td>\n",
              "      <td>2.827466</td>\n",
              "      <td>2.658114</td>\n",
              "      <td>3.115727</td>\n",
              "      <td>0.223074</td>\n",
              "      <td>2.204161</td>\n",
              "      <td>...</td>\n",
              "      <td>0.021547</td>\n",
              "      <td>0.025931</td>\n",
              "      <td>0.033781</td>\n",
              "      <td>0.031471</td>\n",
              "      <td>0.036217</td>\n",
              "      <td>0.007808</td>\n",
              "      <td>3.32715</td>\n",
              "      <td>0.257401</td>\n",
              "      <td>2.261443</td>\n",
              "      <td>1.869813</td>\n",
              "    </tr>\n",
              "    <tr>\n",
              "      <th>std</th>\n",
              "      <td>1.017637</td>\n",
              "      <td>0.499508</td>\n",
              "      <td>1.376547</td>\n",
              "      <td>1.483700</td>\n",
              "      <td>1.370648</td>\n",
              "      <td>1.472282</td>\n",
              "      <td>1.394526</td>\n",
              "      <td>1.399631</td>\n",
              "      <td>0.416309</td>\n",
              "      <td>0.754770</td>\n",
              "      <td>...</td>\n",
              "      <td>0.145200</td>\n",
              "      <td>0.158931</td>\n",
              "      <td>0.180665</td>\n",
              "      <td>0.174587</td>\n",
              "      <td>0.186830</td>\n",
              "      <td>0.088015</td>\n",
              "      <td>1.45356</td>\n",
              "      <td>0.437203</td>\n",
              "      <td>1.464759</td>\n",
              "      <td>1.481867</td>\n",
              "    </tr>\n",
              "    <tr>\n",
              "      <th>min</th>\n",
              "      <td>1.000000</td>\n",
              "      <td>0.000000</td>\n",
              "      <td>1.000000</td>\n",
              "      <td>1.000000</td>\n",
              "      <td>1.000000</td>\n",
              "      <td>1.000000</td>\n",
              "      <td>1.000000</td>\n",
              "      <td>1.000000</td>\n",
              "      <td>0.000000</td>\n",
              "      <td>1.000000</td>\n",
              "      <td>...</td>\n",
              "      <td>0.000000</td>\n",
              "      <td>0.000000</td>\n",
              "      <td>0.000000</td>\n",
              "      <td>0.000000</td>\n",
              "      <td>0.000000</td>\n",
              "      <td>0.000000</td>\n",
              "      <td>0.00000</td>\n",
              "      <td>0.000000</td>\n",
              "      <td>0.000000</td>\n",
              "      <td>0.000000</td>\n",
              "    </tr>\n",
              "    <tr>\n",
              "      <th>25%</th>\n",
              "      <td>2.000000</td>\n",
              "      <td>0.000000</td>\n",
              "      <td>2.000000</td>\n",
              "      <td>1.000000</td>\n",
              "      <td>2.000000</td>\n",
              "      <td>1.000000</td>\n",
              "      <td>1.000000</td>\n",
              "      <td>2.000000</td>\n",
              "      <td>0.000000</td>\n",
              "      <td>2.000000</td>\n",
              "      <td>...</td>\n",
              "      <td>0.000000</td>\n",
              "      <td>0.000000</td>\n",
              "      <td>0.000000</td>\n",
              "      <td>0.000000</td>\n",
              "      <td>0.000000</td>\n",
              "      <td>0.000000</td>\n",
              "      <td>2.00000</td>\n",
              "      <td>0.000000</td>\n",
              "      <td>1.000000</td>\n",
              "      <td>0.000000</td>\n",
              "    </tr>\n",
              "    <tr>\n",
              "      <th>50%</th>\n",
              "      <td>3.000000</td>\n",
              "      <td>1.000000</td>\n",
              "      <td>3.000000</td>\n",
              "      <td>3.000000</td>\n",
              "      <td>4.000000</td>\n",
              "      <td>3.000000</td>\n",
              "      <td>2.000000</td>\n",
              "      <td>3.000000</td>\n",
              "      <td>0.000000</td>\n",
              "      <td>2.000000</td>\n",
              "      <td>...</td>\n",
              "      <td>0.000000</td>\n",
              "      <td>0.000000</td>\n",
              "      <td>0.000000</td>\n",
              "      <td>0.000000</td>\n",
              "      <td>0.000000</td>\n",
              "      <td>0.000000</td>\n",
              "      <td>3.00000</td>\n",
              "      <td>0.000000</td>\n",
              "      <td>3.000000</td>\n",
              "      <td>2.000000</td>\n",
              "    </tr>\n",
              "    <tr>\n",
              "      <th>75%</th>\n",
              "      <td>4.000000</td>\n",
              "      <td>1.000000</td>\n",
              "      <td>4.000000</td>\n",
              "      <td>4.000000</td>\n",
              "      <td>5.000000</td>\n",
              "      <td>4.000000</td>\n",
              "      <td>4.000000</td>\n",
              "      <td>4.000000</td>\n",
              "      <td>0.000000</td>\n",
              "      <td>3.000000</td>\n",
              "      <td>...</td>\n",
              "      <td>0.000000</td>\n",
              "      <td>0.000000</td>\n",
              "      <td>0.000000</td>\n",
              "      <td>0.000000</td>\n",
              "      <td>0.000000</td>\n",
              "      <td>0.000000</td>\n",
              "      <td>5.00000</td>\n",
              "      <td>1.000000</td>\n",
              "      <td>4.000000</td>\n",
              "      <td>3.000000</td>\n",
              "    </tr>\n",
              "    <tr>\n",
              "      <th>max</th>\n",
              "      <td>4.000000</td>\n",
              "      <td>1.000000</td>\n",
              "      <td>5.000000</td>\n",
              "      <td>5.000000</td>\n",
              "      <td>5.000000</td>\n",
              "      <td>5.000000</td>\n",
              "      <td>5.000000</td>\n",
              "      <td>5.000000</td>\n",
              "      <td>1.000000</td>\n",
              "      <td>3.000000</td>\n",
              "      <td>...</td>\n",
              "      <td>1.000000</td>\n",
              "      <td>1.000000</td>\n",
              "      <td>1.000000</td>\n",
              "      <td>1.000000</td>\n",
              "      <td>1.000000</td>\n",
              "      <td>1.000000</td>\n",
              "      <td>5.00000</td>\n",
              "      <td>1.000000</td>\n",
              "      <td>4.000000</td>\n",
              "      <td>4.000000</td>\n",
              "    </tr>\n",
              "  </tbody>\n",
              "</table>\n",
              "<p>8 rows × 196 columns</p>\n",
              "</div>"
            ],
            "text/plain": [
              "       ALTERSKATEGORIE_GROB      ANREDE_KZ  FINANZ_MINIMALIST  FINANZ_SPARER  \\\n",
              "count         261339.000000  262307.000000      262307.000000  262307.000000   \n",
              "mean               2.795595       0.522186           3.057368       2.712341   \n",
              "std                1.017637       0.499508           1.376547       1.483700   \n",
              "min                1.000000       0.000000           1.000000       1.000000   \n",
              "25%                2.000000       0.000000           2.000000       1.000000   \n",
              "50%                3.000000       1.000000           3.000000       3.000000   \n",
              "75%                4.000000       1.000000           4.000000       4.000000   \n",
              "max                4.000000       1.000000           5.000000       5.000000   \n",
              "\n",
              "       FINANZ_VORSORGER  FINANZ_ANLEGER  FINANZ_UNAUFFAELLIGER  \\\n",
              "count     262307.000000   262307.000000          262307.000000   \n",
              "mean           3.454845        2.827466               2.658114   \n",
              "std            1.370648        1.472282               1.394526   \n",
              "min            1.000000        1.000000               1.000000   \n",
              "25%            2.000000        1.000000               1.000000   \n",
              "50%            4.000000        3.000000               2.000000   \n",
              "75%            5.000000        4.000000               4.000000   \n",
              "max            5.000000        5.000000               5.000000   \n",
              "\n",
              "       FINANZ_HAUSBAUER  GREEN_AVANTGARDE     HEALTH_TYP  ...  \\\n",
              "count     262307.000000     262307.000000  250415.000000  ...   \n",
              "mean           3.115727          0.223074       2.204161  ...   \n",
              "std            1.399631          0.416309       0.754770  ...   \n",
              "min            1.000000          0.000000       1.000000  ...   \n",
              "25%            2.000000          0.000000       2.000000  ...   \n",
              "50%            3.000000          0.000000       2.000000  ...   \n",
              "75%            4.000000          0.000000       3.000000  ...   \n",
              "max            5.000000          1.000000       3.000000  ...   \n",
              "\n",
              "       CAMEO_DEU_2015_8D  CAMEO_DEU_2015_9A  CAMEO_DEU_2015_9B  \\\n",
              "count      262307.000000      262307.000000      262307.000000   \n",
              "mean            0.021547           0.025931           0.033781   \n",
              "std             0.145200           0.158931           0.180665   \n",
              "min             0.000000           0.000000           0.000000   \n",
              "25%             0.000000           0.000000           0.000000   \n",
              "50%             0.000000           0.000000           0.000000   \n",
              "75%             0.000000           0.000000           0.000000   \n",
              "max             1.000000           1.000000           1.000000   \n",
              "\n",
              "       CAMEO_DEU_2015_9C  CAMEO_DEU_2015_9D  CAMEO_DEU_2015_9E    generation  \\\n",
              "count      262307.000000      262307.000000      262307.000000  253303.00000   \n",
              "mean            0.031471           0.036217           0.007808       3.32715   \n",
              "std             0.174587           0.186830           0.088015       1.45356   \n",
              "min             0.000000           0.000000           0.000000       0.00000   \n",
              "25%             0.000000           0.000000           0.000000       2.00000   \n",
              "50%             0.000000           0.000000           0.000000       3.00000   \n",
              "75%             0.000000           0.000000           0.000000       5.00000   \n",
              "max             1.000000           1.000000           1.000000       5.00000   \n",
              "\n",
              "            movement         wealth  life_stage_typology,  \n",
              "count  262307.000000  260994.000000         260994.000000  \n",
              "mean        0.257401       2.261443              1.869813  \n",
              "std         0.437203       1.464759              1.481867  \n",
              "min         0.000000       0.000000              0.000000  \n",
              "25%         0.000000       1.000000              0.000000  \n",
              "50%         0.000000       3.000000              2.000000  \n",
              "75%         1.000000       4.000000              3.000000  \n",
              "max         1.000000       4.000000              4.000000  \n",
              "\n",
              "[8 rows x 196 columns]"
            ]
          },
          "metadata": {
            "tags": []
          },
          "execution_count": 54
        }
      ]
    },
    {
      "cell_type": "markdown",
      "metadata": {
        "id": "ZKYJDkDMM7KB"
      },
      "source": [
        "### Step 1.3: Create a Cleaning Function\n",
        "\n",
        "Even though you've finished cleaning up the general population demographics data, it's important to look ahead to the future and realize that you'll need to perform the same cleaning steps on the customer demographics data. In this substep, complete the function below to execute the main feature selection, encoding, and re-engineering steps you performed above. Then, when it comes to looking at the customer data in Step 3, you can just run this function on that DataFrame to get the trimmed dataset in a single step."
      ]
    },
    {
      "cell_type": "code",
      "metadata": {
        "id": "eqy9Y_I_M7KB"
      },
      "source": [
        "def clean_data(df):\n",
        "    \"\"\"\n",
        "    Perform feature trimming, re-encoding, and engineering for demographics\n",
        "    data\n",
        "    \n",
        "    INPUT: Demographics DataFrame\n",
        "    OUTPUT: Trimmed and cleaned demographics DataFrame\n",
        "    \"\"\"\n",
        "    \n",
        "    # Put in code here to execute all main cleaning steps:\n",
        "    # convert missing value codes into NaNs, ...\n",
        "    feat_info = pd.read_csv('AZDIAS_Feature_Summary.csv', sep=';')\n",
        "    feat_info['missing_or_unknown'] = feat_info['missing_or_unknown'].apply(lambda x: x[1:-1].split(','))\n",
        "    for att, miss_vals in zip(feat_info['attribute'], feat_info['missing_or_unknown']):\n",
        "      if miss_vals[0] != '':\n",
        "        for v in miss_vals:\n",
        "          if v.isnumeric() or v.lstrip('-').isnumeric():\n",
        "            v = int(v)\n",
        "            df.loc[df[att] == v, att] = np.nan\n",
        "    \n",
        "    null=df.isnull().sum()[df.isnull().sum() != 0]\n",
        "    null_data_dict = {'No.': null.values, '%':np.round((null.values/df.shape[0])*100,2)}\n",
        "    null_dict = pd.DataFrame(data=null_data_dict, index=null.index)\n",
        "    null_dict.sort_values(by='No.', ascending=False, inplace=True)\n",
        "    outliers = null_dict[null_dict['%'] > 30].index.values.tolist()\n",
        "    \n",
        "    df['NaN_per_row'] = df.isnull().sum(axis=1)\n",
        "    \n",
        "    # remove selected columns and rows, ...\n",
        "\n",
        "    df = df.drop(outliers, axis=1)\n",
        "    \n",
        "    df = df[df['NaN_per_row'] < 14]\n",
        "    \n",
        "    # select, re-encode, and engineer column values.\n",
        "\n",
        "    feat_info = feat_info[~feat_info['attribute'].isin(outliers)]\n",
        "    cat_cols = feat_info.loc[feat_info['type'] == 'categorical', 'attribute'].values\n",
        "    col_bin = []\n",
        "    col_multi = []\n",
        "    for col in cat_cols:\n",
        "      if df[col].nunique() > 2:\n",
        "        col_multi.append(col)\n",
        "      else:\n",
        "        col_bin.append(col)\n",
        "    df['ANREDE_KZ'].replace([2,1], [1,0], inplace=True)\n",
        "    df['VERS_TYP'].replace([2.0,1.0], [1,0], inplace=True)\n",
        "    df['OST_WEST_KZ'].replace(['W','O'], [1,0], inplace=True)\n",
        "    df = pd.get_dummies(df, columns=col_multi)\n",
        "    df['generation'] = df['PRAEGENDE_JUGENDJAHRE'].apply(map_generation)\n",
        "    df['movement'] = df['PRAEGENDE_JUGENDJAHRE'].apply(map_movement)\n",
        "    df['wealth'] = df['CAMEO_INTL_2015'].apply(map_wealth)\n",
        "    df['life_stage_typology,'] = df['CAMEO_INTL_2015'].apply(map_life)\n",
        "\n",
        "    df = df.drop(['PRAEGENDE_JUGENDJAHRE', 'CAMEO_INTL_2015'], axis=1)\n",
        "\n",
        "    # Return the cleaned dataframe.\n",
        "    return df"
      ],
      "execution_count": null,
      "outputs": []
    },
    {
      "cell_type": "markdown",
      "metadata": {
        "id": "X_Q_Go0vM7KE"
      },
      "source": [
        "## Step 2: Feature Transformation\n",
        "\n",
        "### Step 2.1: Apply Feature Scaling\n",
        "\n",
        "Before we apply dimensionality reduction techniques to the data, we need to perform feature scaling so that the principal component vectors are not influenced by the natural differences in scale for features. Starting from this part of the project, you'll want to keep an eye on the [API reference page for sklearn](http://scikit-learn.org/stable/modules/classes.html) to help you navigate to all of the classes and functions that you'll need. In this substep, you'll need to check the following:\n",
        "\n",
        "- sklearn requires that data not have missing values in order for its estimators to work properly. So, before applying the scaler to your data, make sure that you've cleaned the DataFrame of the remaining missing values. This can be as simple as just removing all data points with missing data, or applying an [Imputer](http://scikit-learn.org/stable/modules/generated/sklearn.preprocessing.Imputer.html) to replace all missing values. You might also try a more complicated procedure where you temporarily remove missing values in order to compute the scaling parameters before re-introducing those missing values and applying imputation. Think about how much missing data you have and what possible effects each approach might have on your analysis, and justify your decision in the discussion section below.\n",
        "- For the actual scaling function, a [StandardScaler](http://scikit-learn.org/stable/modules/generated/sklearn.preprocessing.StandardScaler.html) instance is suggested, scaling each feature to mean 0 and standard deviation 1.\n",
        "- For these classes, you can make use of the `.fit_transform()` method to both fit a procedure to the data as well as apply the transformation to the data at the same time. Don't forget to keep the fit sklearn objects handy, since you'll be applying them to the customer demographics data towards the end of the project."
      ]
    },
    {
      "cell_type": "code",
      "metadata": {
        "id": "nUir0w2ZM7KF"
      },
      "source": [
        "# If you've not yet cleaned the dataset of all NaN values, then investigate and\n",
        "# do that now.\n",
        "# Impute nans\n",
        "imputer = SimpleImputer(missing_values=np.nan, strategy='mean')\n",
        "imputed_features = imputer.fit_transform(azdias)"
      ],
      "execution_count": null,
      "outputs": []
    },
    {
      "cell_type": "code",
      "metadata": {
        "id": "d_wUD5bMM7KJ"
      },
      "source": [
        "# Apply feature scaling to the general population demographics data.\n",
        "scaler = StandardScaler()\n",
        "standardized_features = scaler.fit_transform(imputed_features)\n"
      ],
      "execution_count": null,
      "outputs": []
    },
    {
      "cell_type": "markdown",
      "metadata": {
        "id": "B1PkJjjuM7KS"
      },
      "source": [
        "### Discussion 2.1: Apply Feature Scaling\n",
        "\n",
        "The nan values were imputed using the mean value per column. we choose the mean because of the simple way to do. The features were standardized using StandardScaler to achieve a mean of 0 and standard deviation of 1."
      ]
    },
    {
      "cell_type": "markdown",
      "metadata": {
        "id": "AWUOJqYQM7KS"
      },
      "source": [
        "### Step 2.2: Perform Dimensionality Reduction\n",
        "\n",
        "On your scaled data, you are now ready to apply dimensionality reduction techniques.\n",
        "\n",
        "- Use sklearn's [PCA](http://scikit-learn.org/stable/modules/generated/sklearn.decomposition.PCA.html) class to apply principal component analysis on the data, thus finding the vectors of maximal variance in the data. To start, you should not set any parameters (so all components are computed) or set a number of components that is at least half the number of features (so there's enough features to see the general trend in variability).\n",
        "- Check out the ratio of variance explained by each principal component as well as the cumulative variance explained. Try plotting the cumulative or sequential values using matplotlib's [`plot()`](https://matplotlib.org/api/_as_gen/matplotlib.pyplot.plot.html) function. Based on what you find, select a value for the number of transformed features you'll retain for the clustering part of the project.\n",
        "- Once you've made a choice for the number of components to keep, make sure you re-fit a PCA instance to perform the decided-on transformation."
      ]
    },
    {
      "cell_type": "code",
      "metadata": {
        "id": "GPgRagp0M7KT"
      },
      "source": [
        "# Apply PCA to the data.\n",
        "pca = PCA(100)\n",
        "pca_features = pca.fit_transform(standardized_features)"
      ],
      "execution_count": null,
      "outputs": []
    },
    {
      "cell_type": "code",
      "metadata": {
        "colab": {
          "base_uri": "https://localhost:8080/",
          "height": 295
        },
        "id": "yNBezhJmM7Ka",
        "outputId": "4684f0d5-80a5-4d41-f1ab-435f248379e7"
      },
      "source": [
        "# Investigate the variance accounted for by each principal component.\n",
        "plt.bar(range(len(pca.explained_variance_ratio_)), pca.explained_variance_ratio_)\n",
        "plt.title(\"Variance explained by each component\")\n",
        "plt.xlabel(\"Principal component\")\n",
        "plt.ylabel(\"Ratio of variance explained\")\n",
        "plt.show()"
      ],
      "execution_count": null,
      "outputs": [
        {
          "output_type": "display_data",
          "data": {
            "image/png": "[encoded data removed]",
            "text/plain": [
              "<Figure size 432x288 with 1 Axes>"
            ]
          },
          "metadata": {
            "tags": [],
            "needs_background": "light"
          }
        }
      ]
    },
    {
      "cell_type": "code",
      "metadata": {
        "colab": {
          "base_uri": "https://localhost:8080/",
          "height": 295
        },
        "id": "rKz_bkh_Tdy7",
        "outputId": "33d0b424-e23a-4b88-fd92-89f67d76b16b"
      },
      "source": [
        "\n",
        "plt.plot(range(len(pca.explained_variance_ratio_)),np.cumsum(pca.explained_variance_ratio_), '-')\n",
        "plt.title(\"Cumulative Variance Explained\")\n",
        "plt.xlabel(\"Number of Components\")\n",
        "plt.ylabel(\"Ratio of variance explained\")\n",
        "plt.show()"
      ],
      "execution_count": null,
      "outputs": [
        {
          "output_type": "display_data",
          "data": {
            "image/png": "[encoded data removed]",
            "text/plain": [
              "<Figure size 432x288 with 1 Axes>"
            ]
          },
          "metadata": {
            "tags": [],
            "needs_background": "light"
          }
        }
      ]
    },
    {
      "cell_type": "code",
      "metadata": {
        "id": "quEtu6MgM7Kh"
      },
      "source": [
        "# Re-apply PCA to the data while selecting for number of components to retain.\n",
        "pca = PCA(30)\n",
        "pca_features = pca.fit_transform(standardized_features)"
      ],
      "execution_count": null,
      "outputs": []
    },
    {
      "cell_type": "code",
      "metadata": {
        "colab": {
          "base_uri": "https://localhost:8080/",
          "height": 295
        },
        "id": "Rsd0bnGsU03a",
        "outputId": "537510dc-c770-4275-ce47-06b69eb1e47b"
      },
      "source": [
        "plt.bar(range(len(pca.explained_variance_ratio_)), pca.explained_variance_ratio_)\n",
        "plt.title(\"Variance explained by each component\")\n",
        "plt.xlabel(\"Principal component\")\n",
        "plt.ylabel(\"Ratio of variance explained\")\n",
        "plt.show()"
      ],
      "execution_count": null,
      "outputs": [
        {
          "output_type": "display_data",
          "data": {
            "image/png": "[encoded data removed]",
            "text/plain": [
              "<Figure size 432x288 with 1 Axes>"
            ]
          },
          "metadata": {
            "tags": [],
            "needs_background": "light"
          }
        }
      ]
    },
    {
      "cell_type": "code",
      "metadata": {
        "colab": {
          "base_uri": "https://localhost:8080/",
          "height": 295
        },
        "id": "l5-1Hh-IU3Nm",
        "outputId": "c932eed9-0cb1-40a0-c29d-79feec1421f8"
      },
      "source": [
        "plt.plot(range(len(pca.explained_variance_ratio_)),np.cumsum(pca.explained_variance_ratio_), '-')\n",
        "plt.title(\"Cumulative Variance Explained\")\n",
        "plt.xlabel(\"Number of Components\")\n",
        "plt.ylabel(\"Ratio of variance explained\")\n",
        "plt.show()"
      ],
      "execution_count": null,
      "outputs": [
        {
          "output_type": "display_data",
          "data": {
            "image/png": "[encoded data removed]",
            "text/plain": [
              "<Figure size 432x288 with 1 Axes>"
            ]
          },
          "metadata": {
            "tags": [],
            "needs_background": "light"
          }
        }
      ]
    },
    {
      "cell_type": "markdown",
      "metadata": {
        "id": "a_uzqPquM7Kn"
      },
      "source": [
        "### Discussion 2.2: Perform Dimensionality Reduction\n",
        "\n",
        "Firstly, PCA was applied to a set of components that was half the number of initial features. In a scree plot, it summarizes the variance explained by each component, thus I decided to retain 30 principal components, as it explains more than 88% variances while reducing the number of features by more than 50%."
      ]
    },
    {
      "cell_type": "markdown",
      "metadata": {
        "id": "f6l5qRMqM7Ko"
      },
      "source": [
        "### Step 2.3: Interpret Principal Components\n",
        "\n",
        "Now that we have our transformed principal components, it's a nice idea to check out the weight of each variable on the first few components to see if they can be interpreted in some fashion.\n",
        "\n",
        "As a reminder, each principal component is a unit vector that points in the direction of highest variance (after accounting for the variance captured by earlier principal components). The further a weight is from zero, the more the principal component is in the direction of the corresponding feature. If two features have large weights of the same sign (both positive or both negative), then increases in one tend expect to be associated with increases in the other. To contrast, features with different signs can be expected to show a negative correlation: increases in one variable should result in a decrease in the other.\n",
        "\n",
        "- To investigate the features, you should map each weight to their corresponding feature name, then sort the features according to weight. The most interesting features for each principal component, then, will be those at the beginning and end of the sorted list. Use the data dictionary document to help you understand these most prominent features, their relationships, and what a positive or negative value on the principal component might indicate.\n",
        "- You should investigate and interpret feature associations from the first three principal components in this substep. To help facilitate this, you should write a function that you can call at any time to print the sorted list of feature weights, for the *i*-th principal component. This might come in handy in the next step of the project, when you interpret the tendencies of the discovered clusters."
      ]
    },
    {
      "cell_type": "code",
      "metadata": {
        "id": "RM3xYnFgWGEx"
      },
      "source": [
        "def plot_pca(data, pca, num):\n",
        "  comp = pd.DataFrame(np.round(pca.components_, 4), columns = data.keys()).iloc[num-1]\n",
        "  comp.sort_values(ascending=False, inplace=True)\n",
        "  comp = pd.concat([comp.head(5), comp.tail(5)])\n",
        "  \n",
        "  # plot\n",
        "  comp.plot(kind='bar', title='Principal Component ' + str(num))\n",
        "  ax = plt.gca()\n",
        "  ax.grid(linewidth='0.5', alpha=0.5)\n",
        "  ax.set_axisbelow(True)\n",
        "  plt.show()"
      ],
      "execution_count": null,
      "outputs": []
    },
    {
      "cell_type": "code",
      "metadata": {
        "colab": {
          "base_uri": "https://localhost:8080/",
          "height": 392
        },
        "id": "hoegKROgM7Kp",
        "outputId": "c4631e86-b2ec-434e-e140-ab9549da7f5e"
      },
      "source": [
        "# Map weights for the first principal component to corresponding feature names\n",
        "# and then print the linked values, sorted by weight.\n",
        "# HINT: Try defining a function here or in a new cell that you can reuse in the\n",
        "# other cells.\n",
        "plot_pca(azdias, pca, 1)"
      ],
      "execution_count": null,
      "outputs": [
        {
          "output_type": "display_data",
          "data": {
            "image/png": "[encoded data removed]",
            "text/plain": [
              "<Figure size 432x288 with 1 Axes>"
            ]
          },
          "metadata": {
            "tags": [],
            "needs_background": "light"
          }
        }
      ]
    },
    {
      "cell_type": "code",
      "metadata": {
        "colab": {
          "base_uri": "https://localhost:8080/",
          "height": 401
        },
        "id": "nDzjSjd3M7Kt",
        "outputId": "81d7ddc9-3369-441d-a26d-08042d4bac16"
      },
      "source": [
        "# Map weights for the second principal component to corresponding feature names\n",
        "# and then print the linked values, sorted by weight.\n",
        "plot_pca(azdias, pca, 2)"
      ],
      "execution_count": null,
      "outputs": [
        {
          "output_type": "display_data",
          "data": {
            "image/png": "[encoded data removed]",
            "text/plain": [
              "<Figure size 432x288 with 1 Axes>"
            ]
          },
          "metadata": {
            "tags": [],
            "needs_background": "light"
          }
        }
      ]
    },
    {
      "cell_type": "code",
      "metadata": {
        "colab": {
          "base_uri": "https://localhost:8080/",
          "height": 348
        },
        "id": "xoBhfnfyM7Kx",
        "outputId": "41221df7-1b58-476b-9f54-af6a231ef9ec"
      },
      "source": [
        "# Map weights for the third principal component to corresponding feature names\n",
        "# and then print the linked values, sorted by weight.\n",
        "plot_pca(azdias, pca, 3)"
      ],
      "execution_count": null,
      "outputs": [
        {
          "output_type": "display_data",
          "data": {
            "image/png": "[encoded data removed]",
            "text/plain": [
              "<Figure size 432x288 with 1 Axes>"
            ]
          },
          "metadata": {
            "tags": [],
            "needs_background": "light"
          }
        }
      ]
    },
    {
      "cell_type": "markdown",
      "metadata": {
        "id": "Htms-X2fM7Kz"
      },
      "source": [
        "### Discussion 2.3: Interpret Principal Components\n",
        "\n",
        "The first principal component has a positive association with: `LP_STATUS_GROB_1`, `HH_EINKOMMEN_SCORE`, and `CAMEO_INTL_2015_wealth` and a negative association with: `MOBI_REGIO`, `KBA05_ANTG1`, and `FINANZ_MINIMALIST`. It shows that the first component is related to the indiviudal financial status, movement, and share of 1-2 family homes.\n",
        "\n",
        "The second principal component has a positive association with: `ALTERSKATEGORIE_GROB`, `FINANZ_VORSORGER`, and `ZABEOTYP_3`. And a negative association with: `PRAEGENDE_JUGENDJAHRE_decade`, `FINANZ_SPARER`, and `FINANZ_UNAUFFAELLIGER`. It seems  the second component is related to age, decade of movement, and financial savings.\n",
        "\n",
        "The third principal component has a positive association with: `SEMIO_VERT`, `SEMIO_FAM`, and `SEMIO_SOZ`. And a negative association with: `ANREDE_KZ`, `SEMIO_KAEM`, and\n",
        "`SEMIO_DOM`. It looks  the third component is related to the personaly traits and gender."
      ]
    },
    {
      "cell_type": "markdown",
      "metadata": {
        "id": "FCZB3URoM7K0"
      },
      "source": [
        "## Step 3: Clustering\n",
        "\n",
        "### Step 3.1: Apply Clustering to General Population\n",
        "\n",
        "You've assessed and cleaned the demographics data, then scaled and transformed them. Now, it's time to see how the data clusters in the principal components space. In this substep, you will apply k-means clustering to the dataset and use the average within-cluster distances from each point to their assigned cluster's centroid to decide on a number of clusters to keep.\n",
        "\n",
        "- Use sklearn's [KMeans](http://scikit-learn.org/stable/modules/generated/sklearn.cluster.KMeans.html#sklearn.cluster.KMeans) class to perform k-means clustering on the PCA-transformed data.\n",
        "- Then, compute the average difference from each point to its assigned cluster's center. **Hint**: The KMeans object's `.score()` method might be useful here, but note that in sklearn, scores tend to be defined so that larger is better. Try applying it to a small, toy dataset, or use an internet search to help your understanding.\n",
        "- Perform the above two steps for a number of different cluster counts. You can then see how the average distance decreases with an increasing number of clusters. However, each additional cluster provides a smaller net benefit. Use this fact to select a final number of clusters in which to group the data. **Warning**: because of the large size of the dataset, it can take a long time for the algorithm to resolve. The more clusters to fit, the longer the algorithm will take. You should test for cluster counts through at least 10 clusters to get the full picture, but you shouldn't need to test for a number of clusters above about 30.\n",
        "- Once you've selected a final number of clusters to use, re-fit a KMeans instance to perform the clustering operation. Make sure that you also obtain the cluster assignments for the general demographics data, since you'll be using them in the final Step 3.3."
      ]
    },
    {
      "cell_type": "code",
      "metadata": {
        "id": "7mlFN8XTlC67"
      },
      "source": [
        "def kmean_score(data, n_clust):\n",
        "    kmeans = KMeans(n_clusters = n_clust)\n",
        "    model = kmeans.fit(data)\n",
        "    score = np.abs(model.score(data))\n",
        "    return score"
      ],
      "execution_count": null,
      "outputs": []
    },
    {
      "cell_type": "code",
      "metadata": {
        "id": "lO08Y0c4M7K1"
      },
      "source": [
        "# Over a number of different cluster counts...\n",
        "# run k-means clustering on the data and...\n",
        "# compute the average within-cluster distances.\n",
        "\n",
        "scores = []\n",
        "kscore = list(range(1,20))\n",
        "for k in kscore:\n",
        "    scores.append(kmean_score(pca_features, k))"
      ],
      "execution_count": null,
      "outputs": []
    },
    {
      "cell_type": "code",
      "metadata": {
        "id": "tocpDjfUM7K5",
        "outputId": "2ab83d14-f206-4d8b-9f4e-1325a94b6f59"
      },
      "source": [
        "# Investigate the change in within-cluster distance across number of clusters.\n",
        "# HINT: Use matplotlib's plot function to visualize this relationship.\n",
        "plt.plot(kscore, scores)\n",
        "plt.xlabel('K')\n",
        "plt.ylabel('SSE')\n",
        "plt.title('SSE vs. K');\n"
      ],
      "execution_count": null,
      "outputs": [
        {
          "output_type": "display_data",
          "data": {
            "image/png": "[encoded data removed]",
            "text/plain": [
              "<Figure size 432x288 with 1 Axes>"
            ]
          },
          "metadata": {
            "tags": [],
            "needs_background": "light"
          }
        }
      ]
    },
    {
      "cell_type": "code",
      "metadata": {
        "id": "C-OFkB6QM7K8"
      },
      "source": [
        "# Re-fit the k-means model with the selected number of clusters and obtain\n",
        "# cluster predictions for the general population demographics data.\n",
        "kmeans = KMeans(n_clusters = 15)\n",
        "model_15 = kmeans.fit(pca_features)\n",
        "azdias_pred = model_15.predict(pca_features)"
      ],
      "execution_count": null,
      "outputs": []
    },
    {
      "cell_type": "markdown",
      "metadata": {
        "id": "Psxz0eauM7LB"
      },
      "source": [
        "### Discussion 3.1: Apply Clustering to General Population\n",
        "\n",
        "From the above plot, it seems that at `K=15` is slightly decreasing as it looks like the elbow of this graph. Thus, I decided to use `15 clusters` for this."
      ]
    },
    {
      "cell_type": "markdown",
      "metadata": {
        "id": "GZaJ1QtzM7LC"
      },
      "source": [
        "### Step 3.2: Apply All Steps to the Customer Data\n",
        "\n",
        "Now that you have clusters and cluster centers for the general population, it's time to see how the customer data maps on to those clusters. Take care to not confuse this for re-fitting all of the models to the customer data. Instead, you're going to use the fits from the general population to clean, transform, and cluster the customer data. In the last step of the project, you will interpret how the general population fits apply to the customer data.\n",
        "\n",
        "- Don't forget when loading in the customers data, that it is semicolon (`;`) delimited.\n",
        "- Apply the same feature wrangling, selection, and engineering steps to the customer demographics using the `clean_data()` function you created earlier. (You can assume that the customer demographics data has similar meaning behind missing data patterns as the general demographics data.)\n",
        "- Use the sklearn objects from the general demographics data, and apply their transformations to the customers data. That is, you should not be using a `.fit()` or `.fit_transform()` method to re-fit the old objects, nor should you be creating new sklearn objects! Carry the data through the feature scaling, PCA, and clustering steps, obtaining cluster assignments for all of the data in the customer demographics data."
      ]
    },
    {
      "cell_type": "code",
      "metadata": {
        "id": "ZumqvvWoM7LC"
      },
      "source": [
        "# Load in the customer demographics data.\n",
        "customers = pd.read_csv('Udacity_CUSTOMERS_Subset.csv', sep=';')"
      ],
      "execution_count": null,
      "outputs": []
    },
    {
      "cell_type": "code",
      "metadata": {
        "id": "FGEj8Y1RVlUh"
      },
      "source": [
        "features_customers = clean_data(customers)"
      ],
      "execution_count": null,
      "outputs": []
    },
    {
      "cell_type": "code",
      "metadata": {
        "id": "0OruhKtAM7LG"
      },
      "source": [
        "# Apply preprocessing, feature transformation, and clustering from the general\n",
        "# demographics onto the customer data, obtaining cluster predictions for the\n",
        "# customer demographics data.\n",
        "features_customers = clean_data(customers)\n",
        "\n",
        "imputed_customers = imputer.transform(features_customers)"
      ],
      "execution_count": null,
      "outputs": []
    },
    {
      "cell_type": "code",
      "metadata": {
        "id": "IpuL8JHxVlUh"
      },
      "source": [
        "imputed_customers = pd.DataFrame(imputed_customers)\n",
        "imputed_customers.columns = features_customers.columns\n",
        "imputed_customers.index = features_customers.index"
      ],
      "execution_count": null,
      "outputs": []
    },
    {
      "cell_type": "code",
      "metadata": {
        "id": "OqmmGsGXVlUh",
        "outputId": "06bdaf39-dbf4-4aae-8753-b0493e9c8432"
      },
      "source": [
        "imputed_customers"
      ],
      "execution_count": null,
      "outputs": [
        {
          "output_type": "execute_result",
          "data": {
            "text/html": [
              "<div>\n",
              "<style scoped>\n",
              "    .dataframe tbody tr th:only-of-type {\n",
              "        vertical-align: middle;\n",
              "    }\n",
              "\n",
              "    .dataframe tbody tr th {\n",
              "        vertical-align: top;\n",
              "    }\n",
              "\n",
              "    .dataframe thead th {\n",
              "        text-align: right;\n",
              "    }\n",
              "</style>\n",
              "<table border=\"1\" class=\"dataframe\">\n",
              "  <thead>\n",
              "    <tr style=\"text-align: right;\">\n",
              "      <th></th>\n",
              "      <th>ALTERSKATEGORIE_GROB</th>\n",
              "      <th>ANREDE_KZ</th>\n",
              "      <th>FINANZ_MINIMALIST</th>\n",
              "      <th>FINANZ_SPARER</th>\n",
              "      <th>FINANZ_VORSORGER</th>\n",
              "      <th>FINANZ_ANLEGER</th>\n",
              "      <th>FINANZ_UNAUFFAELLIGER</th>\n",
              "      <th>FINANZ_HAUSBAUER</th>\n",
              "      <th>GREEN_AVANTGARDE</th>\n",
              "      <th>HEALTH_TYP</th>\n",
              "      <th>...</th>\n",
              "      <th>CAMEO_DEU_2015_9A</th>\n",
              "      <th>CAMEO_DEU_2015_9B</th>\n",
              "      <th>CAMEO_DEU_2015_9C</th>\n",
              "      <th>CAMEO_DEU_2015_9D</th>\n",
              "      <th>CAMEO_DEU_2015_9E</th>\n",
              "      <th>CAMEO_DEU_2015_XX</th>\n",
              "      <th>generation</th>\n",
              "      <th>movement</th>\n",
              "      <th>wealth</th>\n",
              "      <th>life_stage_typology,</th>\n",
              "    </tr>\n",
              "  </thead>\n",
              "  <tbody>\n",
              "    <tr>\n",
              "      <th>0</th>\n",
              "      <td>4.0</td>\n",
              "      <td>0.0</td>\n",
              "      <td>5.0</td>\n",
              "      <td>1.0</td>\n",
              "      <td>5.0</td>\n",
              "      <td>1.0</td>\n",
              "      <td>2.0</td>\n",
              "      <td>2.0</td>\n",
              "      <td>1.0</td>\n",
              "      <td>1.0</td>\n",
              "      <td>...</td>\n",
              "      <td>0.0</td>\n",
              "      <td>0.0</td>\n",
              "      <td>0.0</td>\n",
              "      <td>0.0</td>\n",
              "      <td>0.0</td>\n",
              "      <td>0.0</td>\n",
              "      <td>1.0</td>\n",
              "      <td>1.0</td>\n",
              "      <td>0.0</td>\n",
              "      <td>2.0</td>\n",
              "    </tr>\n",
              "    <tr>\n",
              "      <th>2</th>\n",
              "      <td>4.0</td>\n",
              "      <td>1.0</td>\n",
              "      <td>5.0</td>\n",
              "      <td>1.0</td>\n",
              "      <td>5.0</td>\n",
              "      <td>1.0</td>\n",
              "      <td>4.0</td>\n",
              "      <td>4.0</td>\n",
              "      <td>1.0</td>\n",
              "      <td>2.0</td>\n",
              "      <td>...</td>\n",
              "      <td>0.0</td>\n",
              "      <td>0.0</td>\n",
              "      <td>0.0</td>\n",
              "      <td>0.0</td>\n",
              "      <td>0.0</td>\n",
              "      <td>0.0</td>\n",
              "      <td>1.0</td>\n",
              "      <td>1.0</td>\n",
              "      <td>2.0</td>\n",
              "      <td>3.0</td>\n",
              "    </tr>\n",
              "    <tr>\n",
              "      <th>3</th>\n",
              "      <td>4.0</td>\n",
              "      <td>0.0</td>\n",
              "      <td>5.0</td>\n",
              "      <td>1.0</td>\n",
              "      <td>5.0</td>\n",
              "      <td>2.0</td>\n",
              "      <td>1.0</td>\n",
              "      <td>2.0</td>\n",
              "      <td>0.0</td>\n",
              "      <td>2.0</td>\n",
              "      <td>...</td>\n",
              "      <td>0.0</td>\n",
              "      <td>0.0</td>\n",
              "      <td>0.0</td>\n",
              "      <td>0.0</td>\n",
              "      <td>0.0</td>\n",
              "      <td>0.0</td>\n",
              "      <td>0.0</td>\n",
              "      <td>0.0</td>\n",
              "      <td>1.0</td>\n",
              "      <td>3.0</td>\n",
              "    </tr>\n",
              "    <tr>\n",
              "      <th>4</th>\n",
              "      <td>3.0</td>\n",
              "      <td>0.0</td>\n",
              "      <td>3.0</td>\n",
              "      <td>1.0</td>\n",
              "      <td>4.0</td>\n",
              "      <td>4.0</td>\n",
              "      <td>5.0</td>\n",
              "      <td>2.0</td>\n",
              "      <td>0.0</td>\n",
              "      <td>3.0</td>\n",
              "      <td>...</td>\n",
              "      <td>0.0</td>\n",
              "      <td>0.0</td>\n",
              "      <td>0.0</td>\n",
              "      <td>0.0</td>\n",
              "      <td>0.0</td>\n",
              "      <td>0.0</td>\n",
              "      <td>3.0</td>\n",
              "      <td>0.0</td>\n",
              "      <td>3.0</td>\n",
              "      <td>0.0</td>\n",
              "    </tr>\n",
              "    <tr>\n",
              "      <th>5</th>\n",
              "      <td>3.0</td>\n",
              "      <td>0.0</td>\n",
              "      <td>5.0</td>\n",
              "      <td>1.0</td>\n",
              "      <td>5.0</td>\n",
              "      <td>1.0</td>\n",
              "      <td>2.0</td>\n",
              "      <td>3.0</td>\n",
              "      <td>1.0</td>\n",
              "      <td>3.0</td>\n",
              "      <td>...</td>\n",
              "      <td>0.0</td>\n",
              "      <td>0.0</td>\n",
              "      <td>0.0</td>\n",
              "      <td>0.0</td>\n",
              "      <td>0.0</td>\n",
              "      <td>0.0</td>\n",
              "      <td>1.0</td>\n",
              "      <td>1.0</td>\n",
              "      <td>2.0</td>\n",
              "      <td>3.0</td>\n",
              "    </tr>\n",
              "    <tr>\n",
              "      <th>...</th>\n",
              "      <td>...</td>\n",
              "      <td>...</td>\n",
              "      <td>...</td>\n",
              "      <td>...</td>\n",
              "      <td>...</td>\n",
              "      <td>...</td>\n",
              "      <td>...</td>\n",
              "      <td>...</td>\n",
              "      <td>...</td>\n",
              "      <td>...</td>\n",
              "      <td>...</td>\n",
              "      <td>...</td>\n",
              "      <td>...</td>\n",
              "      <td>...</td>\n",
              "      <td>...</td>\n",
              "      <td>...</td>\n",
              "      <td>...</td>\n",
              "      <td>...</td>\n",
              "      <td>...</td>\n",
              "      <td>...</td>\n",
              "      <td>...</td>\n",
              "    </tr>\n",
              "    <tr>\n",
              "      <th>191646</th>\n",
              "      <td>2.0</td>\n",
              "      <td>1.0</td>\n",
              "      <td>2.0</td>\n",
              "      <td>1.0</td>\n",
              "      <td>5.0</td>\n",
              "      <td>1.0</td>\n",
              "      <td>2.0</td>\n",
              "      <td>5.0</td>\n",
              "      <td>0.0</td>\n",
              "      <td>2.0</td>\n",
              "      <td>...</td>\n",
              "      <td>0.0</td>\n",
              "      <td>0.0</td>\n",
              "      <td>0.0</td>\n",
              "      <td>0.0</td>\n",
              "      <td>0.0</td>\n",
              "      <td>0.0</td>\n",
              "      <td>3.0</td>\n",
              "      <td>0.0</td>\n",
              "      <td>0.0</td>\n",
              "      <td>3.0</td>\n",
              "    </tr>\n",
              "    <tr>\n",
              "      <th>191647</th>\n",
              "      <td>3.0</td>\n",
              "      <td>0.0</td>\n",
              "      <td>5.0</td>\n",
              "      <td>1.0</td>\n",
              "      <td>5.0</td>\n",
              "      <td>1.0</td>\n",
              "      <td>1.0</td>\n",
              "      <td>2.0</td>\n",
              "      <td>1.0</td>\n",
              "      <td>3.0</td>\n",
              "      <td>...</td>\n",
              "      <td>0.0</td>\n",
              "      <td>0.0</td>\n",
              "      <td>0.0</td>\n",
              "      <td>0.0</td>\n",
              "      <td>0.0</td>\n",
              "      <td>0.0</td>\n",
              "      <td>1.0</td>\n",
              "      <td>1.0</td>\n",
              "      <td>0.0</td>\n",
              "      <td>3.0</td>\n",
              "    </tr>\n",
              "    <tr>\n",
              "      <th>191649</th>\n",
              "      <td>4.0</td>\n",
              "      <td>0.0</td>\n",
              "      <td>5.0</td>\n",
              "      <td>1.0</td>\n",
              "      <td>5.0</td>\n",
              "      <td>1.0</td>\n",
              "      <td>1.0</td>\n",
              "      <td>2.0</td>\n",
              "      <td>1.0</td>\n",
              "      <td>2.0</td>\n",
              "      <td>...</td>\n",
              "      <td>0.0</td>\n",
              "      <td>0.0</td>\n",
              "      <td>0.0</td>\n",
              "      <td>0.0</td>\n",
              "      <td>0.0</td>\n",
              "      <td>0.0</td>\n",
              "      <td>1.0</td>\n",
              "      <td>1.0</td>\n",
              "      <td>1.0</td>\n",
              "      <td>3.0</td>\n",
              "    </tr>\n",
              "    <tr>\n",
              "      <th>191650</th>\n",
              "      <td>3.0</td>\n",
              "      <td>1.0</td>\n",
              "      <td>2.0</td>\n",
              "      <td>1.0</td>\n",
              "      <td>5.0</td>\n",
              "      <td>1.0</td>\n",
              "      <td>2.0</td>\n",
              "      <td>5.0</td>\n",
              "      <td>0.0</td>\n",
              "      <td>2.0</td>\n",
              "      <td>...</td>\n",
              "      <td>0.0</td>\n",
              "      <td>0.0</td>\n",
              "      <td>0.0</td>\n",
              "      <td>0.0</td>\n",
              "      <td>0.0</td>\n",
              "      <td>0.0</td>\n",
              "      <td>3.0</td>\n",
              "      <td>0.0</td>\n",
              "      <td>1.0</td>\n",
              "      <td>3.0</td>\n",
              "    </tr>\n",
              "    <tr>\n",
              "      <th>191651</th>\n",
              "      <td>2.0</td>\n",
              "      <td>0.0</td>\n",
              "      <td>5.0</td>\n",
              "      <td>1.0</td>\n",
              "      <td>5.0</td>\n",
              "      <td>1.0</td>\n",
              "      <td>1.0</td>\n",
              "      <td>2.0</td>\n",
              "      <td>0.0</td>\n",
              "      <td>2.0</td>\n",
              "      <td>...</td>\n",
              "      <td>0.0</td>\n",
              "      <td>0.0</td>\n",
              "      <td>0.0</td>\n",
              "      <td>0.0</td>\n",
              "      <td>0.0</td>\n",
              "      <td>0.0</td>\n",
              "      <td>1.0</td>\n",
              "      <td>0.0</td>\n",
              "      <td>2.0</td>\n",
              "      <td>2.0</td>\n",
              "    </tr>\n",
              "  </tbody>\n",
              "</table>\n",
              "<p>138060 rows × 196 columns</p>\n",
              "</div>"
            ],
            "text/plain": [
              "        ALTERSKATEGORIE_GROB  ANREDE_KZ  FINANZ_MINIMALIST  FINANZ_SPARER  \\\n",
              "0                        4.0        0.0                5.0            1.0   \n",
              "2                        4.0        1.0                5.0            1.0   \n",
              "3                        4.0        0.0                5.0            1.0   \n",
              "4                        3.0        0.0                3.0            1.0   \n",
              "5                        3.0        0.0                5.0            1.0   \n",
              "...                      ...        ...                ...            ...   \n",
              "191646                   2.0        1.0                2.0            1.0   \n",
              "191647                   3.0        0.0                5.0            1.0   \n",
              "191649                   4.0        0.0                5.0            1.0   \n",
              "191650                   3.0        1.0                2.0            1.0   \n",
              "191651                   2.0        0.0                5.0            1.0   \n",
              "\n",
              "        FINANZ_VORSORGER  FINANZ_ANLEGER  FINANZ_UNAUFFAELLIGER  \\\n",
              "0                    5.0             1.0                    2.0   \n",
              "2                    5.0             1.0                    4.0   \n",
              "3                    5.0             2.0                    1.0   \n",
              "4                    4.0             4.0                    5.0   \n",
              "5                    5.0             1.0                    2.0   \n",
              "...                  ...             ...                    ...   \n",
              "191646               5.0             1.0                    2.0   \n",
              "191647               5.0             1.0                    1.0   \n",
              "191649               5.0             1.0                    1.0   \n",
              "191650               5.0             1.0                    2.0   \n",
              "191651               5.0             1.0                    1.0   \n",
              "\n",
              "        FINANZ_HAUSBAUER  GREEN_AVANTGARDE  HEALTH_TYP  ...  \\\n",
              "0                    2.0               1.0         1.0  ...   \n",
              "2                    4.0               1.0         2.0  ...   \n",
              "3                    2.0               0.0         2.0  ...   \n",
              "4                    2.0               0.0         3.0  ...   \n",
              "5                    3.0               1.0         3.0  ...   \n",
              "...                  ...               ...         ...  ...   \n",
              "191646               5.0               0.0         2.0  ...   \n",
              "191647               2.0               1.0         3.0  ...   \n",
              "191649               2.0               1.0         2.0  ...   \n",
              "191650               5.0               0.0         2.0  ...   \n",
              "191651               2.0               0.0         2.0  ...   \n",
              "\n",
              "        CAMEO_DEU_2015_9A  CAMEO_DEU_2015_9B  CAMEO_DEU_2015_9C  \\\n",
              "0                     0.0                0.0                0.0   \n",
              "2                     0.0                0.0                0.0   \n",
              "3                     0.0                0.0                0.0   \n",
              "4                     0.0                0.0                0.0   \n",
              "5                     0.0                0.0                0.0   \n",
              "...                   ...                ...                ...   \n",
              "191646                0.0                0.0                0.0   \n",
              "191647                0.0                0.0                0.0   \n",
              "191649                0.0                0.0                0.0   \n",
              "191650                0.0                0.0                0.0   \n",
              "191651                0.0                0.0                0.0   \n",
              "\n",
              "        CAMEO_DEU_2015_9D  CAMEO_DEU_2015_9E  CAMEO_DEU_2015_XX  generation  \\\n",
              "0                     0.0                0.0                0.0         1.0   \n",
              "2                     0.0                0.0                0.0         1.0   \n",
              "3                     0.0                0.0                0.0         0.0   \n",
              "4                     0.0                0.0                0.0         3.0   \n",
              "5                     0.0                0.0                0.0         1.0   \n",
              "...                   ...                ...                ...         ...   \n",
              "191646                0.0                0.0                0.0         3.0   \n",
              "191647                0.0                0.0                0.0         1.0   \n",
              "191649                0.0                0.0                0.0         1.0   \n",
              "191650                0.0                0.0                0.0         3.0   \n",
              "191651                0.0                0.0                0.0         1.0   \n",
              "\n",
              "        movement  wealth  life_stage_typology,  \n",
              "0            1.0     0.0                   2.0  \n",
              "2            1.0     2.0                   3.0  \n",
              "3            0.0     1.0                   3.0  \n",
              "4            0.0     3.0                   0.0  \n",
              "5            1.0     2.0                   3.0  \n",
              "...          ...     ...                   ...  \n",
              "191646       0.0     0.0                   3.0  \n",
              "191647       1.0     0.0                   3.0  \n",
              "191649       1.0     1.0                   3.0  \n",
              "191650       0.0     1.0                   3.0  \n",
              "191651       0.0     2.0                   2.0  \n",
              "\n",
              "[138060 rows x 196 columns]"
            ]
          },
          "metadata": {
            "tags": []
          },
          "execution_count": 76
        }
      ]
    },
    {
      "cell_type": "code",
      "metadata": {
        "id": "THavWtKrVlUh"
      },
      "source": [
        "standardized_customers = scaler.transform(imputed_customers)\n",
        "\n",
        "pca_customers = pca.transform(standardized_customers)\n",
        "\n",
        "customers_pred = model_15.predict(pca_customers)"
      ],
      "execution_count": null,
      "outputs": []
    },
    {
      "cell_type": "markdown",
      "metadata": {
        "id": "23mKh8dVM7LL"
      },
      "source": [
        "### Step 3.3: Compare Customer Data to Demographics Data\n",
        "\n",
        "At this point, you have clustered data based on demographics of the general population of Germany, and seen how the customer data for a mail-order sales company maps onto those demographic clusters. In this final substep, you will compare the two cluster distributions to see where the strongest customer base for the company is.\n",
        "\n",
        "Consider the proportion of persons in each cluster for the general population, and the proportions for the customers. If we think the company's customer base to be universal, then the cluster assignment proportions should be fairly similar between the two. If there are only particular segments of the population that are interested in the company's products, then we should see a mismatch from one to the other. If there is a higher proportion of persons in a cluster for the customer data compared to the general population (e.g. 5% of persons are assigned to a cluster for the general population, but 15% of the customer data is closest to that cluster's centroid) then that suggests the people in that cluster to be a target audience for the company. On the other hand, the proportion of the data in a cluster being larger in the general population than the customer data (e.g. only 2% of customers closest to a population centroid that captures 6% of the data) suggests that group of persons to be outside of the target demographics.\n",
        "\n",
        "Take a look at the following points in this step:\n",
        "\n",
        "- Compute the proportion of data points in each cluster for the general population and the customer data. Visualizations will be useful here: both for the individual dataset proportions, but also to visualize the ratios in cluster representation between groups. Seaborn's [`countplot()`](https://seaborn.pydata.org/generated/seaborn.countplot.html) or [`barplot()`](https://seaborn.pydata.org/generated/seaborn.barplot.html) function could be handy.\n",
        "  - Recall the analysis you performed in step 1.1.3 of the project, where you separated out certain data points from the dataset if they had more than a specified threshold of missing values. If you found that this group was qualitatively different from the main bulk of the data, you should treat this as an additional data cluster in this analysis. Make sure that you account for the number of data points in this subset, for both the general population and customer datasets, when making your computations!\n",
        "- Which cluster or clusters are overrepresented in the customer dataset compared to the general population? Select at least one such cluster and infer what kind of people might be represented by that cluster. Use the principal component interpretations from step 2.3 or look at additional components to help you make this inference. Alternatively, you can use the `.inverse_transform()` method of the PCA and StandardScaler objects to transform centroids back to the original data space and interpret the retrieved values directly.\n",
        "- Perform a similar investigation for the underrepresented clusters. Which cluster or clusters are underrepresented in the customer dataset compared to the general population, and what kinds of people are typified by these clusters?"
      ]
    },
    {
      "cell_type": "code",
      "metadata": {
        "id": "JpHHOBtiM7LL",
        "scrolled": false,
        "outputId": "d36a12a4-690e-4785-941a-f782895a0a36"
      },
      "source": [
        "# Compare the proportion of data in each cluster for the customer data to the\n",
        "# proportion of data in each cluster for the general population.\n",
        "figure, axs = plt.subplots(nrows=1, ncols=2, figsize = (10,5))\n",
        "figure.subplots_adjust(hspace = 1, wspace=.3)\n",
        "\n",
        "sns.countplot(customers_pred, ax=axs[0])\n",
        "axs[0].set_title('Customer Clusters')\n",
        "sns.countplot(azdias_pred, ax=axs[1])\n",
        "axs[1].set_title('General Clusters')"
      ],
      "execution_count": null,
      "outputs": [
        {
          "output_type": "execute_result",
          "data": {
            "text/plain": [
              "Text(0.5, 1.0, 'General Clusters')"
            ]
          },
          "metadata": {
            "tags": []
          },
          "execution_count": 78
        },
        {
          "output_type": "display_data",
          "data": {
            "image/png": "[encoded data removed]",
            "text/plain": [
              "<Figure size 720x360 with 2 Axes>"
            ]
          },
          "metadata": {
            "tags": [],
            "needs_background": "light"
          }
        }
      ]
    },
    {
      "cell_type": "code",
      "metadata": {
        "id": "Cc8Ps0QFM7LS"
      },
      "source": [
        "# What kinds of people are part of a cluster that is overrepresented in the\n",
        "# customer data compared to the general population?\n",
        "cluster_specs = pd.DataFrame(scaler.inverse_transform(pca.inverse_transform(kmeans.cluster_centers_)))\n"
      ],
      "execution_count": null,
      "outputs": []
    },
    {
      "cell_type": "code",
      "metadata": {
        "id": "t-Cc9jPjVlUh",
        "outputId": "391bcfc7-5485-42f8-c54c-198b7ca8fe85"
      },
      "source": [
        "cluster_specs.columns = features_customers.columns\n",
        "cluster_specs"
      ],
      "execution_count": null,
      "outputs": [
        {
          "output_type": "execute_result",
          "data": {
            "text/html": [
              "<div>\n",
              "<style scoped>\n",
              "    .dataframe tbody tr th:only-of-type {\n",
              "        vertical-align: middle;\n",
              "    }\n",
              "\n",
              "    .dataframe tbody tr th {\n",
              "        vertical-align: top;\n",
              "    }\n",
              "\n",
              "    .dataframe thead th {\n",
              "        text-align: right;\n",
              "    }\n",
              "</style>\n",
              "<table border=\"1\" class=\"dataframe\">\n",
              "  <thead>\n",
              "    <tr style=\"text-align: right;\">\n",
              "      <th></th>\n",
              "      <th>ALTERSKATEGORIE_GROB</th>\n",
              "      <th>ANREDE_KZ</th>\n",
              "      <th>FINANZ_MINIMALIST</th>\n",
              "      <th>FINANZ_SPARER</th>\n",
              "      <th>FINANZ_VORSORGER</th>\n",
              "      <th>FINANZ_ANLEGER</th>\n",
              "      <th>FINANZ_UNAUFFAELLIGER</th>\n",
              "      <th>FINANZ_HAUSBAUER</th>\n",
              "      <th>GREEN_AVANTGARDE</th>\n",
              "      <th>HEALTH_TYP</th>\n",
              "      <th>...</th>\n",
              "      <th>CAMEO_DEU_2015_9A</th>\n",
              "      <th>CAMEO_DEU_2015_9B</th>\n",
              "      <th>CAMEO_DEU_2015_9C</th>\n",
              "      <th>CAMEO_DEU_2015_9D</th>\n",
              "      <th>CAMEO_DEU_2015_9E</th>\n",
              "      <th>CAMEO_DEU_2015_XX</th>\n",
              "      <th>generation</th>\n",
              "      <th>movement</th>\n",
              "      <th>wealth</th>\n",
              "      <th>life_stage_typology,</th>\n",
              "    </tr>\n",
              "  </thead>\n",
              "  <tbody>\n",
              "    <tr>\n",
              "      <th>0</th>\n",
              "      <td>1.878452</td>\n",
              "      <td>0.540226</td>\n",
              "      <td>2.479654</td>\n",
              "      <td>4.021464</td>\n",
              "      <td>2.127053</td>\n",
              "      <td>4.117975</td>\n",
              "      <td>4.094794</td>\n",
              "      <td>2.738416</td>\n",
              "      <td>0.188211</td>\n",
              "      <td>2.328930</td>\n",
              "      <td>...</td>\n",
              "      <td>0.007015</td>\n",
              "      <td>-0.000349</td>\n",
              "      <td>0.002634</td>\n",
              "      <td>0.003041</td>\n",
              "      <td>0.020655</td>\n",
              "      <td>0.000919</td>\n",
              "      <td>4.634027</td>\n",
              "      <td>0.222512</td>\n",
              "      <td>1.481222</td>\n",
              "      <td>2.283862</td>\n",
              "    </tr>\n",
              "    <tr>\n",
              "      <th>1</th>\n",
              "      <td>2.289181</td>\n",
              "      <td>0.742318</td>\n",
              "      <td>2.379113</td>\n",
              "      <td>3.538591</td>\n",
              "      <td>2.837322</td>\n",
              "      <td>3.895866</td>\n",
              "      <td>3.173646</td>\n",
              "      <td>3.008886</td>\n",
              "      <td>0.192713</td>\n",
              "      <td>2.145324</td>\n",
              "      <td>...</td>\n",
              "      <td>-0.004681</td>\n",
              "      <td>0.025077</td>\n",
              "      <td>0.034933</td>\n",
              "      <td>0.028744</td>\n",
              "      <td>0.019786</td>\n",
              "      <td>-0.001392</td>\n",
              "      <td>4.312194</td>\n",
              "      <td>0.199726</td>\n",
              "      <td>2.197325</td>\n",
              "      <td>1.565543</td>\n",
              "    </tr>\n",
              "    <tr>\n",
              "      <th>2</th>\n",
              "      <td>3.270462</td>\n",
              "      <td>0.492933</td>\n",
              "      <td>4.439335</td>\n",
              "      <td>1.836482</td>\n",
              "      <td>4.068701</td>\n",
              "      <td>2.620032</td>\n",
              "      <td>1.939747</td>\n",
              "      <td>2.067853</td>\n",
              "      <td>0.006598</td>\n",
              "      <td>2.125337</td>\n",
              "      <td>...</td>\n",
              "      <td>-0.006122</td>\n",
              "      <td>0.009561</td>\n",
              "      <td>0.006626</td>\n",
              "      <td>0.006326</td>\n",
              "      <td>-0.010578</td>\n",
              "      <td>-0.003539</td>\n",
              "      <td>2.740630</td>\n",
              "      <td>0.000796</td>\n",
              "      <td>1.385964</td>\n",
              "      <td>2.161479</td>\n",
              "    </tr>\n",
              "    <tr>\n",
              "      <th>3</th>\n",
              "      <td>1.775027</td>\n",
              "      <td>0.994734</td>\n",
              "      <td>1.027733</td>\n",
              "      <td>4.521897</td>\n",
              "      <td>2.157440</td>\n",
              "      <td>4.366332</td>\n",
              "      <td>3.971290</td>\n",
              "      <td>4.285130</td>\n",
              "      <td>0.032526</td>\n",
              "      <td>2.203737</td>\n",
              "      <td>...</td>\n",
              "      <td>0.026868</td>\n",
              "      <td>0.057475</td>\n",
              "      <td>0.070517</td>\n",
              "      <td>0.072185</td>\n",
              "      <td>0.073609</td>\n",
              "      <td>0.001579</td>\n",
              "      <td>4.601051</td>\n",
              "      <td>0.138004</td>\n",
              "      <td>3.266880</td>\n",
              "      <td>1.133463</td>\n",
              "    </tr>\n",
              "    <tr>\n",
              "      <th>4</th>\n",
              "      <td>3.504949</td>\n",
              "      <td>0.761091</td>\n",
              "      <td>2.981736</td>\n",
              "      <td>1.853163</td>\n",
              "      <td>4.226059</td>\n",
              "      <td>2.733805</td>\n",
              "      <td>1.791482</td>\n",
              "      <td>3.915851</td>\n",
              "      <td>0.082175</td>\n",
              "      <td>2.107562</td>\n",
              "      <td>...</td>\n",
              "      <td>0.040971</td>\n",
              "      <td>0.024947</td>\n",
              "      <td>0.022703</td>\n",
              "      <td>-0.000058</td>\n",
              "      <td>0.022411</td>\n",
              "      <td>0.016160</td>\n",
              "      <td>2.427152</td>\n",
              "      <td>0.124385</td>\n",
              "      <td>2.239880</td>\n",
              "      <td>2.188469</td>\n",
              "    </tr>\n",
              "    <tr>\n",
              "      <th>5</th>\n",
              "      <td>3.186746</td>\n",
              "      <td>0.393941</td>\n",
              "      <td>2.742080</td>\n",
              "      <td>2.357275</td>\n",
              "      <td>3.913734</td>\n",
              "      <td>2.158013</td>\n",
              "      <td>1.725986</td>\n",
              "      <td>3.800137</td>\n",
              "      <td>0.006481</td>\n",
              "      <td>2.374653</td>\n",
              "      <td>...</td>\n",
              "      <td>-0.018710</td>\n",
              "      <td>0.165629</td>\n",
              "      <td>0.239939</td>\n",
              "      <td>0.227499</td>\n",
              "      <td>0.265114</td>\n",
              "      <td>0.045254</td>\n",
              "      <td>2.813905</td>\n",
              "      <td>0.045429</td>\n",
              "      <td>3.760554</td>\n",
              "      <td>0.219493</td>\n",
              "    </tr>\n",
              "    <tr>\n",
              "      <th>6</th>\n",
              "      <td>3.196681</td>\n",
              "      <td>0.362106</td>\n",
              "      <td>3.327247</td>\n",
              "      <td>1.811355</td>\n",
              "      <td>4.156644</td>\n",
              "      <td>1.305274</td>\n",
              "      <td>2.305028</td>\n",
              "      <td>3.624090</td>\n",
              "      <td>0.449251</td>\n",
              "      <td>2.181227</td>\n",
              "      <td>...</td>\n",
              "      <td>0.006538</td>\n",
              "      <td>-0.010900</td>\n",
              "      <td>0.007117</td>\n",
              "      <td>0.022438</td>\n",
              "      <td>0.002579</td>\n",
              "      <td>0.017651</td>\n",
              "      <td>2.542257</td>\n",
              "      <td>0.488657</td>\n",
              "      <td>2.226823</td>\n",
              "      <td>2.073621</td>\n",
              "    </tr>\n",
              "    <tr>\n",
              "      <th>7</th>\n",
              "      <td>3.171303</td>\n",
              "      <td>0.074454</td>\n",
              "      <td>3.180225</td>\n",
              "      <td>1.927671</td>\n",
              "      <td>4.338838</td>\n",
              "      <td>1.607826</td>\n",
              "      <td>1.631096</td>\n",
              "      <td>3.576053</td>\n",
              "      <td>0.019395</td>\n",
              "      <td>2.324166</td>\n",
              "      <td>...</td>\n",
              "      <td>0.086710</td>\n",
              "      <td>0.004901</td>\n",
              "      <td>0.003742</td>\n",
              "      <td>0.004314</td>\n",
              "      <td>0.017486</td>\n",
              "      <td>0.002838</td>\n",
              "      <td>2.471863</td>\n",
              "      <td>0.030480</td>\n",
              "      <td>3.317508</td>\n",
              "      <td>1.729144</td>\n",
              "    </tr>\n",
              "    <tr>\n",
              "      <th>8</th>\n",
              "      <td>3.042004</td>\n",
              "      <td>0.405465</td>\n",
              "      <td>3.844641</td>\n",
              "      <td>2.230722</td>\n",
              "      <td>3.764326</td>\n",
              "      <td>2.567473</td>\n",
              "      <td>2.312743</td>\n",
              "      <td>2.597336</td>\n",
              "      <td>0.463641</td>\n",
              "      <td>2.165679</td>\n",
              "      <td>...</td>\n",
              "      <td>0.009197</td>\n",
              "      <td>-0.008289</td>\n",
              "      <td>0.001157</td>\n",
              "      <td>0.001708</td>\n",
              "      <td>0.026810</td>\n",
              "      <td>0.005946</td>\n",
              "      <td>2.996342</td>\n",
              "      <td>0.502131</td>\n",
              "      <td>1.560790</td>\n",
              "      <td>2.325578</td>\n",
              "    </tr>\n",
              "    <tr>\n",
              "      <th>9</th>\n",
              "      <td>3.385094</td>\n",
              "      <td>0.499080</td>\n",
              "      <td>4.590166</td>\n",
              "      <td>1.621362</td>\n",
              "      <td>4.215458</td>\n",
              "      <td>1.779774</td>\n",
              "      <td>2.173243</td>\n",
              "      <td>2.076715</td>\n",
              "      <td>0.995731</td>\n",
              "      <td>2.073955</td>\n",
              "      <td>...</td>\n",
              "      <td>0.009818</td>\n",
              "      <td>0.011087</td>\n",
              "      <td>0.009274</td>\n",
              "      <td>0.002697</td>\n",
              "      <td>0.003681</td>\n",
              "      <td>0.003594</td>\n",
              "      <td>2.537760</td>\n",
              "      <td>1.018508</td>\n",
              "      <td>1.058620</td>\n",
              "      <td>2.651520</td>\n",
              "    </tr>\n",
              "    <tr>\n",
              "      <th>10</th>\n",
              "      <td>3.347974</td>\n",
              "      <td>0.432744</td>\n",
              "      <td>4.542971</td>\n",
              "      <td>1.608735</td>\n",
              "      <td>4.218272</td>\n",
              "      <td>2.278759</td>\n",
              "      <td>1.859041</td>\n",
              "      <td>2.143538</td>\n",
              "      <td>-0.016857</td>\n",
              "      <td>2.217656</td>\n",
              "      <td>...</td>\n",
              "      <td>-0.001818</td>\n",
              "      <td>-0.008138</td>\n",
              "      <td>0.007532</td>\n",
              "      <td>0.009994</td>\n",
              "      <td>-0.008270</td>\n",
              "      <td>0.000810</td>\n",
              "      <td>2.430523</td>\n",
              "      <td>-0.001095</td>\n",
              "      <td>1.340899</td>\n",
              "      <td>2.250981</td>\n",
              "    </tr>\n",
              "    <tr>\n",
              "      <th>11</th>\n",
              "      <td>3.631662</td>\n",
              "      <td>0.938999</td>\n",
              "      <td>2.539055</td>\n",
              "      <td>1.754310</td>\n",
              "      <td>4.456810</td>\n",
              "      <td>2.035483</td>\n",
              "      <td>1.626822</td>\n",
              "      <td>4.348136</td>\n",
              "      <td>0.023990</td>\n",
              "      <td>2.051540</td>\n",
              "      <td>...</td>\n",
              "      <td>0.085529</td>\n",
              "      <td>0.010493</td>\n",
              "      <td>0.011878</td>\n",
              "      <td>0.008362</td>\n",
              "      <td>0.026436</td>\n",
              "      <td>0.028621</td>\n",
              "      <td>2.202953</td>\n",
              "      <td>0.073210</td>\n",
              "      <td>3.274966</td>\n",
              "      <td>1.955576</td>\n",
              "    </tr>\n",
              "    <tr>\n",
              "      <th>12</th>\n",
              "      <td>2.547342</td>\n",
              "      <td>0.503054</td>\n",
              "      <td>3.576753</td>\n",
              "      <td>3.172490</td>\n",
              "      <td>2.932891</td>\n",
              "      <td>3.443244</td>\n",
              "      <td>3.322310</td>\n",
              "      <td>1.688449</td>\n",
              "      <td>0.363405</td>\n",
              "      <td>2.211062</td>\n",
              "      <td>...</td>\n",
              "      <td>-0.001300</td>\n",
              "      <td>0.042581</td>\n",
              "      <td>-0.003929</td>\n",
              "      <td>0.002786</td>\n",
              "      <td>-0.008177</td>\n",
              "      <td>-0.004777</td>\n",
              "      <td>4.310371</td>\n",
              "      <td>0.353601</td>\n",
              "      <td>1.393621</td>\n",
              "      <td>2.182653</td>\n",
              "    </tr>\n",
              "    <tr>\n",
              "      <th>13</th>\n",
              "      <td>1.801711</td>\n",
              "      <td>0.494528</td>\n",
              "      <td>2.784924</td>\n",
              "      <td>3.975596</td>\n",
              "      <td>2.311132</td>\n",
              "      <td>4.148539</td>\n",
              "      <td>4.006895</td>\n",
              "      <td>2.441010</td>\n",
              "      <td>0.369466</td>\n",
              "      <td>2.260462</td>\n",
              "      <td>...</td>\n",
              "      <td>0.002064</td>\n",
              "      <td>0.012650</td>\n",
              "      <td>-0.004187</td>\n",
              "      <td>-0.006789</td>\n",
              "      <td>0.014874</td>\n",
              "      <td>-0.002208</td>\n",
              "      <td>4.692578</td>\n",
              "      <td>0.393184</td>\n",
              "      <td>1.356908</td>\n",
              "      <td>2.279504</td>\n",
              "    </tr>\n",
              "    <tr>\n",
              "      <th>14</th>\n",
              "      <td>1.805440</td>\n",
              "      <td>-0.047212</td>\n",
              "      <td>1.835356</td>\n",
              "      <td>4.519787</td>\n",
              "      <td>1.958804</td>\n",
              "      <td>3.701083</td>\n",
              "      <td>3.929470</td>\n",
              "      <td>3.626636</td>\n",
              "      <td>0.094989</td>\n",
              "      <td>2.323636</td>\n",
              "      <td>...</td>\n",
              "      <td>0.029682</td>\n",
              "      <td>0.059775</td>\n",
              "      <td>0.095742</td>\n",
              "      <td>0.089468</td>\n",
              "      <td>0.079620</td>\n",
              "      <td>0.005879</td>\n",
              "      <td>4.768608</td>\n",
              "      <td>0.133381</td>\n",
              "      <td>3.489263</td>\n",
              "      <td>0.945339</td>\n",
              "    </tr>\n",
              "  </tbody>\n",
              "</table>\n",
              "<p>15 rows × 196 columns</p>\n",
              "</div>"
            ],
            "text/plain": [
              "    ALTERSKATEGORIE_GROB  ANREDE_KZ  FINANZ_MINIMALIST  FINANZ_SPARER  \\\n",
              "0               1.878452   0.540226           2.479654       4.021464   \n",
              "1               2.289181   0.742318           2.379113       3.538591   \n",
              "2               3.270462   0.492933           4.439335       1.836482   \n",
              "3               1.775027   0.994734           1.027733       4.521897   \n",
              "4               3.504949   0.761091           2.981736       1.853163   \n",
              "5               3.186746   0.393941           2.742080       2.357275   \n",
              "6               3.196681   0.362106           3.327247       1.811355   \n",
              "7               3.171303   0.074454           3.180225       1.927671   \n",
              "8               3.042004   0.405465           3.844641       2.230722   \n",
              "9               3.385094   0.499080           4.590166       1.621362   \n",
              "10              3.347974   0.432744           4.542971       1.608735   \n",
              "11              3.631662   0.938999           2.539055       1.754310   \n",
              "12              2.547342   0.503054           3.576753       3.172490   \n",
              "13              1.801711   0.494528           2.784924       3.975596   \n",
              "14              1.805440  -0.047212           1.835356       4.519787   \n",
              "\n",
              "    FINANZ_VORSORGER  FINANZ_ANLEGER  FINANZ_UNAUFFAELLIGER  FINANZ_HAUSBAUER  \\\n",
              "0           2.127053        4.117975               4.094794          2.738416   \n",
              "1           2.837322        3.895866               3.173646          3.008886   \n",
              "2           4.068701        2.620032               1.939747          2.067853   \n",
              "3           2.157440        4.366332               3.971290          4.285130   \n",
              "4           4.226059        2.733805               1.791482          3.915851   \n",
              "5           3.913734        2.158013               1.725986          3.800137   \n",
              "6           4.156644        1.305274               2.305028          3.624090   \n",
              "7           4.338838        1.607826               1.631096          3.576053   \n",
              "8           3.764326        2.567473               2.312743          2.597336   \n",
              "9           4.215458        1.779774               2.173243          2.076715   \n",
              "10          4.218272        2.278759               1.859041          2.143538   \n",
              "11          4.456810        2.035483               1.626822          4.348136   \n",
              "12          2.932891        3.443244               3.322310          1.688449   \n",
              "13          2.311132        4.148539               4.006895          2.441010   \n",
              "14          1.958804        3.701083               3.929470          3.626636   \n",
              "\n",
              "    GREEN_AVANTGARDE  HEALTH_TYP  ...  CAMEO_DEU_2015_9A  CAMEO_DEU_2015_9B  \\\n",
              "0           0.188211    2.328930  ...           0.007015          -0.000349   \n",
              "1           0.192713    2.145324  ...          -0.004681           0.025077   \n",
              "2           0.006598    2.125337  ...          -0.006122           0.009561   \n",
              "3           0.032526    2.203737  ...           0.026868           0.057475   \n",
              "4           0.082175    2.107562  ...           0.040971           0.024947   \n",
              "5           0.006481    2.374653  ...          -0.018710           0.165629   \n",
              "6           0.449251    2.181227  ...           0.006538          -0.010900   \n",
              "7           0.019395    2.324166  ...           0.086710           0.004901   \n",
              "8           0.463641    2.165679  ...           0.009197          -0.008289   \n",
              "9           0.995731    2.073955  ...           0.009818           0.011087   \n",
              "10         -0.016857    2.217656  ...          -0.001818          -0.008138   \n",
              "11          0.023990    2.051540  ...           0.085529           0.010493   \n",
              "12          0.363405    2.211062  ...          -0.001300           0.042581   \n",
              "13          0.369466    2.260462  ...           0.002064           0.012650   \n",
              "14          0.094989    2.323636  ...           0.029682           0.059775   \n",
              "\n",
              "    CAMEO_DEU_2015_9C  CAMEO_DEU_2015_9D  CAMEO_DEU_2015_9E  \\\n",
              "0            0.002634           0.003041           0.020655   \n",
              "1            0.034933           0.028744           0.019786   \n",
              "2            0.006626           0.006326          -0.010578   \n",
              "3            0.070517           0.072185           0.073609   \n",
              "4            0.022703          -0.000058           0.022411   \n",
              "5            0.239939           0.227499           0.265114   \n",
              "6            0.007117           0.022438           0.002579   \n",
              "7            0.003742           0.004314           0.017486   \n",
              "8            0.001157           0.001708           0.026810   \n",
              "9            0.009274           0.002697           0.003681   \n",
              "10           0.007532           0.009994          -0.008270   \n",
              "11           0.011878           0.008362           0.026436   \n",
              "12          -0.003929           0.002786          -0.008177   \n",
              "13          -0.004187          -0.006789           0.014874   \n",
              "14           0.095742           0.089468           0.079620   \n",
              "\n",
              "    CAMEO_DEU_2015_XX  generation  movement    wealth  life_stage_typology,  \n",
              "0            0.000919    4.634027  0.222512  1.481222              2.283862  \n",
              "1           -0.001392    4.312194  0.199726  2.197325              1.565543  \n",
              "2           -0.003539    2.740630  0.000796  1.385964              2.161479  \n",
              "3            0.001579    4.601051  0.138004  3.266880              1.133463  \n",
              "4            0.016160    2.427152  0.124385  2.239880              2.188469  \n",
              "5            0.045254    2.813905  0.045429  3.760554              0.219493  \n",
              "6            0.017651    2.542257  0.488657  2.226823              2.073621  \n",
              "7            0.002838    2.471863  0.030480  3.317508              1.729144  \n",
              "8            0.005946    2.996342  0.502131  1.560790              2.325578  \n",
              "9            0.003594    2.537760  1.018508  1.058620              2.651520  \n",
              "10           0.000810    2.430523 -0.001095  1.340899              2.250981  \n",
              "11           0.028621    2.202953  0.073210  3.274966              1.955576  \n",
              "12          -0.004777    4.310371  0.353601  1.393621              2.182653  \n",
              "13          -0.002208    4.692578  0.393184  1.356908              2.279504  \n",
              "14           0.005879    4.768608  0.133381  3.489263              0.945339  \n",
              "\n",
              "[15 rows x 196 columns]"
            ]
          },
          "metadata": {
            "tags": []
          },
          "execution_count": 107
        }
      ]
    },
    {
      "cell_type": "code",
      "metadata": {
        "id": "twcHWLDaVlUh",
        "outputId": "ac3fa3d6-b2d3-410f-f764-6b52d4d179e6"
      },
      "source": [
        "#ino ther way\n",
        "centroid_12 = scaler.inverse_transform(pca.inverse_transform(model_15.cluster_centers_[12]))\n",
        "overrepresented_c = pd.Series(data = centroid_12, index = features_customers.columns)\n",
        "overrepresented_c"
      ],
      "execution_count": null,
      "outputs": [
        {
          "output_type": "execute_result",
          "data": {
            "text/plain": [
              "ALTERSKATEGORIE_GROB    2.547342\n",
              "ANREDE_KZ               0.503054\n",
              "FINANZ_MINIMALIST       3.576753\n",
              "FINANZ_SPARER           3.172490\n",
              "FINANZ_VORSORGER        2.932891\n",
              "                          ...   \n",
              "CAMEO_DEU_2015_XX      -0.004777\n",
              "generation              4.310371\n",
              "movement                0.353601\n",
              "wealth                  1.393621\n",
              "life_stage_typology,    2.182653\n",
              "Length: 196, dtype: float64"
            ]
          },
          "metadata": {
            "tags": []
          },
          "execution_count": 108
        }
      ]
    },
    {
      "cell_type": "code",
      "metadata": {
        "id": "Amlp83DMM7LV",
        "outputId": "22864634-2dea-4ad8-dec5-7da6264942f7"
      },
      "source": [
        "# What kinds of people are part of a cluster that is underrepresented in the\n",
        "# customer data compared to the general population?\n",
        "centroid_3 = scaler.inverse_transform(pca.inverse_transform(model_15.cluster_centers_[3]))\n",
        "underrepresented_c = pd.Series(data = centroid_3, index = features_customers.columns)\n",
        "underrepresented_c"
      ],
      "execution_count": null,
      "outputs": [
        {
          "output_type": "execute_result",
          "data": {
            "text/plain": [
              "ALTERSKATEGORIE_GROB    1.775027\n",
              "ANREDE_KZ               0.994734\n",
              "FINANZ_MINIMALIST       1.027733\n",
              "FINANZ_SPARER           4.521897\n",
              "FINANZ_VORSORGER        2.157440\n",
              "                          ...   \n",
              "CAMEO_DEU_2015_XX       0.001579\n",
              "generation              4.601051\n",
              "movement                0.138004\n",
              "wealth                  3.266880\n",
              "life_stage_typology,    1.133463\n",
              "Length: 196, dtype: float64"
            ]
          },
          "metadata": {
            "tags": []
          },
          "execution_count": 109
        }
      ]
    },
    {
      "cell_type": "markdown",
      "metadata": {
        "id": "NGhdWhRaM7LZ"
      },
      "source": [
        "### Discussion 3.3: Compare Customer Data to Demographics Data\n",
        "Looking at the figures above, the popular cluster contained in general individuals with high income, wealthy households, with a high number of 1-2 family houses in the microcell, in the 46 to 60 years old range, equally male or female, and with low movement. The unpopular cluster contained in general people with low income, poor households, with a low number of 1-2 family houses in the microcell, below 45 years old, mostly female, and with high movement."
      ]
    },
    {
      "cell_type": "markdown",
      "metadata": {
        "id": "mYlwJAxOM7La"
      },
      "source": [
        "> Congratulations on making it this far in the project! Before you finish, make sure to check through the entire notebook from top to bottom to make sure that your analysis follows a logical flow and all of your findings are documented in **Discussion** cells. Once you've checked over all of your work, you should export the notebook as an HTML document to submit for evaluation. You can do this from the menu, navigating to **File -> Download as -> HTML (.html)**. You will submit both that document and this notebook for your project submission."
      ]
    }
  ]
}