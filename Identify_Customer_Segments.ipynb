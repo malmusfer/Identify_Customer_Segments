{
  "nbformat": 4,
  "nbformat_minor": 0,
  "metadata": {
    "kernelspec": {
      "display_name": "Python 3",
      "language": "python",
      "name": "python3"
    },
    "language_info": {
      "codemirror_mode": {
        "name": "ipython",
        "version": 3
      },
      "file_extension": ".py",
      "mimetype": "text/x-python",
      "name": "python",
      "nbconvert_exporter": "python",
      "pygments_lexer": "ipython3",
      "version": "3.6.3"
    },
    "colab": {
      "name": "Identify_Customer_Segments.ipynb",
      "provenance": [],
      "toc_visible": true,
      "include_colab_link": true
    }
  },
  "cells": [
    {
      "cell_type": "markdown",
      "metadata": {
        "id": "view-in-github",
        "colab_type": "text"
      },
      "source": [
        "<a href=\"https://colab.research.google.com/github/malmusfer/Identify_Customer_Segments/blob/main/Identify_Customer_Segments.ipynb\" target=\"_parent\"><img src=\"https://colab.research.google.com/assets/colab-badge.svg\" alt=\"Open In Colab\"/></a>"
      ]
    },
    {
      "cell_type": "markdown",
      "metadata": {
        "id": "7_EWwAx_INH5"
      },
      "source": [
        "![alt text](data:image/png;base64,iVBORw0KGgoAAAANSUhEUgAAAJcAAABPCAMAAADRLKcJAAAAeFBMVEX///8AsuTx+f0Ar+Pp9vz7/v8hteUxueYArOHPz9HK6fdUwOj2+/7k9PsAquGgoKTt7u/AwcN3f4WAzu2Z1vBkxerT7fj19faAgobc3t9CvOd5yuyN0u6s3fK54vTa8Pl1d3yrq61NVF4+SFNscHiLj5OWmJ20trlqCGW8AAAC0UlEQVRoge2Z23KjMAyGLQzYnBoI5AQNKdsmef83XMlAwil7tSi7M/5n6mKJjr+xZCdShbCysrJaX94fXH/wra2wjC4vXPuyDFlZnkp2EkDmSy63QpfecROR4k8pAVdX83h5BRiXdPixzmbh3F/gqn3arAKHmJtqX5o4ubGacV0i40qEZudyTWIpzGtnul8OJZb0KeXZuT5xRSnPBmPCVVDOtS5urlpSnPKWZsLlALqqjoaVKy5xOR25PciEywfY9xNWLhc3y39emHMu9bgbeLkwUoOp5bJclstyWS7LZbn+H67YB/8V1wcAXwk54RIl6MGmDLlcPX6Tl2sHclC+DrlqCYz145QLV6+WuZD4/D4ud1S9DrgcDdIVbJpy0bY8N2zAtQPOMFLFo0eGiwQdDryqPQa1Bv2qpbKKAD7GhhwrxqR7xqokMg97+aKhsprwYthPLY/iLNRt8EI0KVYs8SllMba4WDTKwlyhuam1Y2qZAHMvJ5Sz69JVGDW/uAgPCZOk8HGqGM9iK9ycemLydtSxAIUR9RX1n3TF38TEIPkzY0jtgV5avaWDudy73FeqpZKc1/xQeOimqW9ksh10zt4k7FXJJTDqioGOkoU/4FKEYLtxZsfUvZTwrtZ4JwLrriwjrzAtxKXo8qptZVbni+M5l3OlabOqN3TFZzINaZBaf2htnl7+44NbdQlSdjcDRG9OrJGSOo9KVUZ5zf6hY2VlZWVl9S/qcJhZ0qHXm7+wnrIMhxut/9Vstllr+9X6tptme6J5gN8Sm+a72eC3xh+E+1ofMCCUDXEd8edKGOK6Mb+O/W4RF2GaMd2K1s3JdWrM4N3I9dO/M+IS2XWzPtYS1+3efB9ecz3ta+pEW/MlxDOOh22QBvduIg5zriMHl2hu2dWk+zG7XwnnHjxI79k1eBeXSIM2v9PTyRyz9DGIU2As3f3QH4NUWFlZWf19/QbV0iIDxsjqHwAAAABJRU5ErkJggg== \"Udacity\") ![alt text](https://www.miskacademy.edu.sa/app/themes/misk-academy/images/logos.png \"Misk\") \n",
        "\n",
        "\n",
        "\n",
        "\n",
        "# Data Scientist Nanodegree\n",
        "## Supervised Learning\n",
        "## Project: Identify Customer Segments\n",
        "## by: Almutairi, Muhanned\n",
        "![alt text](data:image/png;base64,iVBORw0KGgoAAAANSUhEUgAAACAAAAAgCAYAAABzenr0AAACtklEQVR4AeyVA5AkQRREZ862bTMcZ9u2wzrbtm3bWNvmaW3b3rzKRa+NOWVEDoqvqv//LZPtUpoubC2cLIxKMveyku1UmkYAG2EoyFYESFEgQIos346dX7K7YiFyN8iFB17Sxx4NRxzVdcbYO6aotke5cgB42sFXDGDjF4FM+UbGY+5TK9FXKQBKOKTtjNz68CMAdQ+oVjyAXPicoRtyS8M5GA0PqRGwgm9gxxdMf2SBkNhEZCoxORXbVH9CXllBWHOvCla9sQNPbegRit3qDmhyWL1SYkCKA7kIxvoH1MBrr5KZllJ/IWnK3zskZ/SXEIDB1vm0trAO6K5ndNCYN5DRz9tgWxdhfnc8pQ2madXdSmDb7CeWWPfOHite22LoDWMegiDFj4GJ983hFBLD9IOPcEB0AjZ8+S6daIeaAwJFG/v8ouJh4ROB3uf1sFHpB34GRSMmMRlJKalISE5hLEHJIRCjbptAXlyAmY8tEZ2QjOzaK4qSbHs6AItTdhHwvpU3N0ZB+hYQhcGXDTi//AFSUtNPW5SY3lX3KJc7gKSwuESYeIXByDMM4XFJyC1bv0i0PKbJoCx/ALewWMwSwccApZe9skFwTAKyiXEjPYZyBziq48zUlVK09j4VvLL3Q3ZFxCdh/D0z7lG+AHFJKVj03DrHwhxHqOzimjMeWZQ/QKQ42ZQH5jkW5u896o7IJmYJa0T5A/BqJ+S6Wv7eqebwH+A/QOUBTMwHYFdpAaY9tACrVqyYECPMOr9d1UF6Gx7QcgLb2McxfCOOu2uaB2CLyk/EJ6WPo4PEmtOLqgOsZK2Pa4IDSUvPeWKFXud1pRre94Ie5jy1kvqnC+AWxzTYn2Odnud0MSdjDM0i1ObXOvDVBQjNEFciMJrhKHJwH5FmDgIPfNds4DuniO75P3r6HNY9BwATNI1Cu+uNpgAAAABJRU5ErkJggg== \"LinkedIn profile\")[LinkedIn profile](https://www.linkedin.com/in/muhanned-almutairi-5bb1a5a0/)"
      ]
    },
    {
      "cell_type": "markdown",
      "metadata": {
        "id": "Qm54iYACM7Ii"
      },
      "source": [
        "## Introduction\n",
        "\n",
        "In this project, you will apply unsupervised learning techniques to identify segments of the population that form the core customer base for a mail-order sales company in Germany. These segments can then be used to direct marketing campaigns towards audiences that will have the highest expected rate of returns. The data that you will use has been provided by our partners at Bertelsmann Arvato Analytics, and represents a real-life data science task.\n",
        "\n",
        "This notebook will help you complete this task by providing a framework within which you will perform your analysis steps. In each step of the project, you will see some text describing the subtask that you will perform, followed by one or more code cells for you to complete your work. **Feel free to add additional code and markdown cells as you go along so that you can explore everything in precise chunks.** The code cells provided in the base template will outline only the major tasks, and will usually not be enough to cover all of the minor tasks that comprise it.\n",
        "\n",
        "It should be noted that while there will be precise guidelines on how you should handle certain tasks in the project, there will also be places where an exact specification is not provided. **There will be times in the project where you will need to make and justify your own decisions on how to treat the data.** These are places where there may not be only one way to handle the data. In real-life tasks, there may be many valid ways to approach an analysis task. One of the most important things you can do is clearly document your approach so that other scientists can understand the decisions you've made.\n",
        "\n",
        "At the end of most sections, there will be a Markdown cell labeled **Discussion**. In these cells, you will report your findings for the completed section, as well as document the decisions that you made in your approach to each subtask. **Your project will be evaluated not just on the code used to complete the tasks outlined, but also your communication about your observations and conclusions at each stage.**"
      ]
    },
    {
      "cell_type": "code",
      "metadata": {
        "id": "dfcXMWqkM7Ik",
        "outputId": "b43bedc3-3055-4721-8f9e-aa792f337b4c",
        "colab": {
          "base_uri": "https://localhost:8080/",
          "height": 52
        }
      },
      "source": [
        "# import libraries here; add more as necessary\n",
        "import numpy as np\n",
        "import pandas as pd\n",
        "import matplotlib.pyplot as plt\n",
        "import seaborn as sns\n",
        "\n",
        "# magic word for producing visualizations in notebook\n",
        "%matplotlib inline\n",
        "\n",
        "'''\n",
        "Import note: The classroom currently uses sklearn version 0.19.\n",
        "If you need to use an imputer, it is available in sklearn.preprocessing.Imputer,\n",
        "instead of sklearn.impute as in newer versions of sklearn.\n",
        "'''"
      ],
      "execution_count": 2,
      "outputs": [
        {
          "output_type": "execute_result",
          "data": {
            "application/vnd.google.colaboratory.intrinsic+json": {
              "type": "string"
            },
            "text/plain": [
              "'\\nImport note: The classroom currently uses sklearn version 0.19.\\nIf you need to use an imputer, it is available in sklearn.preprocessing.Imputer,\\ninstead of sklearn.impute as in newer versions of sklearn.\\n'"
            ]
          },
          "metadata": {
            "tags": []
          },
          "execution_count": 2
        }
      ]
    },
    {
      "cell_type": "markdown",
      "metadata": {
        "id": "TtvOHCCwM7Iq"
      },
      "source": [
        "### Step 0: Load the Data\n",
        "\n",
        "There are four files associated with this project (not including this one):\n",
        "\n",
        "- `Udacity_AZDIAS_Subset.csv`: Demographics data for the general population of Germany; 891211 persons (rows) x 85 features (columns).\n",
        "- `Udacity_CUSTOMERS_Subset.csv`: Demographics data for customers of a mail-order company; 191652 persons (rows) x 85 features (columns).\n",
        "- `Data_Dictionary.md`: Detailed information file about the features in the provided datasets.\n",
        "- `AZDIAS_Feature_Summary.csv`: Summary of feature attributes for demographics data; 85 features (rows) x 4 columns\n",
        "\n",
        "Each row of the demographics files represents a single person, but also includes information outside of individuals, including information about their household, building, and neighborhood. You will use this information to cluster the general population into groups with similar demographic properties. Then, you will see how the people in the customers dataset fit into those created clusters. The hope here is that certain clusters are over-represented in the customers data, as compared to the general population; those over-represented clusters will be assumed to be part of the core userbase. This information can then be used for further applications, such as targeting for a marketing campaign.\n",
        "\n",
        "To start off with, load in the demographics data for the general population into a pandas DataFrame, and do the same for the feature attributes summary. Note for all of the `.csv` data files in this project: they're semicolon (`;`) delimited, so you'll need an additional argument in your [`read_csv()`](https://pandas.pydata.org/pandas-docs/stable/generated/pandas.read_csv.html) call to read in the data properly. Also, considering the size of the main dataset, it may take some time for it to load completely.\n",
        "\n",
        "Once the dataset is loaded, it's recommended that you take a little bit of time just browsing the general structure of the dataset and feature summary file. You'll be getting deep into the innards of the cleaning in the first major step of the project, so gaining some general familiarity can help you get your bearings."
      ]
    },
    {
      "cell_type": "code",
      "metadata": {
        "id": "ojN6dCLmM7Ir"
      },
      "source": [
        "# Load in the general demographics data.\n",
        "azdias = pd.read_csv('Udacity_AZDIAS_Subset.csv', sep=';')\n",
        "\n",
        "# Load in the feature summary file.\n",
        "feat_info = pd.read_csv('AZDIAS_Feature_Summary.csv', sep=';')"
      ],
      "execution_count": 3,
      "outputs": []
    },
    {
      "cell_type": "code",
      "metadata": {
        "id": "RlSCuQimM7Ix",
        "outputId": "3a564c05-7112-4a85-afab-e5831bfcd960",
        "colab": {
          "base_uri": "https://localhost:8080/"
        }
      },
      "source": [
        "# Check the structure of the data after it's loaded (e.g. print the number of\n",
        "# rows and columns, print the first few rows).\n",
        "azdias.shape"
      ],
      "execution_count": 4,
      "outputs": [
        {
          "output_type": "execute_result",
          "data": {
            "text/plain": [
              "(891221, 85)"
            ]
          },
          "metadata": {
            "tags": []
          },
          "execution_count": 4
        }
      ]
    },
    {
      "cell_type": "code",
      "metadata": {
        "id": "qNbSsXbJNYbB",
        "outputId": "5fb86d4a-9bed-4208-cc78-0a9a8a50f409",
        "colab": {
          "base_uri": "https://localhost:8080/",
          "height": 1000
        }
      },
      "source": [
        "azdias.info()\n",
        "azdias.head(5)"
      ],
      "execution_count": 6,
      "outputs": [
        {
          "output_type": "stream",
          "text": [
            "<class 'pandas.core.frame.DataFrame'>\n",
            "RangeIndex: 891221 entries, 0 to 891220\n",
            "Data columns (total 85 columns):\n",
            " #   Column                 Non-Null Count   Dtype  \n",
            "---  ------                 --------------   -----  \n",
            " 0   AGER_TYP               891221 non-null  int64  \n",
            " 1   ALTERSKATEGORIE_GROB   891221 non-null  int64  \n",
            " 2   ANREDE_KZ              891221 non-null  int64  \n",
            " 3   CJT_GESAMTTYP          886367 non-null  float64\n",
            " 4   FINANZ_MINIMALIST      891221 non-null  int64  \n",
            " 5   FINANZ_SPARER          891221 non-null  int64  \n",
            " 6   FINANZ_VORSORGER       891221 non-null  int64  \n",
            " 7   FINANZ_ANLEGER         891221 non-null  int64  \n",
            " 8   FINANZ_UNAUFFAELLIGER  891221 non-null  int64  \n",
            " 9   FINANZ_HAUSBAUER       891221 non-null  int64  \n",
            " 10  FINANZTYP              891221 non-null  int64  \n",
            " 11  GEBURTSJAHR            891221 non-null  int64  \n",
            " 12  GFK_URLAUBERTYP        886367 non-null  float64\n",
            " 13  GREEN_AVANTGARDE       891221 non-null  int64  \n",
            " 14  HEALTH_TYP             891221 non-null  int64  \n",
            " 15  LP_LEBENSPHASE_FEIN    886367 non-null  float64\n",
            " 16  LP_LEBENSPHASE_GROB    886367 non-null  float64\n",
            " 17  LP_FAMILIE_FEIN        886367 non-null  float64\n",
            " 18  LP_FAMILIE_GROB        886367 non-null  float64\n",
            " 19  LP_STATUS_FEIN         886367 non-null  float64\n",
            " 20  LP_STATUS_GROB         886367 non-null  float64\n",
            " 21  NATIONALITAET_KZ       891221 non-null  int64  \n",
            " 22  PRAEGENDE_JUGENDJAHRE  891221 non-null  int64  \n",
            " 23  RETOURTYP_BK_S         886367 non-null  float64\n",
            " 24  SEMIO_SOZ              891221 non-null  int64  \n",
            " 25  SEMIO_FAM              891221 non-null  int64  \n",
            " 26  SEMIO_REL              891221 non-null  int64  \n",
            " 27  SEMIO_MAT              891221 non-null  int64  \n",
            " 28  SEMIO_VERT             891221 non-null  int64  \n",
            " 29  SEMIO_LUST             891221 non-null  int64  \n",
            " 30  SEMIO_ERL              891221 non-null  int64  \n",
            " 31  SEMIO_KULT             891221 non-null  int64  \n",
            " 32  SEMIO_RAT              891221 non-null  int64  \n",
            " 33  SEMIO_KRIT             891221 non-null  int64  \n",
            " 34  SEMIO_DOM              891221 non-null  int64  \n",
            " 35  SEMIO_KAEM             891221 non-null  int64  \n",
            " 36  SEMIO_PFLICHT          891221 non-null  int64  \n",
            " 37  SEMIO_TRADV            891221 non-null  int64  \n",
            " 38  SHOPPER_TYP            891221 non-null  int64  \n",
            " 39  SOHO_KZ                817722 non-null  float64\n",
            " 40  TITEL_KZ               817722 non-null  float64\n",
            " 41  VERS_TYP               891221 non-null  int64  \n",
            " 42  ZABEOTYP               891221 non-null  int64  \n",
            " 43  ALTER_HH               817722 non-null  float64\n",
            " 44  ANZ_PERSONEN           817722 non-null  float64\n",
            " 45  ANZ_TITEL              817722 non-null  float64\n",
            " 46  HH_EINKOMMEN_SCORE     872873 non-null  float64\n",
            " 47  KK_KUNDENTYP           306609 non-null  float64\n",
            " 48  W_KEIT_KIND_HH         783619 non-null  float64\n",
            " 49  WOHNDAUER_2008         817722 non-null  float64\n",
            " 50  ANZ_HAUSHALTE_AKTIV    798073 non-null  float64\n",
            " 51  ANZ_HH_TITEL           794213 non-null  float64\n",
            " 52  GEBAEUDETYP            798073 non-null  float64\n",
            " 53  KONSUMNAEHE            817252 non-null  float64\n",
            " 54  MIN_GEBAEUDEJAHR       798073 non-null  float64\n",
            " 55  OST_WEST_KZ            798073 non-null  object \n",
            " 56  WOHNLAGE               798073 non-null  float64\n",
            " 57  CAMEO_DEUG_2015        792242 non-null  object \n",
            " 58  CAMEO_DEU_2015         792242 non-null  object \n",
            " 59  CAMEO_INTL_2015        792242 non-null  object \n",
            " 60  KBA05_ANTG1            757897 non-null  float64\n",
            " 61  KBA05_ANTG2            757897 non-null  float64\n",
            " 62  KBA05_ANTG3            757897 non-null  float64\n",
            " 63  KBA05_ANTG4            757897 non-null  float64\n",
            " 64  KBA05_BAUMAX           757897 non-null  float64\n",
            " 65  KBA05_GBZ              757897 non-null  float64\n",
            " 66  BALLRAUM               797481 non-null  float64\n",
            " 67  EWDICHTE               797481 non-null  float64\n",
            " 68  INNENSTADT             797481 non-null  float64\n",
            " 69  GEBAEUDETYP_RASTER     798066 non-null  float64\n",
            " 70  KKK                    770025 non-null  float64\n",
            " 71  MOBI_REGIO             757897 non-null  float64\n",
            " 72  ONLINE_AFFINITAET      886367 non-null  float64\n",
            " 73  REGIOTYP               770025 non-null  float64\n",
            " 74  KBA13_ANZAHL_PKW       785421 non-null  float64\n",
            " 75  PLZ8_ANTG1             774706 non-null  float64\n",
            " 76  PLZ8_ANTG2             774706 non-null  float64\n",
            " 77  PLZ8_ANTG3             774706 non-null  float64\n",
            " 78  PLZ8_ANTG4             774706 non-null  float64\n",
            " 79  PLZ8_BAUMAX            774706 non-null  float64\n",
            " 80  PLZ8_HHZ               774706 non-null  float64\n",
            " 81  PLZ8_GBZ               774706 non-null  float64\n",
            " 82  ARBEIT                 794005 non-null  float64\n",
            " 83  ORTSGR_KLS9            794005 non-null  float64\n",
            " 84  RELAT_AB               794005 non-null  float64\n",
            "dtypes: float64(49), int64(32), object(4)\n",
            "memory usage: 578.0+ MB\n"
          ],
          "name": "stdout"
        },
        {
          "output_type": "execute_result",
          "data": {
            "text/html": [
              "<div>\n",
              "<style scoped>\n",
              "    .dataframe tbody tr th:only-of-type {\n",
              "        vertical-align: middle;\n",
              "    }\n",
              "\n",
              "    .dataframe tbody tr th {\n",
              "        vertical-align: top;\n",
              "    }\n",
              "\n",
              "    .dataframe thead th {\n",
              "        text-align: right;\n",
              "    }\n",
              "</style>\n",
              "<table border=\"1\" class=\"dataframe\">\n",
              "  <thead>\n",
              "    <tr style=\"text-align: right;\">\n",
              "      <th></th>\n",
              "      <th>AGER_TYP</th>\n",
              "      <th>ALTERSKATEGORIE_GROB</th>\n",
              "      <th>ANREDE_KZ</th>\n",
              "      <th>CJT_GESAMTTYP</th>\n",
              "      <th>FINANZ_MINIMALIST</th>\n",
              "      <th>FINANZ_SPARER</th>\n",
              "      <th>FINANZ_VORSORGER</th>\n",
              "      <th>FINANZ_ANLEGER</th>\n",
              "      <th>FINANZ_UNAUFFAELLIGER</th>\n",
              "      <th>FINANZ_HAUSBAUER</th>\n",
              "      <th>FINANZTYP</th>\n",
              "      <th>GEBURTSJAHR</th>\n",
              "      <th>GFK_URLAUBERTYP</th>\n",
              "      <th>GREEN_AVANTGARDE</th>\n",
              "      <th>HEALTH_TYP</th>\n",
              "      <th>LP_LEBENSPHASE_FEIN</th>\n",
              "      <th>LP_LEBENSPHASE_GROB</th>\n",
              "      <th>LP_FAMILIE_FEIN</th>\n",
              "      <th>LP_FAMILIE_GROB</th>\n",
              "      <th>LP_STATUS_FEIN</th>\n",
              "      <th>LP_STATUS_GROB</th>\n",
              "      <th>NATIONALITAET_KZ</th>\n",
              "      <th>PRAEGENDE_JUGENDJAHRE</th>\n",
              "      <th>RETOURTYP_BK_S</th>\n",
              "      <th>SEMIO_SOZ</th>\n",
              "      <th>SEMIO_FAM</th>\n",
              "      <th>SEMIO_REL</th>\n",
              "      <th>SEMIO_MAT</th>\n",
              "      <th>SEMIO_VERT</th>\n",
              "      <th>SEMIO_LUST</th>\n",
              "      <th>SEMIO_ERL</th>\n",
              "      <th>SEMIO_KULT</th>\n",
              "      <th>SEMIO_RAT</th>\n",
              "      <th>SEMIO_KRIT</th>\n",
              "      <th>SEMIO_DOM</th>\n",
              "      <th>SEMIO_KAEM</th>\n",
              "      <th>SEMIO_PFLICHT</th>\n",
              "      <th>SEMIO_TRADV</th>\n",
              "      <th>SHOPPER_TYP</th>\n",
              "      <th>SOHO_KZ</th>\n",
              "      <th>...</th>\n",
              "      <th>ANZ_TITEL</th>\n",
              "      <th>HH_EINKOMMEN_SCORE</th>\n",
              "      <th>KK_KUNDENTYP</th>\n",
              "      <th>W_KEIT_KIND_HH</th>\n",
              "      <th>WOHNDAUER_2008</th>\n",
              "      <th>ANZ_HAUSHALTE_AKTIV</th>\n",
              "      <th>ANZ_HH_TITEL</th>\n",
              "      <th>GEBAEUDETYP</th>\n",
              "      <th>KONSUMNAEHE</th>\n",
              "      <th>MIN_GEBAEUDEJAHR</th>\n",
              "      <th>OST_WEST_KZ</th>\n",
              "      <th>WOHNLAGE</th>\n",
              "      <th>CAMEO_DEUG_2015</th>\n",
              "      <th>CAMEO_DEU_2015</th>\n",
              "      <th>CAMEO_INTL_2015</th>\n",
              "      <th>KBA05_ANTG1</th>\n",
              "      <th>KBA05_ANTG2</th>\n",
              "      <th>KBA05_ANTG3</th>\n",
              "      <th>KBA05_ANTG4</th>\n",
              "      <th>KBA05_BAUMAX</th>\n",
              "      <th>KBA05_GBZ</th>\n",
              "      <th>BALLRAUM</th>\n",
              "      <th>EWDICHTE</th>\n",
              "      <th>INNENSTADT</th>\n",
              "      <th>GEBAEUDETYP_RASTER</th>\n",
              "      <th>KKK</th>\n",
              "      <th>MOBI_REGIO</th>\n",
              "      <th>ONLINE_AFFINITAET</th>\n",
              "      <th>REGIOTYP</th>\n",
              "      <th>KBA13_ANZAHL_PKW</th>\n",
              "      <th>PLZ8_ANTG1</th>\n",
              "      <th>PLZ8_ANTG2</th>\n",
              "      <th>PLZ8_ANTG3</th>\n",
              "      <th>PLZ8_ANTG4</th>\n",
              "      <th>PLZ8_BAUMAX</th>\n",
              "      <th>PLZ8_HHZ</th>\n",
              "      <th>PLZ8_GBZ</th>\n",
              "      <th>ARBEIT</th>\n",
              "      <th>ORTSGR_KLS9</th>\n",
              "      <th>RELAT_AB</th>\n",
              "    </tr>\n",
              "  </thead>\n",
              "  <tbody>\n",
              "    <tr>\n",
              "      <th>0</th>\n",
              "      <td>-1</td>\n",
              "      <td>2</td>\n",
              "      <td>1</td>\n",
              "      <td>2.0</td>\n",
              "      <td>3</td>\n",
              "      <td>4</td>\n",
              "      <td>3</td>\n",
              "      <td>5</td>\n",
              "      <td>5</td>\n",
              "      <td>3</td>\n",
              "      <td>4</td>\n",
              "      <td>0</td>\n",
              "      <td>10.0</td>\n",
              "      <td>0</td>\n",
              "      <td>-1</td>\n",
              "      <td>15.0</td>\n",
              "      <td>4.0</td>\n",
              "      <td>2.0</td>\n",
              "      <td>2.0</td>\n",
              "      <td>1.0</td>\n",
              "      <td>1.0</td>\n",
              "      <td>0</td>\n",
              "      <td>0</td>\n",
              "      <td>5.0</td>\n",
              "      <td>2</td>\n",
              "      <td>6</td>\n",
              "      <td>7</td>\n",
              "      <td>5</td>\n",
              "      <td>1</td>\n",
              "      <td>5</td>\n",
              "      <td>3</td>\n",
              "      <td>3</td>\n",
              "      <td>4</td>\n",
              "      <td>7</td>\n",
              "      <td>6</td>\n",
              "      <td>6</td>\n",
              "      <td>5</td>\n",
              "      <td>3</td>\n",
              "      <td>-1</td>\n",
              "      <td>NaN</td>\n",
              "      <td>...</td>\n",
              "      <td>NaN</td>\n",
              "      <td>2.0</td>\n",
              "      <td>NaN</td>\n",
              "      <td>NaN</td>\n",
              "      <td>NaN</td>\n",
              "      <td>NaN</td>\n",
              "      <td>NaN</td>\n",
              "      <td>NaN</td>\n",
              "      <td>NaN</td>\n",
              "      <td>NaN</td>\n",
              "      <td>NaN</td>\n",
              "      <td>NaN</td>\n",
              "      <td>NaN</td>\n",
              "      <td>NaN</td>\n",
              "      <td>NaN</td>\n",
              "      <td>NaN</td>\n",
              "      <td>NaN</td>\n",
              "      <td>NaN</td>\n",
              "      <td>NaN</td>\n",
              "      <td>NaN</td>\n",
              "      <td>NaN</td>\n",
              "      <td>NaN</td>\n",
              "      <td>NaN</td>\n",
              "      <td>NaN</td>\n",
              "      <td>NaN</td>\n",
              "      <td>NaN</td>\n",
              "      <td>NaN</td>\n",
              "      <td>1.0</td>\n",
              "      <td>NaN</td>\n",
              "      <td>NaN</td>\n",
              "      <td>NaN</td>\n",
              "      <td>NaN</td>\n",
              "      <td>NaN</td>\n",
              "      <td>NaN</td>\n",
              "      <td>NaN</td>\n",
              "      <td>NaN</td>\n",
              "      <td>NaN</td>\n",
              "      <td>NaN</td>\n",
              "      <td>NaN</td>\n",
              "      <td>NaN</td>\n",
              "    </tr>\n",
              "    <tr>\n",
              "      <th>1</th>\n",
              "      <td>-1</td>\n",
              "      <td>1</td>\n",
              "      <td>2</td>\n",
              "      <td>5.0</td>\n",
              "      <td>1</td>\n",
              "      <td>5</td>\n",
              "      <td>2</td>\n",
              "      <td>5</td>\n",
              "      <td>4</td>\n",
              "      <td>5</td>\n",
              "      <td>1</td>\n",
              "      <td>1996</td>\n",
              "      <td>10.0</td>\n",
              "      <td>0</td>\n",
              "      <td>3</td>\n",
              "      <td>21.0</td>\n",
              "      <td>6.0</td>\n",
              "      <td>5.0</td>\n",
              "      <td>3.0</td>\n",
              "      <td>2.0</td>\n",
              "      <td>1.0</td>\n",
              "      <td>1</td>\n",
              "      <td>14</td>\n",
              "      <td>1.0</td>\n",
              "      <td>5</td>\n",
              "      <td>4</td>\n",
              "      <td>4</td>\n",
              "      <td>3</td>\n",
              "      <td>1</td>\n",
              "      <td>2</td>\n",
              "      <td>2</td>\n",
              "      <td>3</td>\n",
              "      <td>6</td>\n",
              "      <td>4</td>\n",
              "      <td>7</td>\n",
              "      <td>4</td>\n",
              "      <td>7</td>\n",
              "      <td>6</td>\n",
              "      <td>3</td>\n",
              "      <td>1.0</td>\n",
              "      <td>...</td>\n",
              "      <td>0.0</td>\n",
              "      <td>6.0</td>\n",
              "      <td>NaN</td>\n",
              "      <td>3.0</td>\n",
              "      <td>9.0</td>\n",
              "      <td>11.0</td>\n",
              "      <td>0.0</td>\n",
              "      <td>8.0</td>\n",
              "      <td>1.0</td>\n",
              "      <td>1992.0</td>\n",
              "      <td>W</td>\n",
              "      <td>4.0</td>\n",
              "      <td>8</td>\n",
              "      <td>8A</td>\n",
              "      <td>51</td>\n",
              "      <td>0.0</td>\n",
              "      <td>0.0</td>\n",
              "      <td>0.0</td>\n",
              "      <td>2.0</td>\n",
              "      <td>5.0</td>\n",
              "      <td>1.0</td>\n",
              "      <td>6.0</td>\n",
              "      <td>3.0</td>\n",
              "      <td>8.0</td>\n",
              "      <td>3.0</td>\n",
              "      <td>2.0</td>\n",
              "      <td>1.0</td>\n",
              "      <td>3.0</td>\n",
              "      <td>3.0</td>\n",
              "      <td>963.0</td>\n",
              "      <td>2.0</td>\n",
              "      <td>3.0</td>\n",
              "      <td>2.0</td>\n",
              "      <td>1.0</td>\n",
              "      <td>1.0</td>\n",
              "      <td>5.0</td>\n",
              "      <td>4.0</td>\n",
              "      <td>3.0</td>\n",
              "      <td>5.0</td>\n",
              "      <td>4.0</td>\n",
              "    </tr>\n",
              "    <tr>\n",
              "      <th>2</th>\n",
              "      <td>-1</td>\n",
              "      <td>3</td>\n",
              "      <td>2</td>\n",
              "      <td>3.0</td>\n",
              "      <td>1</td>\n",
              "      <td>4</td>\n",
              "      <td>1</td>\n",
              "      <td>2</td>\n",
              "      <td>3</td>\n",
              "      <td>5</td>\n",
              "      <td>1</td>\n",
              "      <td>1979</td>\n",
              "      <td>10.0</td>\n",
              "      <td>1</td>\n",
              "      <td>3</td>\n",
              "      <td>3.0</td>\n",
              "      <td>1.0</td>\n",
              "      <td>1.0</td>\n",
              "      <td>1.0</td>\n",
              "      <td>3.0</td>\n",
              "      <td>2.0</td>\n",
              "      <td>1</td>\n",
              "      <td>15</td>\n",
              "      <td>3.0</td>\n",
              "      <td>4</td>\n",
              "      <td>1</td>\n",
              "      <td>3</td>\n",
              "      <td>3</td>\n",
              "      <td>4</td>\n",
              "      <td>4</td>\n",
              "      <td>6</td>\n",
              "      <td>3</td>\n",
              "      <td>4</td>\n",
              "      <td>7</td>\n",
              "      <td>7</td>\n",
              "      <td>7</td>\n",
              "      <td>3</td>\n",
              "      <td>3</td>\n",
              "      <td>2</td>\n",
              "      <td>0.0</td>\n",
              "      <td>...</td>\n",
              "      <td>0.0</td>\n",
              "      <td>4.0</td>\n",
              "      <td>NaN</td>\n",
              "      <td>3.0</td>\n",
              "      <td>9.0</td>\n",
              "      <td>10.0</td>\n",
              "      <td>0.0</td>\n",
              "      <td>1.0</td>\n",
              "      <td>5.0</td>\n",
              "      <td>1992.0</td>\n",
              "      <td>W</td>\n",
              "      <td>2.0</td>\n",
              "      <td>4</td>\n",
              "      <td>4C</td>\n",
              "      <td>24</td>\n",
              "      <td>1.0</td>\n",
              "      <td>3.0</td>\n",
              "      <td>1.0</td>\n",
              "      <td>0.0</td>\n",
              "      <td>0.0</td>\n",
              "      <td>3.0</td>\n",
              "      <td>2.0</td>\n",
              "      <td>4.0</td>\n",
              "      <td>4.0</td>\n",
              "      <td>4.0</td>\n",
              "      <td>2.0</td>\n",
              "      <td>3.0</td>\n",
              "      <td>2.0</td>\n",
              "      <td>2.0</td>\n",
              "      <td>712.0</td>\n",
              "      <td>3.0</td>\n",
              "      <td>3.0</td>\n",
              "      <td>1.0</td>\n",
              "      <td>0.0</td>\n",
              "      <td>1.0</td>\n",
              "      <td>4.0</td>\n",
              "      <td>4.0</td>\n",
              "      <td>3.0</td>\n",
              "      <td>5.0</td>\n",
              "      <td>2.0</td>\n",
              "    </tr>\n",
              "    <tr>\n",
              "      <th>3</th>\n",
              "      <td>2</td>\n",
              "      <td>4</td>\n",
              "      <td>2</td>\n",
              "      <td>2.0</td>\n",
              "      <td>4</td>\n",
              "      <td>2</td>\n",
              "      <td>5</td>\n",
              "      <td>2</td>\n",
              "      <td>1</td>\n",
              "      <td>2</td>\n",
              "      <td>6</td>\n",
              "      <td>1957</td>\n",
              "      <td>1.0</td>\n",
              "      <td>0</td>\n",
              "      <td>2</td>\n",
              "      <td>0.0</td>\n",
              "      <td>0.0</td>\n",
              "      <td>0.0</td>\n",
              "      <td>0.0</td>\n",
              "      <td>9.0</td>\n",
              "      <td>4.0</td>\n",
              "      <td>1</td>\n",
              "      <td>8</td>\n",
              "      <td>2.0</td>\n",
              "      <td>5</td>\n",
              "      <td>1</td>\n",
              "      <td>2</td>\n",
              "      <td>1</td>\n",
              "      <td>4</td>\n",
              "      <td>4</td>\n",
              "      <td>7</td>\n",
              "      <td>4</td>\n",
              "      <td>3</td>\n",
              "      <td>4</td>\n",
              "      <td>4</td>\n",
              "      <td>5</td>\n",
              "      <td>4</td>\n",
              "      <td>4</td>\n",
              "      <td>1</td>\n",
              "      <td>0.0</td>\n",
              "      <td>...</td>\n",
              "      <td>0.0</td>\n",
              "      <td>1.0</td>\n",
              "      <td>NaN</td>\n",
              "      <td>NaN</td>\n",
              "      <td>9.0</td>\n",
              "      <td>1.0</td>\n",
              "      <td>0.0</td>\n",
              "      <td>1.0</td>\n",
              "      <td>4.0</td>\n",
              "      <td>1997.0</td>\n",
              "      <td>W</td>\n",
              "      <td>7.0</td>\n",
              "      <td>2</td>\n",
              "      <td>2A</td>\n",
              "      <td>12</td>\n",
              "      <td>4.0</td>\n",
              "      <td>1.0</td>\n",
              "      <td>0.0</td>\n",
              "      <td>0.0</td>\n",
              "      <td>1.0</td>\n",
              "      <td>4.0</td>\n",
              "      <td>4.0</td>\n",
              "      <td>2.0</td>\n",
              "      <td>6.0</td>\n",
              "      <td>4.0</td>\n",
              "      <td>0.0</td>\n",
              "      <td>4.0</td>\n",
              "      <td>1.0</td>\n",
              "      <td>0.0</td>\n",
              "      <td>596.0</td>\n",
              "      <td>2.0</td>\n",
              "      <td>2.0</td>\n",
              "      <td>2.0</td>\n",
              "      <td>0.0</td>\n",
              "      <td>1.0</td>\n",
              "      <td>3.0</td>\n",
              "      <td>4.0</td>\n",
              "      <td>2.0</td>\n",
              "      <td>3.0</td>\n",
              "      <td>3.0</td>\n",
              "    </tr>\n",
              "    <tr>\n",
              "      <th>4</th>\n",
              "      <td>-1</td>\n",
              "      <td>3</td>\n",
              "      <td>1</td>\n",
              "      <td>5.0</td>\n",
              "      <td>4</td>\n",
              "      <td>3</td>\n",
              "      <td>4</td>\n",
              "      <td>1</td>\n",
              "      <td>3</td>\n",
              "      <td>2</td>\n",
              "      <td>5</td>\n",
              "      <td>1963</td>\n",
              "      <td>5.0</td>\n",
              "      <td>0</td>\n",
              "      <td>3</td>\n",
              "      <td>32.0</td>\n",
              "      <td>10.0</td>\n",
              "      <td>10.0</td>\n",
              "      <td>5.0</td>\n",
              "      <td>3.0</td>\n",
              "      <td>2.0</td>\n",
              "      <td>1</td>\n",
              "      <td>8</td>\n",
              "      <td>5.0</td>\n",
              "      <td>6</td>\n",
              "      <td>4</td>\n",
              "      <td>4</td>\n",
              "      <td>2</td>\n",
              "      <td>7</td>\n",
              "      <td>4</td>\n",
              "      <td>4</td>\n",
              "      <td>6</td>\n",
              "      <td>2</td>\n",
              "      <td>3</td>\n",
              "      <td>2</td>\n",
              "      <td>2</td>\n",
              "      <td>4</td>\n",
              "      <td>2</td>\n",
              "      <td>2</td>\n",
              "      <td>0.0</td>\n",
              "      <td>...</td>\n",
              "      <td>0.0</td>\n",
              "      <td>5.0</td>\n",
              "      <td>1.0</td>\n",
              "      <td>2.0</td>\n",
              "      <td>9.0</td>\n",
              "      <td>3.0</td>\n",
              "      <td>0.0</td>\n",
              "      <td>1.0</td>\n",
              "      <td>4.0</td>\n",
              "      <td>1992.0</td>\n",
              "      <td>W</td>\n",
              "      <td>3.0</td>\n",
              "      <td>6</td>\n",
              "      <td>6B</td>\n",
              "      <td>43</td>\n",
              "      <td>1.0</td>\n",
              "      <td>4.0</td>\n",
              "      <td>1.0</td>\n",
              "      <td>0.0</td>\n",
              "      <td>0.0</td>\n",
              "      <td>3.0</td>\n",
              "      <td>2.0</td>\n",
              "      <td>5.0</td>\n",
              "      <td>1.0</td>\n",
              "      <td>5.0</td>\n",
              "      <td>3.0</td>\n",
              "      <td>3.0</td>\n",
              "      <td>5.0</td>\n",
              "      <td>5.0</td>\n",
              "      <td>435.0</td>\n",
              "      <td>2.0</td>\n",
              "      <td>4.0</td>\n",
              "      <td>2.0</td>\n",
              "      <td>1.0</td>\n",
              "      <td>2.0</td>\n",
              "      <td>3.0</td>\n",
              "      <td>3.0</td>\n",
              "      <td>4.0</td>\n",
              "      <td>6.0</td>\n",
              "      <td>5.0</td>\n",
              "    </tr>\n",
              "  </tbody>\n",
              "</table>\n",
              "<p>5 rows × 85 columns</p>\n",
              "</div>"
            ],
            "text/plain": [
              "   AGER_TYP  ALTERSKATEGORIE_GROB  ANREDE_KZ  ...  ARBEIT  ORTSGR_KLS9  RELAT_AB\n",
              "0        -1                     2          1  ...     NaN          NaN       NaN\n",
              "1        -1                     1          2  ...     3.0          5.0       4.0\n",
              "2        -1                     3          2  ...     3.0          5.0       2.0\n",
              "3         2                     4          2  ...     2.0          3.0       3.0\n",
              "4        -1                     3          1  ...     4.0          6.0       5.0\n",
              "\n",
              "[5 rows x 85 columns]"
            ]
          },
          "metadata": {
            "tags": []
          },
          "execution_count": 6
        }
      ]
    },
    {
      "cell_type": "code",
      "metadata": {
        "id": "7dCGQbJmMCKI",
        "outputId": "d6158f1a-eb07-4720-b0d9-47845cc1c758",
        "colab": {
          "base_uri": "https://localhost:8080/"
        }
      },
      "source": [
        "# Again for the feature summary\n",
        "feat_info.shape"
      ],
      "execution_count": 7,
      "outputs": [
        {
          "output_type": "execute_result",
          "data": {
            "text/plain": [
              "(85, 4)"
            ]
          },
          "metadata": {
            "tags": []
          },
          "execution_count": 7
        }
      ]
    },
    {
      "cell_type": "code",
      "metadata": {
        "id": "0xuBEd2RNVQU",
        "outputId": "bbea9a72-1979-4839-9259-d9bacc7edc75",
        "colab": {
          "base_uri": "https://localhost:8080/",
          "height": 391
        }
      },
      "source": [
        "feat_info.info()\n",
        "feat_info.head()"
      ],
      "execution_count": 8,
      "outputs": [
        {
          "output_type": "stream",
          "text": [
            "<class 'pandas.core.frame.DataFrame'>\n",
            "RangeIndex: 85 entries, 0 to 84\n",
            "Data columns (total 4 columns):\n",
            " #   Column              Non-Null Count  Dtype \n",
            "---  ------              --------------  ----- \n",
            " 0   attribute           85 non-null     object\n",
            " 1   information_level   85 non-null     object\n",
            " 2   type                85 non-null     object\n",
            " 3   missing_or_unknown  85 non-null     object\n",
            "dtypes: object(4)\n",
            "memory usage: 2.8+ KB\n"
          ],
          "name": "stdout"
        },
        {
          "output_type": "execute_result",
          "data": {
            "text/html": [
              "<div>\n",
              "<style scoped>\n",
              "    .dataframe tbody tr th:only-of-type {\n",
              "        vertical-align: middle;\n",
              "    }\n",
              "\n",
              "    .dataframe tbody tr th {\n",
              "        vertical-align: top;\n",
              "    }\n",
              "\n",
              "    .dataframe thead th {\n",
              "        text-align: right;\n",
              "    }\n",
              "</style>\n",
              "<table border=\"1\" class=\"dataframe\">\n",
              "  <thead>\n",
              "    <tr style=\"text-align: right;\">\n",
              "      <th></th>\n",
              "      <th>attribute</th>\n",
              "      <th>information_level</th>\n",
              "      <th>type</th>\n",
              "      <th>missing_or_unknown</th>\n",
              "    </tr>\n",
              "  </thead>\n",
              "  <tbody>\n",
              "    <tr>\n",
              "      <th>0</th>\n",
              "      <td>AGER_TYP</td>\n",
              "      <td>person</td>\n",
              "      <td>categorical</td>\n",
              "      <td>[-1,0]</td>\n",
              "    </tr>\n",
              "    <tr>\n",
              "      <th>1</th>\n",
              "      <td>ALTERSKATEGORIE_GROB</td>\n",
              "      <td>person</td>\n",
              "      <td>ordinal</td>\n",
              "      <td>[-1,0,9]</td>\n",
              "    </tr>\n",
              "    <tr>\n",
              "      <th>2</th>\n",
              "      <td>ANREDE_KZ</td>\n",
              "      <td>person</td>\n",
              "      <td>categorical</td>\n",
              "      <td>[-1,0]</td>\n",
              "    </tr>\n",
              "    <tr>\n",
              "      <th>3</th>\n",
              "      <td>CJT_GESAMTTYP</td>\n",
              "      <td>person</td>\n",
              "      <td>categorical</td>\n",
              "      <td>[0]</td>\n",
              "    </tr>\n",
              "    <tr>\n",
              "      <th>4</th>\n",
              "      <td>FINANZ_MINIMALIST</td>\n",
              "      <td>person</td>\n",
              "      <td>ordinal</td>\n",
              "      <td>[-1]</td>\n",
              "    </tr>\n",
              "  </tbody>\n",
              "</table>\n",
              "</div>"
            ],
            "text/plain": [
              "              attribute information_level         type missing_or_unknown\n",
              "0              AGER_TYP            person  categorical             [-1,0]\n",
              "1  ALTERSKATEGORIE_GROB            person      ordinal           [-1,0,9]\n",
              "2             ANREDE_KZ            person  categorical             [-1,0]\n",
              "3         CJT_GESAMTTYP            person  categorical                [0]\n",
              "4     FINANZ_MINIMALIST            person      ordinal               [-1]"
            ]
          },
          "metadata": {
            "tags": []
          },
          "execution_count": 8
        }
      ]
    },
    {
      "cell_type": "markdown",
      "metadata": {
        "id": "j72aYfrSM7I8"
      },
      "source": [
        "> **Tip**: Add additional cells to keep everything in reasonably-sized chunks! Keyboard shortcut `esc --> a` (press escape to enter command mode, then press the 'A' key) adds a new cell before the active cell, and `esc --> b` adds a new cell after the active cell. If you need to convert an active cell to a markdown cell, use `esc --> m` and to convert to a code cell, use `esc --> y`. \n",
        "\n",
        "## Step 1: Preprocessing\n",
        "\n",
        "### Step 1.1: Assess Missing Data\n",
        "\n",
        "The feature summary file contains a summary of properties for each demographics data column. You will use this file to help you make cleaning decisions during this stage of the project. First of all, you should assess the demographics data in terms of missing data. Pay attention to the following points as you perform your analysis, and take notes on what you observe. Make sure that you fill in the **Discussion** cell with your findings and decisions at the end of each step that has one!\n",
        "\n",
        "#### Step 1.1.1: Convert Missing Value Codes to NaNs\n",
        "The fourth column of the feature attributes summary (loaded in above as `feat_info`) documents the codes from the data dictionary that indicate missing or unknown data. While the file encodes this as a list (e.g. `[-1,0]`), this will get read in as a string object. You'll need to do a little bit of parsing to make use of it to identify and clean the data. Convert data that matches a 'missing' or 'unknown' value code into a numpy NaN value. You might want to see how much data takes on a 'missing' or 'unknown' code, and how much data is naturally missing, as a point of interest.\n",
        "\n",
        "**As one more reminder, you are encouraged to add additional cells to break up your analysis into manageable chunks.**"
      ]
    },
    {
      "cell_type": "code",
      "metadata": {
        "id": "_inutrWmM7I9"
      },
      "source": [
        "# Identify missing or unknown data values and convert them to NaNs."
      ],
      "execution_count": 9,
      "outputs": []
    },
    {
      "cell_type": "code",
      "metadata": {
        "id": "QzeGhMgsoFQW"
      },
      "source": [
        "feat_info['missing_or_unknown'] = feat_info['missing_or_unknown'].apply(lambda x: x[1:-1].split(','))"
      ],
      "execution_count": 10,
      "outputs": []
    },
    {
      "cell_type": "code",
      "metadata": {
        "id": "ZihIiFGjq06-",
        "outputId": "8f83bcc3-30e7-40d0-b044-c873b3f74def",
        "colab": {
          "base_uri": "https://localhost:8080/",
          "height": 204
        }
      },
      "source": [
        "feat_info.head()"
      ],
      "execution_count": 11,
      "outputs": [
        {
          "output_type": "execute_result",
          "data": {
            "text/html": [
              "<div>\n",
              "<style scoped>\n",
              "    .dataframe tbody tr th:only-of-type {\n",
              "        vertical-align: middle;\n",
              "    }\n",
              "\n",
              "    .dataframe tbody tr th {\n",
              "        vertical-align: top;\n",
              "    }\n",
              "\n",
              "    .dataframe thead th {\n",
              "        text-align: right;\n",
              "    }\n",
              "</style>\n",
              "<table border=\"1\" class=\"dataframe\">\n",
              "  <thead>\n",
              "    <tr style=\"text-align: right;\">\n",
              "      <th></th>\n",
              "      <th>attribute</th>\n",
              "      <th>information_level</th>\n",
              "      <th>type</th>\n",
              "      <th>missing_or_unknown</th>\n",
              "    </tr>\n",
              "  </thead>\n",
              "  <tbody>\n",
              "    <tr>\n",
              "      <th>0</th>\n",
              "      <td>AGER_TYP</td>\n",
              "      <td>person</td>\n",
              "      <td>categorical</td>\n",
              "      <td>[-1, 0]</td>\n",
              "    </tr>\n",
              "    <tr>\n",
              "      <th>1</th>\n",
              "      <td>ALTERSKATEGORIE_GROB</td>\n",
              "      <td>person</td>\n",
              "      <td>ordinal</td>\n",
              "      <td>[-1, 0, 9]</td>\n",
              "    </tr>\n",
              "    <tr>\n",
              "      <th>2</th>\n",
              "      <td>ANREDE_KZ</td>\n",
              "      <td>person</td>\n",
              "      <td>categorical</td>\n",
              "      <td>[-1, 0]</td>\n",
              "    </tr>\n",
              "    <tr>\n",
              "      <th>3</th>\n",
              "      <td>CJT_GESAMTTYP</td>\n",
              "      <td>person</td>\n",
              "      <td>categorical</td>\n",
              "      <td>[0]</td>\n",
              "    </tr>\n",
              "    <tr>\n",
              "      <th>4</th>\n",
              "      <td>FINANZ_MINIMALIST</td>\n",
              "      <td>person</td>\n",
              "      <td>ordinal</td>\n",
              "      <td>[-1]</td>\n",
              "    </tr>\n",
              "  </tbody>\n",
              "</table>\n",
              "</div>"
            ],
            "text/plain": [
              "              attribute information_level         type missing_or_unknown\n",
              "0              AGER_TYP            person  categorical            [-1, 0]\n",
              "1  ALTERSKATEGORIE_GROB            person      ordinal         [-1, 0, 9]\n",
              "2             ANREDE_KZ            person  categorical            [-1, 0]\n",
              "3         CJT_GESAMTTYP            person  categorical                [0]\n",
              "4     FINANZ_MINIMALIST            person      ordinal               [-1]"
            ]
          },
          "metadata": {
            "tags": []
          },
          "execution_count": 11
        }
      ]
    },
    {
      "cell_type": "code",
      "metadata": {
        "id": "-ZLGXPtiqisp"
      },
      "source": [
        "for att, miss_vals in zip(feat_info['attribute'], feat_info['missing_or_unknown']):\n",
        "    if miss_vals[0] != '':\n",
        "        for v in miss_vals:\n",
        "            if v.isnumeric() or v.lstrip('-').isnumeric():\n",
        "                v = int(v)\n",
        "            azdias.loc[azdias[att] == v, att] = np.nan"
      ],
      "execution_count": 12,
      "outputs": []
    },
    {
      "cell_type": "code",
      "metadata": {
        "id": "9YxOXRoOrkjz",
        "outputId": "d2e66495-af1b-4385-e1b8-18532dbc4fa7",
        "colab": {
          "base_uri": "https://localhost:8080/",
          "height": 253
        }
      },
      "source": [
        "azdias.head()"
      ],
      "execution_count": 13,
      "outputs": [
        {
          "output_type": "execute_result",
          "data": {
            "text/html": [
              "<div>\n",
              "<style scoped>\n",
              "    .dataframe tbody tr th:only-of-type {\n",
              "        vertical-align: middle;\n",
              "    }\n",
              "\n",
              "    .dataframe tbody tr th {\n",
              "        vertical-align: top;\n",
              "    }\n",
              "\n",
              "    .dataframe thead th {\n",
              "        text-align: right;\n",
              "    }\n",
              "</style>\n",
              "<table border=\"1\" class=\"dataframe\">\n",
              "  <thead>\n",
              "    <tr style=\"text-align: right;\">\n",
              "      <th></th>\n",
              "      <th>AGER_TYP</th>\n",
              "      <th>ALTERSKATEGORIE_GROB</th>\n",
              "      <th>ANREDE_KZ</th>\n",
              "      <th>CJT_GESAMTTYP</th>\n",
              "      <th>FINANZ_MINIMALIST</th>\n",
              "      <th>FINANZ_SPARER</th>\n",
              "      <th>FINANZ_VORSORGER</th>\n",
              "      <th>FINANZ_ANLEGER</th>\n",
              "      <th>FINANZ_UNAUFFAELLIGER</th>\n",
              "      <th>FINANZ_HAUSBAUER</th>\n",
              "      <th>FINANZTYP</th>\n",
              "      <th>GEBURTSJAHR</th>\n",
              "      <th>GFK_URLAUBERTYP</th>\n",
              "      <th>GREEN_AVANTGARDE</th>\n",
              "      <th>HEALTH_TYP</th>\n",
              "      <th>LP_LEBENSPHASE_FEIN</th>\n",
              "      <th>LP_LEBENSPHASE_GROB</th>\n",
              "      <th>LP_FAMILIE_FEIN</th>\n",
              "      <th>LP_FAMILIE_GROB</th>\n",
              "      <th>LP_STATUS_FEIN</th>\n",
              "      <th>LP_STATUS_GROB</th>\n",
              "      <th>NATIONALITAET_KZ</th>\n",
              "      <th>PRAEGENDE_JUGENDJAHRE</th>\n",
              "      <th>RETOURTYP_BK_S</th>\n",
              "      <th>SEMIO_SOZ</th>\n",
              "      <th>SEMIO_FAM</th>\n",
              "      <th>SEMIO_REL</th>\n",
              "      <th>SEMIO_MAT</th>\n",
              "      <th>SEMIO_VERT</th>\n",
              "      <th>SEMIO_LUST</th>\n",
              "      <th>SEMIO_ERL</th>\n",
              "      <th>SEMIO_KULT</th>\n",
              "      <th>SEMIO_RAT</th>\n",
              "      <th>SEMIO_KRIT</th>\n",
              "      <th>SEMIO_DOM</th>\n",
              "      <th>SEMIO_KAEM</th>\n",
              "      <th>SEMIO_PFLICHT</th>\n",
              "      <th>SEMIO_TRADV</th>\n",
              "      <th>SHOPPER_TYP</th>\n",
              "      <th>SOHO_KZ</th>\n",
              "      <th>...</th>\n",
              "      <th>ANZ_TITEL</th>\n",
              "      <th>HH_EINKOMMEN_SCORE</th>\n",
              "      <th>KK_KUNDENTYP</th>\n",
              "      <th>W_KEIT_KIND_HH</th>\n",
              "      <th>WOHNDAUER_2008</th>\n",
              "      <th>ANZ_HAUSHALTE_AKTIV</th>\n",
              "      <th>ANZ_HH_TITEL</th>\n",
              "      <th>GEBAEUDETYP</th>\n",
              "      <th>KONSUMNAEHE</th>\n",
              "      <th>MIN_GEBAEUDEJAHR</th>\n",
              "      <th>OST_WEST_KZ</th>\n",
              "      <th>WOHNLAGE</th>\n",
              "      <th>CAMEO_DEUG_2015</th>\n",
              "      <th>CAMEO_DEU_2015</th>\n",
              "      <th>CAMEO_INTL_2015</th>\n",
              "      <th>KBA05_ANTG1</th>\n",
              "      <th>KBA05_ANTG2</th>\n",
              "      <th>KBA05_ANTG3</th>\n",
              "      <th>KBA05_ANTG4</th>\n",
              "      <th>KBA05_BAUMAX</th>\n",
              "      <th>KBA05_GBZ</th>\n",
              "      <th>BALLRAUM</th>\n",
              "      <th>EWDICHTE</th>\n",
              "      <th>INNENSTADT</th>\n",
              "      <th>GEBAEUDETYP_RASTER</th>\n",
              "      <th>KKK</th>\n",
              "      <th>MOBI_REGIO</th>\n",
              "      <th>ONLINE_AFFINITAET</th>\n",
              "      <th>REGIOTYP</th>\n",
              "      <th>KBA13_ANZAHL_PKW</th>\n",
              "      <th>PLZ8_ANTG1</th>\n",
              "      <th>PLZ8_ANTG2</th>\n",
              "      <th>PLZ8_ANTG3</th>\n",
              "      <th>PLZ8_ANTG4</th>\n",
              "      <th>PLZ8_BAUMAX</th>\n",
              "      <th>PLZ8_HHZ</th>\n",
              "      <th>PLZ8_GBZ</th>\n",
              "      <th>ARBEIT</th>\n",
              "      <th>ORTSGR_KLS9</th>\n",
              "      <th>RELAT_AB</th>\n",
              "    </tr>\n",
              "  </thead>\n",
              "  <tbody>\n",
              "    <tr>\n",
              "      <th>0</th>\n",
              "      <td>NaN</td>\n",
              "      <td>2.0</td>\n",
              "      <td>1.0</td>\n",
              "      <td>2.0</td>\n",
              "      <td>3.0</td>\n",
              "      <td>4.0</td>\n",
              "      <td>3.0</td>\n",
              "      <td>5.0</td>\n",
              "      <td>5.0</td>\n",
              "      <td>3.0</td>\n",
              "      <td>4.0</td>\n",
              "      <td>NaN</td>\n",
              "      <td>10.0</td>\n",
              "      <td>0</td>\n",
              "      <td>NaN</td>\n",
              "      <td>15.0</td>\n",
              "      <td>4.0</td>\n",
              "      <td>2.0</td>\n",
              "      <td>2.0</td>\n",
              "      <td>1.0</td>\n",
              "      <td>1.0</td>\n",
              "      <td>NaN</td>\n",
              "      <td>NaN</td>\n",
              "      <td>5.0</td>\n",
              "      <td>2.0</td>\n",
              "      <td>6.0</td>\n",
              "      <td>7.0</td>\n",
              "      <td>5.0</td>\n",
              "      <td>1.0</td>\n",
              "      <td>5.0</td>\n",
              "      <td>3.0</td>\n",
              "      <td>3.0</td>\n",
              "      <td>4.0</td>\n",
              "      <td>7.0</td>\n",
              "      <td>6.0</td>\n",
              "      <td>6.0</td>\n",
              "      <td>5.0</td>\n",
              "      <td>3.0</td>\n",
              "      <td>NaN</td>\n",
              "      <td>NaN</td>\n",
              "      <td>...</td>\n",
              "      <td>NaN</td>\n",
              "      <td>2.0</td>\n",
              "      <td>NaN</td>\n",
              "      <td>NaN</td>\n",
              "      <td>NaN</td>\n",
              "      <td>NaN</td>\n",
              "      <td>NaN</td>\n",
              "      <td>NaN</td>\n",
              "      <td>NaN</td>\n",
              "      <td>NaN</td>\n",
              "      <td>NaN</td>\n",
              "      <td>NaN</td>\n",
              "      <td>NaN</td>\n",
              "      <td>NaN</td>\n",
              "      <td>NaN</td>\n",
              "      <td>NaN</td>\n",
              "      <td>NaN</td>\n",
              "      <td>NaN</td>\n",
              "      <td>NaN</td>\n",
              "      <td>NaN</td>\n",
              "      <td>NaN</td>\n",
              "      <td>NaN</td>\n",
              "      <td>NaN</td>\n",
              "      <td>NaN</td>\n",
              "      <td>NaN</td>\n",
              "      <td>NaN</td>\n",
              "      <td>NaN</td>\n",
              "      <td>1.0</td>\n",
              "      <td>NaN</td>\n",
              "      <td>NaN</td>\n",
              "      <td>NaN</td>\n",
              "      <td>NaN</td>\n",
              "      <td>NaN</td>\n",
              "      <td>NaN</td>\n",
              "      <td>NaN</td>\n",
              "      <td>NaN</td>\n",
              "      <td>NaN</td>\n",
              "      <td>NaN</td>\n",
              "      <td>NaN</td>\n",
              "      <td>NaN</td>\n",
              "    </tr>\n",
              "    <tr>\n",
              "      <th>1</th>\n",
              "      <td>NaN</td>\n",
              "      <td>1.0</td>\n",
              "      <td>2.0</td>\n",
              "      <td>5.0</td>\n",
              "      <td>1.0</td>\n",
              "      <td>5.0</td>\n",
              "      <td>2.0</td>\n",
              "      <td>5.0</td>\n",
              "      <td>4.0</td>\n",
              "      <td>5.0</td>\n",
              "      <td>1.0</td>\n",
              "      <td>1996.0</td>\n",
              "      <td>10.0</td>\n",
              "      <td>0</td>\n",
              "      <td>3.0</td>\n",
              "      <td>21.0</td>\n",
              "      <td>6.0</td>\n",
              "      <td>5.0</td>\n",
              "      <td>3.0</td>\n",
              "      <td>2.0</td>\n",
              "      <td>1.0</td>\n",
              "      <td>1.0</td>\n",
              "      <td>14.0</td>\n",
              "      <td>1.0</td>\n",
              "      <td>5.0</td>\n",
              "      <td>4.0</td>\n",
              "      <td>4.0</td>\n",
              "      <td>3.0</td>\n",
              "      <td>1.0</td>\n",
              "      <td>2.0</td>\n",
              "      <td>2.0</td>\n",
              "      <td>3.0</td>\n",
              "      <td>6.0</td>\n",
              "      <td>4.0</td>\n",
              "      <td>7.0</td>\n",
              "      <td>4.0</td>\n",
              "      <td>7.0</td>\n",
              "      <td>6.0</td>\n",
              "      <td>3.0</td>\n",
              "      <td>1.0</td>\n",
              "      <td>...</td>\n",
              "      <td>0.0</td>\n",
              "      <td>6.0</td>\n",
              "      <td>NaN</td>\n",
              "      <td>3.0</td>\n",
              "      <td>9.0</td>\n",
              "      <td>11.0</td>\n",
              "      <td>0.0</td>\n",
              "      <td>8.0</td>\n",
              "      <td>1.0</td>\n",
              "      <td>1992.0</td>\n",
              "      <td>W</td>\n",
              "      <td>4.0</td>\n",
              "      <td>8</td>\n",
              "      <td>8A</td>\n",
              "      <td>51</td>\n",
              "      <td>0.0</td>\n",
              "      <td>0.0</td>\n",
              "      <td>0.0</td>\n",
              "      <td>2.0</td>\n",
              "      <td>5.0</td>\n",
              "      <td>1.0</td>\n",
              "      <td>6.0</td>\n",
              "      <td>3.0</td>\n",
              "      <td>8.0</td>\n",
              "      <td>3.0</td>\n",
              "      <td>2.0</td>\n",
              "      <td>1.0</td>\n",
              "      <td>3.0</td>\n",
              "      <td>3.0</td>\n",
              "      <td>963.0</td>\n",
              "      <td>2.0</td>\n",
              "      <td>3.0</td>\n",
              "      <td>2.0</td>\n",
              "      <td>1.0</td>\n",
              "      <td>1.0</td>\n",
              "      <td>5.0</td>\n",
              "      <td>4.0</td>\n",
              "      <td>3.0</td>\n",
              "      <td>5.0</td>\n",
              "      <td>4.0</td>\n",
              "    </tr>\n",
              "    <tr>\n",
              "      <th>2</th>\n",
              "      <td>NaN</td>\n",
              "      <td>3.0</td>\n",
              "      <td>2.0</td>\n",
              "      <td>3.0</td>\n",
              "      <td>1.0</td>\n",
              "      <td>4.0</td>\n",
              "      <td>1.0</td>\n",
              "      <td>2.0</td>\n",
              "      <td>3.0</td>\n",
              "      <td>5.0</td>\n",
              "      <td>1.0</td>\n",
              "      <td>1979.0</td>\n",
              "      <td>10.0</td>\n",
              "      <td>1</td>\n",
              "      <td>3.0</td>\n",
              "      <td>3.0</td>\n",
              "      <td>1.0</td>\n",
              "      <td>1.0</td>\n",
              "      <td>1.0</td>\n",
              "      <td>3.0</td>\n",
              "      <td>2.0</td>\n",
              "      <td>1.0</td>\n",
              "      <td>15.0</td>\n",
              "      <td>3.0</td>\n",
              "      <td>4.0</td>\n",
              "      <td>1.0</td>\n",
              "      <td>3.0</td>\n",
              "      <td>3.0</td>\n",
              "      <td>4.0</td>\n",
              "      <td>4.0</td>\n",
              "      <td>6.0</td>\n",
              "      <td>3.0</td>\n",
              "      <td>4.0</td>\n",
              "      <td>7.0</td>\n",
              "      <td>7.0</td>\n",
              "      <td>7.0</td>\n",
              "      <td>3.0</td>\n",
              "      <td>3.0</td>\n",
              "      <td>2.0</td>\n",
              "      <td>0.0</td>\n",
              "      <td>...</td>\n",
              "      <td>0.0</td>\n",
              "      <td>4.0</td>\n",
              "      <td>NaN</td>\n",
              "      <td>3.0</td>\n",
              "      <td>9.0</td>\n",
              "      <td>10.0</td>\n",
              "      <td>0.0</td>\n",
              "      <td>1.0</td>\n",
              "      <td>5.0</td>\n",
              "      <td>1992.0</td>\n",
              "      <td>W</td>\n",
              "      <td>2.0</td>\n",
              "      <td>4</td>\n",
              "      <td>4C</td>\n",
              "      <td>24</td>\n",
              "      <td>1.0</td>\n",
              "      <td>3.0</td>\n",
              "      <td>1.0</td>\n",
              "      <td>0.0</td>\n",
              "      <td>NaN</td>\n",
              "      <td>3.0</td>\n",
              "      <td>2.0</td>\n",
              "      <td>4.0</td>\n",
              "      <td>4.0</td>\n",
              "      <td>4.0</td>\n",
              "      <td>2.0</td>\n",
              "      <td>3.0</td>\n",
              "      <td>2.0</td>\n",
              "      <td>2.0</td>\n",
              "      <td>712.0</td>\n",
              "      <td>3.0</td>\n",
              "      <td>3.0</td>\n",
              "      <td>1.0</td>\n",
              "      <td>0.0</td>\n",
              "      <td>1.0</td>\n",
              "      <td>4.0</td>\n",
              "      <td>4.0</td>\n",
              "      <td>3.0</td>\n",
              "      <td>5.0</td>\n",
              "      <td>2.0</td>\n",
              "    </tr>\n",
              "    <tr>\n",
              "      <th>3</th>\n",
              "      <td>2.0</td>\n",
              "      <td>4.0</td>\n",
              "      <td>2.0</td>\n",
              "      <td>2.0</td>\n",
              "      <td>4.0</td>\n",
              "      <td>2.0</td>\n",
              "      <td>5.0</td>\n",
              "      <td>2.0</td>\n",
              "      <td>1.0</td>\n",
              "      <td>2.0</td>\n",
              "      <td>6.0</td>\n",
              "      <td>1957.0</td>\n",
              "      <td>1.0</td>\n",
              "      <td>0</td>\n",
              "      <td>2.0</td>\n",
              "      <td>NaN</td>\n",
              "      <td>NaN</td>\n",
              "      <td>NaN</td>\n",
              "      <td>NaN</td>\n",
              "      <td>9.0</td>\n",
              "      <td>4.0</td>\n",
              "      <td>1.0</td>\n",
              "      <td>8.0</td>\n",
              "      <td>2.0</td>\n",
              "      <td>5.0</td>\n",
              "      <td>1.0</td>\n",
              "      <td>2.0</td>\n",
              "      <td>1.0</td>\n",
              "      <td>4.0</td>\n",
              "      <td>4.0</td>\n",
              "      <td>7.0</td>\n",
              "      <td>4.0</td>\n",
              "      <td>3.0</td>\n",
              "      <td>4.0</td>\n",
              "      <td>4.0</td>\n",
              "      <td>5.0</td>\n",
              "      <td>4.0</td>\n",
              "      <td>4.0</td>\n",
              "      <td>1.0</td>\n",
              "      <td>0.0</td>\n",
              "      <td>...</td>\n",
              "      <td>0.0</td>\n",
              "      <td>1.0</td>\n",
              "      <td>NaN</td>\n",
              "      <td>NaN</td>\n",
              "      <td>9.0</td>\n",
              "      <td>1.0</td>\n",
              "      <td>0.0</td>\n",
              "      <td>1.0</td>\n",
              "      <td>4.0</td>\n",
              "      <td>1997.0</td>\n",
              "      <td>W</td>\n",
              "      <td>7.0</td>\n",
              "      <td>2</td>\n",
              "      <td>2A</td>\n",
              "      <td>12</td>\n",
              "      <td>4.0</td>\n",
              "      <td>1.0</td>\n",
              "      <td>0.0</td>\n",
              "      <td>0.0</td>\n",
              "      <td>1.0</td>\n",
              "      <td>4.0</td>\n",
              "      <td>4.0</td>\n",
              "      <td>2.0</td>\n",
              "      <td>6.0</td>\n",
              "      <td>4.0</td>\n",
              "      <td>NaN</td>\n",
              "      <td>4.0</td>\n",
              "      <td>1.0</td>\n",
              "      <td>NaN</td>\n",
              "      <td>596.0</td>\n",
              "      <td>2.0</td>\n",
              "      <td>2.0</td>\n",
              "      <td>2.0</td>\n",
              "      <td>0.0</td>\n",
              "      <td>1.0</td>\n",
              "      <td>3.0</td>\n",
              "      <td>4.0</td>\n",
              "      <td>2.0</td>\n",
              "      <td>3.0</td>\n",
              "      <td>3.0</td>\n",
              "    </tr>\n",
              "    <tr>\n",
              "      <th>4</th>\n",
              "      <td>NaN</td>\n",
              "      <td>3.0</td>\n",
              "      <td>1.0</td>\n",
              "      <td>5.0</td>\n",
              "      <td>4.0</td>\n",
              "      <td>3.0</td>\n",
              "      <td>4.0</td>\n",
              "      <td>1.0</td>\n",
              "      <td>3.0</td>\n",
              "      <td>2.0</td>\n",
              "      <td>5.0</td>\n",
              "      <td>1963.0</td>\n",
              "      <td>5.0</td>\n",
              "      <td>0</td>\n",
              "      <td>3.0</td>\n",
              "      <td>32.0</td>\n",
              "      <td>10.0</td>\n",
              "      <td>10.0</td>\n",
              "      <td>5.0</td>\n",
              "      <td>3.0</td>\n",
              "      <td>2.0</td>\n",
              "      <td>1.0</td>\n",
              "      <td>8.0</td>\n",
              "      <td>5.0</td>\n",
              "      <td>6.0</td>\n",
              "      <td>4.0</td>\n",
              "      <td>4.0</td>\n",
              "      <td>2.0</td>\n",
              "      <td>7.0</td>\n",
              "      <td>4.0</td>\n",
              "      <td>4.0</td>\n",
              "      <td>6.0</td>\n",
              "      <td>2.0</td>\n",
              "      <td>3.0</td>\n",
              "      <td>2.0</td>\n",
              "      <td>2.0</td>\n",
              "      <td>4.0</td>\n",
              "      <td>2.0</td>\n",
              "      <td>2.0</td>\n",
              "      <td>0.0</td>\n",
              "      <td>...</td>\n",
              "      <td>0.0</td>\n",
              "      <td>5.0</td>\n",
              "      <td>1.0</td>\n",
              "      <td>2.0</td>\n",
              "      <td>9.0</td>\n",
              "      <td>3.0</td>\n",
              "      <td>0.0</td>\n",
              "      <td>1.0</td>\n",
              "      <td>4.0</td>\n",
              "      <td>1992.0</td>\n",
              "      <td>W</td>\n",
              "      <td>3.0</td>\n",
              "      <td>6</td>\n",
              "      <td>6B</td>\n",
              "      <td>43</td>\n",
              "      <td>1.0</td>\n",
              "      <td>4.0</td>\n",
              "      <td>1.0</td>\n",
              "      <td>0.0</td>\n",
              "      <td>NaN</td>\n",
              "      <td>3.0</td>\n",
              "      <td>2.0</td>\n",
              "      <td>5.0</td>\n",
              "      <td>1.0</td>\n",
              "      <td>5.0</td>\n",
              "      <td>3.0</td>\n",
              "      <td>3.0</td>\n",
              "      <td>5.0</td>\n",
              "      <td>5.0</td>\n",
              "      <td>435.0</td>\n",
              "      <td>2.0</td>\n",
              "      <td>4.0</td>\n",
              "      <td>2.0</td>\n",
              "      <td>1.0</td>\n",
              "      <td>2.0</td>\n",
              "      <td>3.0</td>\n",
              "      <td>3.0</td>\n",
              "      <td>4.0</td>\n",
              "      <td>6.0</td>\n",
              "      <td>5.0</td>\n",
              "    </tr>\n",
              "  </tbody>\n",
              "</table>\n",
              "<p>5 rows × 85 columns</p>\n",
              "</div>"
            ],
            "text/plain": [
              "   AGER_TYP  ALTERSKATEGORIE_GROB  ANREDE_KZ  ...  ARBEIT  ORTSGR_KLS9  RELAT_AB\n",
              "0       NaN                   2.0        1.0  ...     NaN          NaN       NaN\n",
              "1       NaN                   1.0        2.0  ...     3.0          5.0       4.0\n",
              "2       NaN                   3.0        2.0  ...     3.0          5.0       2.0\n",
              "3       2.0                   4.0        2.0  ...     2.0          3.0       3.0\n",
              "4       NaN                   3.0        1.0  ...     4.0          6.0       5.0\n",
              "\n",
              "[5 rows x 85 columns]"
            ]
          },
          "metadata": {
            "tags": []
          },
          "execution_count": 13
        }
      ]
    },
    {
      "cell_type": "code",
      "metadata": {
        "id": "zmYYXslTM7JD"
      },
      "source": [
        "# Perform an assessment of how much missing data there is in each column of the\n",
        "# dataset.\n",
        "null=azdias.isnull().sum()[azdias.isnull().sum() != 0]"
      ],
      "execution_count": 14,
      "outputs": []
    },
    {
      "cell_type": "code",
      "metadata": {
        "id": "1pjEHYbqbBUE"
      },
      "source": [
        "# Create dataset for the null\n",
        "null_data_dict = {'No.': null.values, '%':np.round((null.values/azdias.shape[0])*100,2)}\n",
        "null_dict = pd.DataFrame(data=null_data_dict, index=null.index)\n",
        "null_dict.sort_values(by='No.', ascending=False, inplace=True)"
      ],
      "execution_count": 15,
      "outputs": []
    },
    {
      "cell_type": "markdown",
      "metadata": {
        "id": "lnstg0rVbP1J"
      },
      "source": [
        "#### how many?"
      ]
    },
    {
      "cell_type": "code",
      "metadata": {
        "id": "kkK4pyArbdwN",
        "outputId": "a00f1ae7-79ae-4fcb-fe75-dd5fe92b4b26",
        "colab": {
          "base_uri": "https://localhost:8080/"
        }
      },
      "source": [
        "null_dict.shape[0]"
      ],
      "execution_count": 16,
      "outputs": [
        {
          "output_type": "execute_result",
          "data": {
            "text/plain": [
              "61"
            ]
          },
          "metadata": {
            "tags": []
          },
          "execution_count": 16
        }
      ]
    },
    {
      "cell_type": "markdown",
      "metadata": {
        "id": "oPrvXNWwb7vJ"
      },
      "source": [
        "#### What's the maximum percentage and what is the column?"
      ]
    },
    {
      "cell_type": "code",
      "metadata": {
        "id": "9Ustjm4RbmUO",
        "outputId": "3c878d16-326d-439c-9022-7b6972b18a6f",
        "colab": {
          "base_uri": "https://localhost:8080/",
          "height": 80
        }
      },
      "source": [
        "null_dict.head(1)"
      ],
      "execution_count": 17,
      "outputs": [
        {
          "output_type": "execute_result",
          "data": {
            "text/html": [
              "<div>\n",
              "<style scoped>\n",
              "    .dataframe tbody tr th:only-of-type {\n",
              "        vertical-align: middle;\n",
              "    }\n",
              "\n",
              "    .dataframe tbody tr th {\n",
              "        vertical-align: top;\n",
              "    }\n",
              "\n",
              "    .dataframe thead th {\n",
              "        text-align: right;\n",
              "    }\n",
              "</style>\n",
              "<table border=\"1\" class=\"dataframe\">\n",
              "  <thead>\n",
              "    <tr style=\"text-align: right;\">\n",
              "      <th></th>\n",
              "      <th>No.</th>\n",
              "      <th>%</th>\n",
              "    </tr>\n",
              "  </thead>\n",
              "  <tbody>\n",
              "    <tr>\n",
              "      <th>TITEL_KZ</th>\n",
              "      <td>889061</td>\n",
              "      <td>99.76</td>\n",
              "    </tr>\n",
              "  </tbody>\n",
              "</table>\n",
              "</div>"
            ],
            "text/plain": [
              "             No.      %\n",
              "TITEL_KZ  889061  99.76"
            ]
          },
          "metadata": {
            "tags": []
          },
          "execution_count": 17
        }
      ]
    },
    {
      "cell_type": "code",
      "metadata": {
        "id": "Atc_rg7pM7JI",
        "outputId": "fc11fb98-2427-4746-9efb-64ea81b8c506",
        "colab": {
          "base_uri": "https://localhost:8080/",
          "height": 532
        }
      },
      "source": [
        "# Investigate patterns in the amount of missing data in each column.\n",
        "null_dict['No.'].plot.hist(figsize=(20, 10))\n",
        "plt.title('The distribution of missing value counts');"
      ],
      "execution_count": 18,
      "outputs": [
        {
          "output_type": "display_data",
          "data": {
            "image/png": "[encoded data removed]",
            "text/plain": [
              "<Figure size 1440x720 with 1 Axes>"
            ]
          },
          "metadata": {
            "tags": [],
            "needs_background": "light"
          }
        }
      ]
    },
    {
      "cell_type": "code",
      "metadata": {
        "id": "AgpzYuDggVsE",
        "outputId": "6152222c-3ca0-42fc-90ce-280fd6320737",
        "colab": {
          "base_uri": "https://localhost:8080/",
          "height": 616
        }
      },
      "source": [
        "null_dict['No.'].plot.bar(figsize=(18, 8));\n",
        "plt.title('Visualization of the number of non-value columns')"
      ],
      "execution_count": 19,
      "outputs": [
        {
          "output_type": "execute_result",
          "data": {
            "text/plain": [
              "Text(0.5, 1.0, 'Visualization of the number of non-value columns')"
            ]
          },
          "metadata": {
            "tags": []
          },
          "execution_count": 19
        },
        {
          "output_type": "display_data",
          "data": {
            "image/png": "[encoded data removed]",
            "text/plain": [
              "<Figure size 1296x576 with 1 Axes>"
            ]
          },
          "metadata": {
            "tags": [],
            "needs_background": "light"
          }
        }
      ]
    },
    {
      "cell_type": "code",
      "metadata": {
        "id": "Dhx38ENzi7f5",
        "outputId": "531ac780-e90a-49b9-9b58-571cc874991b",
        "colab": {
          "base_uri": "https://localhost:8080/",
          "height": 297
        }
      },
      "source": [
        "# NaN statistics for all columns \n",
        "null_dict.describe()"
      ],
      "execution_count": 20,
      "outputs": [
        {
          "output_type": "execute_result",
          "data": {
            "text/html": [
              "<div>\n",
              "<style scoped>\n",
              "    .dataframe tbody tr th:only-of-type {\n",
              "        vertical-align: middle;\n",
              "    }\n",
              "\n",
              "    .dataframe tbody tr th {\n",
              "        vertical-align: top;\n",
              "    }\n",
              "\n",
              "    .dataframe thead th {\n",
              "        text-align: right;\n",
              "    }\n",
              "</style>\n",
              "<table border=\"1\" class=\"dataframe\">\n",
              "  <thead>\n",
              "    <tr style=\"text-align: right;\">\n",
              "      <th></th>\n",
              "      <th>No.</th>\n",
              "      <th>%</th>\n",
              "    </tr>\n",
              "  </thead>\n",
              "  <tbody>\n",
              "    <tr>\n",
              "      <th>count</th>\n",
              "      <td>61.000000</td>\n",
              "      <td>61.000000</td>\n",
              "    </tr>\n",
              "    <tr>\n",
              "      <th>mean</th>\n",
              "      <td>137277.524590</td>\n",
              "      <td>15.403115</td>\n",
              "    </tr>\n",
              "    <tr>\n",
              "      <th>std</th>\n",
              "      <td>157099.496443</td>\n",
              "      <td>17.628423</td>\n",
              "    </tr>\n",
              "    <tr>\n",
              "      <th>min</th>\n",
              "      <td>2881.000000</td>\n",
              "      <td>0.320000</td>\n",
              "    </tr>\n",
              "    <tr>\n",
              "      <th>25%</th>\n",
              "      <td>93148.000000</td>\n",
              "      <td>10.450000</td>\n",
              "    </tr>\n",
              "    <tr>\n",
              "      <th>50%</th>\n",
              "      <td>99352.000000</td>\n",
              "      <td>11.150000</td>\n",
              "    </tr>\n",
              "    <tr>\n",
              "      <th>75%</th>\n",
              "      <td>116515.000000</td>\n",
              "      <td>13.070000</td>\n",
              "    </tr>\n",
              "    <tr>\n",
              "      <th>max</th>\n",
              "      <td>889061.000000</td>\n",
              "      <td>99.760000</td>\n",
              "    </tr>\n",
              "  </tbody>\n",
              "</table>\n",
              "</div>"
            ],
            "text/plain": [
              "                 No.          %\n",
              "count      61.000000  61.000000\n",
              "mean   137277.524590  15.403115\n",
              "std    157099.496443  17.628423\n",
              "min      2881.000000   0.320000\n",
              "25%     93148.000000  10.450000\n",
              "50%     99352.000000  11.150000\n",
              "75%    116515.000000  13.070000\n",
              "max    889061.000000  99.760000"
            ]
          },
          "metadata": {
            "tags": []
          },
          "execution_count": 20
        }
      ]
    },
    {
      "cell_type": "code",
      "metadata": {
        "id": "LvTVl8XjM7JO",
        "outputId": "249494fb-401b-40ac-c723-d638b3d0801b",
        "colab": {
          "base_uri": "https://localhost:8080/"
        }
      },
      "source": [
        "# Remove the outlier columns from the dataset. (You'll perform other data\n",
        "# engineering tasks such as re-encoding and imputation later.)\n",
        "\n",
        "# Set the outliers who has more than 30% of missing values\n",
        "outliers = null_dict[null_dict['%'] > 30].index.values.tolist()\n",
        "outliers"
      ],
      "execution_count": 30,
      "outputs": [
        {
          "output_type": "execute_result",
          "data": {
            "text/plain": [
              "['TITEL_KZ',\n",
              " 'AGER_TYP',\n",
              " 'KK_KUNDENTYP',\n",
              " 'KBA05_BAUMAX',\n",
              " 'GEBURTSJAHR',\n",
              " 'ALTER_HH']"
            ]
          },
          "metadata": {
            "tags": []
          },
          "execution_count": 30
        }
      ]
    },
    {
      "cell_type": "code",
      "metadata": {
        "id": "JqrMXzKeurbX"
      },
      "source": [
        "# Then drop the outlier columns from the dataset.\n",
        "azdias =  azdias.drop(outliers, axis=1)"
      ],
      "execution_count": 31,
      "outputs": []
    },
    {
      "cell_type": "markdown",
      "metadata": {
        "id": "zXKYkOU9M7JS"
      },
      "source": [
        "#### Discussion 1.1.2: Assess Missing Data in Each Column\n",
        "\n",
        "(Double click this cell and replace this text with your own text, reporting your observations regarding the amount of missing data in each column. Are there any patterns in missing values? Which columns were removed from the dataset?)"
      ]
    },
    {
      "cell_type": "markdown",
      "metadata": {
        "id": "S3JCljRiM7JT"
      },
      "source": [
        "#### Step 1.1.3: Assess Missing Data in Each Row\n",
        "\n",
        "Now, you'll perform a similar assessment for the rows of the dataset. How much data is missing in each row? As with the columns, you should see some groups of points that have a very different numbers of missing values. Divide the data into two subsets: one for data points that are above some threshold for missing values, and a second subset for points below that threshold.\n",
        "\n",
        "In order to know what to do with the outlier rows, we should see if the distribution of data values on columns that are not missing data (or are missing very little data) are similar or different between the two groups. Select at least five of these columns and compare the distribution of values.\n",
        "- You can use seaborn's [`countplot()`](https://seaborn.pydata.org/generated/seaborn.countplot.html) function to create a bar chart of code frequencies and matplotlib's [`subplot()`](https://matplotlib.org/api/_as_gen/matplotlib.pyplot.subplot.html) function to put bar charts for the two subplots side by side.\n",
        "- To reduce repeated code, you might want to write a function that can perform this comparison, taking as one of its arguments a column to be compared.\n",
        "\n",
        "Depending on what you observe in your comparison, this will have implications on how you approach your conclusions later in the analysis. If the distributions of non-missing features look similar between the data with many missing values and the data with few or no missing values, then we could argue that simply dropping those points from the analysis won't present a major issue. On the other hand, if the data with many missing values looks very different from the data with few or no missing values, then we should make a note on those data as special. We'll revisit these data later on. **Either way, you should continue your analysis for now using just the subset of the data with few or no missing values.**"
      ]
    },
    {
      "cell_type": "code",
      "metadata": {
        "id": "6g2lmag4M7JU"
      },
      "source": [
        "# How much data is missing in each row of the dataset?\n",
        "\n"
      ],
      "execution_count": null,
      "outputs": []
    },
    {
      "cell_type": "code",
      "metadata": {
        "id": "vBQpUcFCM7JX"
      },
      "source": [
        "# Write code to divide the data into two subsets based on the number of missing\n",
        "# values in each row.\n",
        "\n"
      ],
      "execution_count": null,
      "outputs": []
    },
    {
      "cell_type": "code",
      "metadata": {
        "id": "bTNak8iQM7Jb"
      },
      "source": [
        "# Compare the distribution of values for at least five columns where there are\n",
        "# no or few missing values, between the two subsets.\n",
        "\n"
      ],
      "execution_count": null,
      "outputs": []
    },
    {
      "cell_type": "markdown",
      "metadata": {
        "id": "mH3YZZgBM7Jf"
      },
      "source": [
        "#### Discussion 1.1.3: Assess Missing Data in Each Row\n",
        "\n",
        "(Double-click this cell and replace this text with your own text, reporting your observations regarding missing data in rows. Are the data with lots of missing values are qualitatively different from data with few or no missing values?)"
      ]
    },
    {
      "cell_type": "markdown",
      "metadata": {
        "id": "D5crygZKM7Jg"
      },
      "source": [
        "### Step 1.2: Select and Re-Encode Features\n",
        "\n",
        "Checking for missing data isn't the only way in which you can prepare a dataset for analysis. Since the unsupervised learning techniques to be used will only work on data that is encoded numerically, you need to make a few encoding changes or additional assumptions to be able to make progress. In addition, while almost all of the values in the dataset are encoded using numbers, not all of them represent numeric values. Check the third column of the feature summary (`feat_info`) for a summary of types of measurement.\n",
        "- For numeric and interval data, these features can be kept without changes.\n",
        "- Most of the variables in the dataset are ordinal in nature. While ordinal values may technically be non-linear in spacing, make the simplifying assumption that the ordinal variables can be treated as being interval in nature (that is, kept without any changes).\n",
        "- Special handling may be necessary for the remaining two variable types: categorical, and 'mixed'.\n",
        "\n",
        "In the first two parts of this sub-step, you will perform an investigation of the categorical and mixed-type features and make a decision on each of them, whether you will keep, drop, or re-encode each. Then, in the last part, you will create a new data frame with only the selected and engineered columns.\n",
        "\n",
        "Data wrangling is often the trickiest part of the data analysis process, and there's a lot of it to be done here. But stick with it: once you're done with this step, you'll be ready to get to the machine learning parts of the project!"
      ]
    },
    {
      "cell_type": "code",
      "metadata": {
        "id": "QjlSYP9gM7Jg"
      },
      "source": [
        "# How many features are there of each data type?\n",
        "\n"
      ],
      "execution_count": null,
      "outputs": []
    },
    {
      "cell_type": "markdown",
      "metadata": {
        "id": "xsoOiOHNM7Jl"
      },
      "source": [
        "#### Step 1.2.1: Re-Encode Categorical Features\n",
        "\n",
        "For categorical data, you would ordinarily need to encode the levels as dummy variables. Depending on the number of categories, perform one of the following:\n",
        "- For binary (two-level) categoricals that take numeric values, you can keep them without needing to do anything.\n",
        "- There is one binary variable that takes on non-numeric values. For this one, you need to re-encode the values as numbers or create a dummy variable.\n",
        "- For multi-level categoricals (three or more values), you can choose to encode the values using multiple dummy variables (e.g. via [OneHotEncoder](http://scikit-learn.org/stable/modules/generated/sklearn.preprocessing.OneHotEncoder.html)), or (to keep things straightforward) just drop them from the analysis. As always, document your choices in the Discussion section."
      ]
    },
    {
      "cell_type": "code",
      "metadata": {
        "id": "x64sjPTjM7Jm"
      },
      "source": [
        "# Assess categorical variables: which are binary, which are multi-level, and\n",
        "# which one needs to be re-encoded?\n",
        "\n"
      ],
      "execution_count": null,
      "outputs": []
    },
    {
      "cell_type": "code",
      "metadata": {
        "id": "-n-MrmLIM7Jq"
      },
      "source": [
        "# Re-encode categorical variable(s) to be kept in the analysis.\n",
        "\n"
      ],
      "execution_count": null,
      "outputs": []
    },
    {
      "cell_type": "markdown",
      "metadata": {
        "id": "1rHPVV3QM7Ju"
      },
      "source": [
        "#### Discussion 1.2.1: Re-Encode Categorical Features\n",
        "\n",
        "(Double-click this cell and replace this text with your own text, reporting your findings and decisions regarding categorical features. Which ones did you keep, which did you drop, and what engineering steps did you perform?)"
      ]
    },
    {
      "cell_type": "markdown",
      "metadata": {
        "id": "7JAdPhoFM7Jv"
      },
      "source": [
        "#### Step 1.2.2: Engineer Mixed-Type Features\n",
        "\n",
        "There are a handful of features that are marked as \"mixed\" in the feature summary that require special treatment in order to be included in the analysis. There are two in particular that deserve attention; the handling of the rest are up to your own choices:\n",
        "- \"PRAEGENDE_JUGENDJAHRE\" combines information on three dimensions: generation by decade, movement (mainstream vs. avantgarde), and nation (east vs. west). While there aren't enough levels to disentangle east from west, you should create two new variables to capture the other two dimensions: an interval-type variable for decade, and a binary variable for movement.\n",
        "- \"CAMEO_INTL_2015\" combines information on two axes: wealth and life stage. Break up the two-digit codes by their 'tens'-place and 'ones'-place digits into two new ordinal variables (which, for the purposes of this project, is equivalent to just treating them as their raw numeric values).\n",
        "- If you decide to keep or engineer new features around the other mixed-type features, make sure you note your steps in the Discussion section.\n",
        "\n",
        "Be sure to check `Data_Dictionary.md` for the details needed to finish these tasks."
      ]
    },
    {
      "cell_type": "code",
      "metadata": {
        "id": "z9o-7eRVM7Jw"
      },
      "source": [
        "# Investigate \"PRAEGENDE_JUGENDJAHRE\" and engineer two new variables.\n",
        "\n"
      ],
      "execution_count": null,
      "outputs": []
    },
    {
      "cell_type": "code",
      "metadata": {
        "id": "iZL1u7FsM7Jz"
      },
      "source": [
        "# Investigate \"CAMEO_INTL_2015\" and engineer two new variables.\n",
        "\n"
      ],
      "execution_count": null,
      "outputs": []
    },
    {
      "cell_type": "markdown",
      "metadata": {
        "id": "yzTwHt6HM7J2"
      },
      "source": [
        "#### Discussion 1.2.2: Engineer Mixed-Type Features\n",
        "\n",
        "(Double-click this cell and replace this text with your own text, reporting your findings and decisions regarding mixed-value features. Which ones did you keep, which did you drop, and what engineering steps did you perform?)"
      ]
    },
    {
      "cell_type": "markdown",
      "metadata": {
        "id": "zmJeyNvUM7J3"
      },
      "source": [
        "#### Step 1.2.3: Complete Feature Selection\n",
        "\n",
        "In order to finish this step up, you need to make sure that your data frame now only has the columns that you want to keep. To summarize, the dataframe should consist of the following:\n",
        "- All numeric, interval, and ordinal type columns from the original dataset.\n",
        "- Binary categorical features (all numerically-encoded).\n",
        "- Engineered features from other multi-level categorical features and mixed features.\n",
        "\n",
        "Make sure that for any new columns that you have engineered, that you've excluded the original columns from the final dataset. Otherwise, their values will interfere with the analysis later on the project. For example, you should not keep \"PRAEGENDE_JUGENDJAHRE\", since its values won't be useful for the algorithm: only the values derived from it in the engineered features you created should be retained. As a reminder, your data should only be from **the subset with few or no missing values**."
      ]
    },
    {
      "cell_type": "code",
      "metadata": {
        "id": "p2_hbk9BM7J4"
      },
      "source": [
        "# If there are other re-engineering tasks you need to perform, make sure you\n",
        "# take care of them here. (Dealing with missing data will come in step 2.1.)\n",
        "\n"
      ],
      "execution_count": null,
      "outputs": []
    },
    {
      "cell_type": "code",
      "metadata": {
        "id": "nN_6s_wkM7J9"
      },
      "source": [
        "# Do whatever you need to in order to ensure that the dataframe only contains\n",
        "# the columns that should be passed to the algorithm functions.\n",
        "\n"
      ],
      "execution_count": null,
      "outputs": []
    },
    {
      "cell_type": "markdown",
      "metadata": {
        "id": "ZKYJDkDMM7KB"
      },
      "source": [
        "### Step 1.3: Create a Cleaning Function\n",
        "\n",
        "Even though you've finished cleaning up the general population demographics data, it's important to look ahead to the future and realize that you'll need to perform the same cleaning steps on the customer demographics data. In this substep, complete the function below to execute the main feature selection, encoding, and re-engineering steps you performed above. Then, when it comes to looking at the customer data in Step 3, you can just run this function on that DataFrame to get the trimmed dataset in a single step."
      ]
    },
    {
      "cell_type": "code",
      "metadata": {
        "id": "eqy9Y_I_M7KB"
      },
      "source": [
        "def clean_data(df):\n",
        "    \"\"\"\n",
        "    Perform feature trimming, re-encoding, and engineering for demographics\n",
        "    data\n",
        "    \n",
        "    INPUT: Demographics DataFrame\n",
        "    OUTPUT: Trimmed and cleaned demographics DataFrame\n",
        "    \"\"\"\n",
        "    \n",
        "    # Put in code here to execute all main cleaning steps:\n",
        "    # convert missing value codes into NaNs, ...\n",
        "    \n",
        "    \n",
        "    # remove selected columns and rows, ...\n",
        "\n",
        "    \n",
        "    # select, re-encode, and engineer column values.\n",
        "\n",
        "    \n",
        "    # Return the cleaned dataframe.\n",
        "    \n",
        "    "
      ],
      "execution_count": null,
      "outputs": []
    },
    {
      "cell_type": "markdown",
      "metadata": {
        "id": "X_Q_Go0vM7KE"
      },
      "source": [
        "## Step 2: Feature Transformation\n",
        "\n",
        "### Step 2.1: Apply Feature Scaling\n",
        "\n",
        "Before we apply dimensionality reduction techniques to the data, we need to perform feature scaling so that the principal component vectors are not influenced by the natural differences in scale for features. Starting from this part of the project, you'll want to keep an eye on the [API reference page for sklearn](http://scikit-learn.org/stable/modules/classes.html) to help you navigate to all of the classes and functions that you'll need. In this substep, you'll need to check the following:\n",
        "\n",
        "- sklearn requires that data not have missing values in order for its estimators to work properly. So, before applying the scaler to your data, make sure that you've cleaned the DataFrame of the remaining missing values. This can be as simple as just removing all data points with missing data, or applying an [Imputer](http://scikit-learn.org/stable/modules/generated/sklearn.preprocessing.Imputer.html) to replace all missing values. You might also try a more complicated procedure where you temporarily remove missing values in order to compute the scaling parameters before re-introducing those missing values and applying imputation. Think about how much missing data you have and what possible effects each approach might have on your analysis, and justify your decision in the discussion section below.\n",
        "- For the actual scaling function, a [StandardScaler](http://scikit-learn.org/stable/modules/generated/sklearn.preprocessing.StandardScaler.html) instance is suggested, scaling each feature to mean 0 and standard deviation 1.\n",
        "- For these classes, you can make use of the `.fit_transform()` method to both fit a procedure to the data as well as apply the transformation to the data at the same time. Don't forget to keep the fit sklearn objects handy, since you'll be applying them to the customer demographics data towards the end of the project."
      ]
    },
    {
      "cell_type": "code",
      "metadata": {
        "id": "nUir0w2ZM7KF"
      },
      "source": [
        "# If you've not yet cleaned the dataset of all NaN values, then investigate and\n",
        "# do that now.\n",
        "\n"
      ],
      "execution_count": null,
      "outputs": []
    },
    {
      "cell_type": "code",
      "metadata": {
        "id": "d_wUD5bMM7KJ"
      },
      "source": [
        "# Apply feature scaling to the general population demographics data.\n",
        "\n"
      ],
      "execution_count": null,
      "outputs": []
    },
    {
      "cell_type": "markdown",
      "metadata": {
        "id": "B1PkJjjuM7KS"
      },
      "source": [
        "### Discussion 2.1: Apply Feature Scaling\n",
        "\n",
        "(Double-click this cell and replace this text with your own text, reporting your decisions regarding feature scaling.)"
      ]
    },
    {
      "cell_type": "markdown",
      "metadata": {
        "id": "AWUOJqYQM7KS"
      },
      "source": [
        "### Step 2.2: Perform Dimensionality Reduction\n",
        "\n",
        "On your scaled data, you are now ready to apply dimensionality reduction techniques.\n",
        "\n",
        "- Use sklearn's [PCA](http://scikit-learn.org/stable/modules/generated/sklearn.decomposition.PCA.html) class to apply principal component analysis on the data, thus finding the vectors of maximal variance in the data. To start, you should not set any parameters (so all components are computed) or set a number of components that is at least half the number of features (so there's enough features to see the general trend in variability).\n",
        "- Check out the ratio of variance explained by each principal component as well as the cumulative variance explained. Try plotting the cumulative or sequential values using matplotlib's [`plot()`](https://matplotlib.org/api/_as_gen/matplotlib.pyplot.plot.html) function. Based on what you find, select a value for the number of transformed features you'll retain for the clustering part of the project.\n",
        "- Once you've made a choice for the number of components to keep, make sure you re-fit a PCA instance to perform the decided-on transformation."
      ]
    },
    {
      "cell_type": "code",
      "metadata": {
        "id": "GPgRagp0M7KT"
      },
      "source": [
        "# Apply PCA to the data.\n",
        "\n"
      ],
      "execution_count": null,
      "outputs": []
    },
    {
      "cell_type": "code",
      "metadata": {
        "id": "yNBezhJmM7Ka"
      },
      "source": [
        "# Investigate the variance accounted for by each principal component.\n",
        "\n"
      ],
      "execution_count": null,
      "outputs": []
    },
    {
      "cell_type": "code",
      "metadata": {
        "id": "quEtu6MgM7Kh"
      },
      "source": [
        "# Re-apply PCA to the data while selecting for number of components to retain.\n",
        "\n"
      ],
      "execution_count": null,
      "outputs": []
    },
    {
      "cell_type": "markdown",
      "metadata": {
        "id": "a_uzqPquM7Kn"
      },
      "source": [
        "### Discussion 2.2: Perform Dimensionality Reduction\n",
        "\n",
        "(Double-click this cell and replace this text with your own text, reporting your findings and decisions regarding dimensionality reduction. How many principal components / transformed features are you retaining for the next step of the analysis?)"
      ]
    },
    {
      "cell_type": "markdown",
      "metadata": {
        "id": "f6l5qRMqM7Ko"
      },
      "source": [
        "### Step 2.3: Interpret Principal Components\n",
        "\n",
        "Now that we have our transformed principal components, it's a nice idea to check out the weight of each variable on the first few components to see if they can be interpreted in some fashion.\n",
        "\n",
        "As a reminder, each principal component is a unit vector that points in the direction of highest variance (after accounting for the variance captured by earlier principal components). The further a weight is from zero, the more the principal component is in the direction of the corresponding feature. If two features have large weights of the same sign (both positive or both negative), then increases in one tend expect to be associated with increases in the other. To contrast, features with different signs can be expected to show a negative correlation: increases in one variable should result in a decrease in the other.\n",
        "\n",
        "- To investigate the features, you should map each weight to their corresponding feature name, then sort the features according to weight. The most interesting features for each principal component, then, will be those at the beginning and end of the sorted list. Use the data dictionary document to help you understand these most prominent features, their relationships, and what a positive or negative value on the principal component might indicate.\n",
        "- You should investigate and interpret feature associations from the first three principal components in this substep. To help facilitate this, you should write a function that you can call at any time to print the sorted list of feature weights, for the *i*-th principal component. This might come in handy in the next step of the project, when you interpret the tendencies of the discovered clusters."
      ]
    },
    {
      "cell_type": "code",
      "metadata": {
        "id": "hoegKROgM7Kp"
      },
      "source": [
        "# Map weights for the first principal component to corresponding feature names\n",
        "# and then print the linked values, sorted by weight.\n",
        "# HINT: Try defining a function here or in a new cell that you can reuse in the\n",
        "# other cells.\n",
        "\n"
      ],
      "execution_count": null,
      "outputs": []
    },
    {
      "cell_type": "code",
      "metadata": {
        "id": "nDzjSjd3M7Kt"
      },
      "source": [
        "# Map weights for the second principal component to corresponding feature names\n",
        "# and then print the linked values, sorted by weight.\n",
        "\n"
      ],
      "execution_count": null,
      "outputs": []
    },
    {
      "cell_type": "code",
      "metadata": {
        "id": "xoBhfnfyM7Kx"
      },
      "source": [
        "# Map weights for the third principal component to corresponding feature names\n",
        "# and then print the linked values, sorted by weight.\n",
        "\n"
      ],
      "execution_count": null,
      "outputs": []
    },
    {
      "cell_type": "markdown",
      "metadata": {
        "id": "Htms-X2fM7Kz"
      },
      "source": [
        "### Discussion 2.3: Interpret Principal Components\n",
        "\n",
        "(Double-click this cell and replace this text with your own text, reporting your observations from detailed investigation of the first few principal components generated. Can we interpret positive and negative values from them in a meaningful way?)"
      ]
    },
    {
      "cell_type": "markdown",
      "metadata": {
        "id": "FCZB3URoM7K0"
      },
      "source": [
        "## Step 3: Clustering\n",
        "\n",
        "### Step 3.1: Apply Clustering to General Population\n",
        "\n",
        "You've assessed and cleaned the demographics data, then scaled and transformed them. Now, it's time to see how the data clusters in the principal components space. In this substep, you will apply k-means clustering to the dataset and use the average within-cluster distances from each point to their assigned cluster's centroid to decide on a number of clusters to keep.\n",
        "\n",
        "- Use sklearn's [KMeans](http://scikit-learn.org/stable/modules/generated/sklearn.cluster.KMeans.html#sklearn.cluster.KMeans) class to perform k-means clustering on the PCA-transformed data.\n",
        "- Then, compute the average difference from each point to its assigned cluster's center. **Hint**: The KMeans object's `.score()` method might be useful here, but note that in sklearn, scores tend to be defined so that larger is better. Try applying it to a small, toy dataset, or use an internet search to help your understanding.\n",
        "- Perform the above two steps for a number of different cluster counts. You can then see how the average distance decreases with an increasing number of clusters. However, each additional cluster provides a smaller net benefit. Use this fact to select a final number of clusters in which to group the data. **Warning**: because of the large size of the dataset, it can take a long time for the algorithm to resolve. The more clusters to fit, the longer the algorithm will take. You should test for cluster counts through at least 10 clusters to get the full picture, but you shouldn't need to test for a number of clusters above about 30.\n",
        "- Once you've selected a final number of clusters to use, re-fit a KMeans instance to perform the clustering operation. Make sure that you also obtain the cluster assignments for the general demographics data, since you'll be using them in the final Step 3.3."
      ]
    },
    {
      "cell_type": "code",
      "metadata": {
        "id": "lO08Y0c4M7K1"
      },
      "source": [
        "# Over a number of different cluster counts...\n",
        "\n",
        "\n",
        "    # run k-means clustering on the data and...\n",
        "    \n",
        "    \n",
        "    # compute the average within-cluster distances.\n",
        "    \n",
        "    "
      ],
      "execution_count": null,
      "outputs": []
    },
    {
      "cell_type": "code",
      "metadata": {
        "id": "tocpDjfUM7K5"
      },
      "source": [
        "# Investigate the change in within-cluster distance across number of clusters.\n",
        "# HINT: Use matplotlib's plot function to visualize this relationship.\n",
        "\n"
      ],
      "execution_count": null,
      "outputs": []
    },
    {
      "cell_type": "code",
      "metadata": {
        "id": "C-OFkB6QM7K8"
      },
      "source": [
        "# Re-fit the k-means model with the selected number of clusters and obtain\n",
        "# cluster predictions for the general population demographics data.\n",
        "\n"
      ],
      "execution_count": null,
      "outputs": []
    },
    {
      "cell_type": "markdown",
      "metadata": {
        "id": "Psxz0eauM7LB"
      },
      "source": [
        "### Discussion 3.1: Apply Clustering to General Population\n",
        "\n",
        "(Double-click this cell and replace this text with your own text, reporting your findings and decisions regarding clustering. Into how many clusters have you decided to segment the population?)"
      ]
    },
    {
      "cell_type": "markdown",
      "metadata": {
        "id": "GZaJ1QtzM7LC"
      },
      "source": [
        "### Step 3.2: Apply All Steps to the Customer Data\n",
        "\n",
        "Now that you have clusters and cluster centers for the general population, it's time to see how the customer data maps on to those clusters. Take care to not confuse this for re-fitting all of the models to the customer data. Instead, you're going to use the fits from the general population to clean, transform, and cluster the customer data. In the last step of the project, you will interpret how the general population fits apply to the customer data.\n",
        "\n",
        "- Don't forget when loading in the customers data, that it is semicolon (`;`) delimited.\n",
        "- Apply the same feature wrangling, selection, and engineering steps to the customer demographics using the `clean_data()` function you created earlier. (You can assume that the customer demographics data has similar meaning behind missing data patterns as the general demographics data.)\n",
        "- Use the sklearn objects from the general demographics data, and apply their transformations to the customers data. That is, you should not be using a `.fit()` or `.fit_transform()` method to re-fit the old objects, nor should you be creating new sklearn objects! Carry the data through the feature scaling, PCA, and clustering steps, obtaining cluster assignments for all of the data in the customer demographics data."
      ]
    },
    {
      "cell_type": "code",
      "metadata": {
        "id": "ZumqvvWoM7LC"
      },
      "source": [
        "# Load in the customer demographics data.\n",
        "customers = "
      ],
      "execution_count": null,
      "outputs": []
    },
    {
      "cell_type": "code",
      "metadata": {
        "id": "0OruhKtAM7LG"
      },
      "source": [
        "# Apply preprocessing, feature transformation, and clustering from the general\n",
        "# demographics onto the customer data, obtaining cluster predictions for the\n",
        "# customer demographics data.\n",
        "\n"
      ],
      "execution_count": null,
      "outputs": []
    },
    {
      "cell_type": "markdown",
      "metadata": {
        "id": "23mKh8dVM7LL"
      },
      "source": [
        "### Step 3.3: Compare Customer Data to Demographics Data\n",
        "\n",
        "At this point, you have clustered data based on demographics of the general population of Germany, and seen how the customer data for a mail-order sales company maps onto those demographic clusters. In this final substep, you will compare the two cluster distributions to see where the strongest customer base for the company is.\n",
        "\n",
        "Consider the proportion of persons in each cluster for the general population, and the proportions for the customers. If we think the company's customer base to be universal, then the cluster assignment proportions should be fairly similar between the two. If there are only particular segments of the population that are interested in the company's products, then we should see a mismatch from one to the other. If there is a higher proportion of persons in a cluster for the customer data compared to the general population (e.g. 5% of persons are assigned to a cluster for the general population, but 15% of the customer data is closest to that cluster's centroid) then that suggests the people in that cluster to be a target audience for the company. On the other hand, the proportion of the data in a cluster being larger in the general population than the customer data (e.g. only 2% of customers closest to a population centroid that captures 6% of the data) suggests that group of persons to be outside of the target demographics.\n",
        "\n",
        "Take a look at the following points in this step:\n",
        "\n",
        "- Compute the proportion of data points in each cluster for the general population and the customer data. Visualizations will be useful here: both for the individual dataset proportions, but also to visualize the ratios in cluster representation between groups. Seaborn's [`countplot()`](https://seaborn.pydata.org/generated/seaborn.countplot.html) or [`barplot()`](https://seaborn.pydata.org/generated/seaborn.barplot.html) function could be handy.\n",
        "  - Recall the analysis you performed in step 1.1.3 of the project, where you separated out certain data points from the dataset if they had more than a specified threshold of missing values. If you found that this group was qualitatively different from the main bulk of the data, you should treat this as an additional data cluster in this analysis. Make sure that you account for the number of data points in this subset, for both the general population and customer datasets, when making your computations!\n",
        "- Which cluster or clusters are overrepresented in the customer dataset compared to the general population? Select at least one such cluster and infer what kind of people might be represented by that cluster. Use the principal component interpretations from step 2.3 or look at additional components to help you make this inference. Alternatively, you can use the `.inverse_transform()` method of the PCA and StandardScaler objects to transform centroids back to the original data space and interpret the retrieved values directly.\n",
        "- Perform a similar investigation for the underrepresented clusters. Which cluster or clusters are underrepresented in the customer dataset compared to the general population, and what kinds of people are typified by these clusters?"
      ]
    },
    {
      "cell_type": "code",
      "metadata": {
        "id": "JpHHOBtiM7LL"
      },
      "source": [
        "# Compare the proportion of data in each cluster for the customer data to the\n",
        "# proportion of data in each cluster for the general population.\n",
        "\n"
      ],
      "execution_count": null,
      "outputs": []
    },
    {
      "cell_type": "code",
      "metadata": {
        "id": "Cc8Ps0QFM7LS"
      },
      "source": [
        "# What kinds of people are part of a cluster that is overrepresented in the\n",
        "# customer data compared to the general population?\n",
        "\n"
      ],
      "execution_count": null,
      "outputs": []
    },
    {
      "cell_type": "code",
      "metadata": {
        "id": "Amlp83DMM7LV"
      },
      "source": [
        "# What kinds of people are part of a cluster that is underrepresented in the\n",
        "# customer data compared to the general population?\n",
        "\n"
      ],
      "execution_count": null,
      "outputs": []
    },
    {
      "cell_type": "markdown",
      "metadata": {
        "id": "NGhdWhRaM7LZ"
      },
      "source": [
        "### Discussion 3.3: Compare Customer Data to Demographics Data\n",
        "\n",
        "(Double-click this cell and replace this text with your own text, reporting findings and conclusions from the clustering analysis. Can we describe segments of the population that are relatively popular with the mail-order company, or relatively unpopular with the company?)"
      ]
    },
    {
      "cell_type": "markdown",
      "metadata": {
        "id": "mYlwJAxOM7La"
      },
      "source": [
        "> Congratulations on making it this far in the project! Before you finish, make sure to check through the entire notebook from top to bottom to make sure that your analysis follows a logical flow and all of your findings are documented in **Discussion** cells. Once you've checked over all of your work, you should export the notebook as an HTML document to submit for evaluation. You can do this from the menu, navigating to **File -> Download as -> HTML (.html)**. You will submit both that document and this notebook for your project submission."
      ]
    }
  ]
}